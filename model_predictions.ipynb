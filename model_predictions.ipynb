{
 "cells": [
  {
   "cell_type": "code",
   "execution_count": 59,
   "metadata": {
    "collapsed": true
   },
   "outputs": [],
   "source": [
    "import numpy\n",
    "import pandas\n",
    "from matplotlib import pyplot\n",
    "\n",
    "%matplotlib inline"
   ]
  },
  {
   "cell_type": "code",
   "execution_count": 60,
   "metadata": {
    "collapsed": false
   },
   "outputs": [],
   "source": [
    "season_averages = pandas.read_csv(\"SeasonAverages.csv\")\n",
    "season_averages[\"Season\"] = season_averages[\"Season\"].astype(numpy.int32)\n",
    "season_averages[\"Team_Id\"] = season_averages[\"Team_Id\"].astype(numpy.int32)\n",
    "regular_season = pandas.read_csv(\"RegularSeasonCompactResults.csv\")"
   ]
  },
  {
   "cell_type": "code",
   "execution_count": 61,
   "metadata": {
    "collapsed": false
   },
   "outputs": [
    {
     "data": {
      "text/html": [
       "<div>\n",
       "<table border=\"1\" class=\"dataframe\">\n",
       "  <thead>\n",
       "    <tr style=\"text-align: right;\">\n",
       "      <th></th>\n",
       "      <th>score</th>\n",
       "      <th>fgm</th>\n",
       "      <th>fga</th>\n",
       "      <th>fgm3</th>\n",
       "      <th>fga3</th>\n",
       "      <th>ftm</th>\n",
       "      <th>fta</th>\n",
       "      <th>or</th>\n",
       "      <th>dr</th>\n",
       "      <th>ast</th>\n",
       "      <th>to</th>\n",
       "      <th>stl</th>\n",
       "      <th>blk</th>\n",
       "      <th>pf</th>\n",
       "      <th>Team_Id</th>\n",
       "      <th>Season</th>\n",
       "      <th>Team_Name</th>\n",
       "    </tr>\n",
       "  </thead>\n",
       "  <tbody>\n",
       "    <tr>\n",
       "      <th>0</th>\n",
       "      <td>57.250000</td>\n",
       "      <td>19.142857</td>\n",
       "      <td>39.785714</td>\n",
       "      <td>7.821429</td>\n",
       "      <td>20.821429</td>\n",
       "      <td>11.142857</td>\n",
       "      <td>17.107143</td>\n",
       "      <td>4.178571</td>\n",
       "      <td>16.821429</td>\n",
       "      <td>13.000000</td>\n",
       "      <td>11.428571</td>\n",
       "      <td>5.964286</td>\n",
       "      <td>1.785714</td>\n",
       "      <td>18.750000</td>\n",
       "      <td>1102</td>\n",
       "      <td>2003</td>\n",
       "      <td>Air Force</td>\n",
       "    </tr>\n",
       "    <tr>\n",
       "      <th>1</th>\n",
       "      <td>78.777778</td>\n",
       "      <td>27.148148</td>\n",
       "      <td>55.851852</td>\n",
       "      <td>5.444444</td>\n",
       "      <td>16.074074</td>\n",
       "      <td>19.037037</td>\n",
       "      <td>25.851852</td>\n",
       "      <td>9.777778</td>\n",
       "      <td>19.925926</td>\n",
       "      <td>15.222222</td>\n",
       "      <td>12.629630</td>\n",
       "      <td>7.259259</td>\n",
       "      <td>2.333333</td>\n",
       "      <td>19.851852</td>\n",
       "      <td>1103</td>\n",
       "      <td>2003</td>\n",
       "      <td>Akron</td>\n",
       "    </tr>\n",
       "    <tr>\n",
       "      <th>2</th>\n",
       "      <td>69.285714</td>\n",
       "      <td>24.035714</td>\n",
       "      <td>57.178571</td>\n",
       "      <td>6.357143</td>\n",
       "      <td>19.857143</td>\n",
       "      <td>14.857143</td>\n",
       "      <td>20.928571</td>\n",
       "      <td>13.571429</td>\n",
       "      <td>23.928571</td>\n",
       "      <td>12.107143</td>\n",
       "      <td>13.285714</td>\n",
       "      <td>6.607143</td>\n",
       "      <td>3.785714</td>\n",
       "      <td>18.035714</td>\n",
       "      <td>1104</td>\n",
       "      <td>2003</td>\n",
       "      <td>Alabama</td>\n",
       "    </tr>\n",
       "    <tr>\n",
       "      <th>3</th>\n",
       "      <td>71.769231</td>\n",
       "      <td>24.384615</td>\n",
       "      <td>61.615385</td>\n",
       "      <td>7.576923</td>\n",
       "      <td>20.769231</td>\n",
       "      <td>15.423077</td>\n",
       "      <td>21.846154</td>\n",
       "      <td>13.500000</td>\n",
       "      <td>23.115385</td>\n",
       "      <td>14.538462</td>\n",
       "      <td>18.653846</td>\n",
       "      <td>9.307692</td>\n",
       "      <td>2.076923</td>\n",
       "      <td>20.230769</td>\n",
       "      <td>1105</td>\n",
       "      <td>2003</td>\n",
       "      <td>Alabama A&amp;M</td>\n",
       "    </tr>\n",
       "    <tr>\n",
       "      <th>4</th>\n",
       "      <td>63.607143</td>\n",
       "      <td>23.428571</td>\n",
       "      <td>55.285714</td>\n",
       "      <td>6.107143</td>\n",
       "      <td>17.642857</td>\n",
       "      <td>10.642857</td>\n",
       "      <td>16.464286</td>\n",
       "      <td>12.285714</td>\n",
       "      <td>23.857143</td>\n",
       "      <td>11.678571</td>\n",
       "      <td>17.035714</td>\n",
       "      <td>8.357143</td>\n",
       "      <td>3.142857</td>\n",
       "      <td>18.178571</td>\n",
       "      <td>1106</td>\n",
       "      <td>2003</td>\n",
       "      <td>Alabama St</td>\n",
       "    </tr>\n",
       "  </tbody>\n",
       "</table>\n",
       "</div>"
      ],
      "text/plain": [
       "       score        fgm        fga      fgm3       fga3        ftm        fta  \\\n",
       "0  57.250000  19.142857  39.785714  7.821429  20.821429  11.142857  17.107143   \n",
       "1  78.777778  27.148148  55.851852  5.444444  16.074074  19.037037  25.851852   \n",
       "2  69.285714  24.035714  57.178571  6.357143  19.857143  14.857143  20.928571   \n",
       "3  71.769231  24.384615  61.615385  7.576923  20.769231  15.423077  21.846154   \n",
       "4  63.607143  23.428571  55.285714  6.107143  17.642857  10.642857  16.464286   \n",
       "\n",
       "          or         dr        ast         to       stl       blk         pf  \\\n",
       "0   4.178571  16.821429  13.000000  11.428571  5.964286  1.785714  18.750000   \n",
       "1   9.777778  19.925926  15.222222  12.629630  7.259259  2.333333  19.851852   \n",
       "2  13.571429  23.928571  12.107143  13.285714  6.607143  3.785714  18.035714   \n",
       "3  13.500000  23.115385  14.538462  18.653846  9.307692  2.076923  20.230769   \n",
       "4  12.285714  23.857143  11.678571  17.035714  8.357143  3.142857  18.178571   \n",
       "\n",
       "   Team_Id  Season    Team_Name  \n",
       "0     1102    2003    Air Force  \n",
       "1     1103    2003        Akron  \n",
       "2     1104    2003      Alabama  \n",
       "3     1105    2003  Alabama A&M  \n",
       "4     1106    2003   Alabama St  "
      ]
     },
     "execution_count": 61,
     "metadata": {},
     "output_type": "execute_result"
    }
   ],
   "source": [
    "season_averages.head()"
   ]
  },
  {
   "cell_type": "code",
   "execution_count": 62,
   "metadata": {
    "collapsed": false
   },
   "outputs": [],
   "source": [
    "matchup_columns = [\"Season\", \"home_score\", \"home_team\", \"away_score\", \"away_team\"]\n",
    "\n",
    "matchup_rows = []\n",
    "for id, row in regular_season.iterrows():\n",
    "    matchup_rows.append(list(row[[\"Season\", \"Wscore\", \"Wteam\", \"Lscore\", \"Lteam\"]]))\n",
    "    matchup_rows.append(list(row[[\"Season\", \"Lscore\", \"Lteam\", \"Wscore\", \"Wteam\"]]))\n",
    "    \n",
    "matchups = pandas.DataFrame(matchup_rows, columns=matchup_columns)"
   ]
  },
  {
   "cell_type": "code",
   "execution_count": 63,
   "metadata": {
    "collapsed": false
   },
   "outputs": [
    {
     "data": {
      "text/html": [
       "<div>\n",
       "<table border=\"1\" class=\"dataframe\">\n",
       "  <thead>\n",
       "    <tr style=\"text-align: right;\">\n",
       "      <th></th>\n",
       "      <th>Season</th>\n",
       "      <th>home_score</th>\n",
       "      <th>home_team</th>\n",
       "      <th>away_score</th>\n",
       "      <th>away_team</th>\n",
       "    </tr>\n",
       "  </thead>\n",
       "  <tbody>\n",
       "    <tr>\n",
       "      <th>0</th>\n",
       "      <td>1985</td>\n",
       "      <td>81</td>\n",
       "      <td>1228</td>\n",
       "      <td>64</td>\n",
       "      <td>1328</td>\n",
       "    </tr>\n",
       "    <tr>\n",
       "      <th>1</th>\n",
       "      <td>1985</td>\n",
       "      <td>64</td>\n",
       "      <td>1328</td>\n",
       "      <td>81</td>\n",
       "      <td>1228</td>\n",
       "    </tr>\n",
       "    <tr>\n",
       "      <th>2</th>\n",
       "      <td>1985</td>\n",
       "      <td>77</td>\n",
       "      <td>1106</td>\n",
       "      <td>70</td>\n",
       "      <td>1354</td>\n",
       "    </tr>\n",
       "    <tr>\n",
       "      <th>3</th>\n",
       "      <td>1985</td>\n",
       "      <td>70</td>\n",
       "      <td>1354</td>\n",
       "      <td>77</td>\n",
       "      <td>1106</td>\n",
       "    </tr>\n",
       "    <tr>\n",
       "      <th>4</th>\n",
       "      <td>1985</td>\n",
       "      <td>63</td>\n",
       "      <td>1112</td>\n",
       "      <td>56</td>\n",
       "      <td>1223</td>\n",
       "    </tr>\n",
       "  </tbody>\n",
       "</table>\n",
       "</div>"
      ],
      "text/plain": [
       "   Season  home_score  home_team  away_score  away_team\n",
       "0    1985          81       1228          64       1328\n",
       "1    1985          64       1328          81       1228\n",
       "2    1985          77       1106          70       1354\n",
       "3    1985          70       1354          77       1106\n",
       "4    1985          63       1112          56       1223"
      ]
     },
     "execution_count": 63,
     "metadata": {},
     "output_type": "execute_result"
    }
   ],
   "source": [
    "matchups.head()"
   ]
  },
  {
   "cell_type": "code",
   "execution_count": 64,
   "metadata": {
    "collapsed": false
   },
   "outputs": [
    {
     "data": {
      "text/plain": [
       "301368"
      ]
     },
     "execution_count": 64,
     "metadata": {},
     "output_type": "execute_result"
    }
   ],
   "source": [
    "len(matchups)"
   ]
  },
  {
   "cell_type": "code",
   "execution_count": 65,
   "metadata": {
    "collapsed": false
   },
   "outputs": [
    {
     "data": {
      "text/plain": [
       "Index([u'Season', u'home_score', u'home_team', u'away_score', u'away_team'], dtype='object')"
      ]
     },
     "execution_count": 65,
     "metadata": {},
     "output_type": "execute_result"
    }
   ],
   "source": [
    "matchups.columns"
   ]
  },
  {
   "cell_type": "code",
   "execution_count": 66,
   "metadata": {
    "collapsed": false
   },
   "outputs": [],
   "source": [
    "matchups = matchups.merge(season_averages, how=\"inner\",\n",
    "                          left_on=[\"Season\", \"home_team\"],\n",
    "                          right_on=[\"Season\", \"Team_Id\"],\n",
    "                          suffixes=(\"_woah\", \"_home\"))\n",
    "\n",
    "matchups = matchups.merge(season_averages, how=\"inner\",\n",
    "                          left_on=[\"Season\", \"away_team\"],\n",
    "                          right_on=[\"Season\", \"Team_Id\"],\n",
    "                          suffixes=(\"_home\", \"_away\"))"
   ]
  },
  {
   "cell_type": "code",
   "execution_count": 67,
   "metadata": {
    "collapsed": false
   },
   "outputs": [
    {
     "data": {
      "text/plain": [
       "Index([u'Season', u'home_score', u'home_team', u'away_score', u'away_team',\n",
       "       u'score_home', u'fgm_home', u'fga_home', u'fgm3_home', u'fga3_home',\n",
       "       u'ftm_home', u'fta_home', u'or_home', u'dr_home', u'ast_home',\n",
       "       u'to_home', u'stl_home', u'blk_home', u'pf_home', u'Team_Id_home',\n",
       "       u'Team_Name_home', u'score_away', u'fgm_away', u'fga_away',\n",
       "       u'fgm3_away', u'fga3_away', u'ftm_away', u'fta_away', u'or_away',\n",
       "       u'dr_away', u'ast_away', u'to_away', u'stl_away', u'blk_away',\n",
       "       u'pf_away', u'Team_Id_away', u'Team_Name_away'],\n",
       "      dtype='object')"
      ]
     },
     "execution_count": 67,
     "metadata": {},
     "output_type": "execute_result"
    }
   ],
   "source": [
    "matchups.columns"
   ]
  },
  {
   "cell_type": "code",
   "execution_count": 68,
   "metadata": {
    "collapsed": false
   },
   "outputs": [],
   "source": [
    "input_columns = [col for col in matchups.columns \n",
    "                    if not (col.startswith(\"Team_\")) \n",
    "                    and (col.endswith(\"_away\") or col.endswith(\"_home\"))]"
   ]
  },
  {
   "cell_type": "code",
   "execution_count": 69,
   "metadata": {
    "collapsed": false
   },
   "outputs": [
    {
     "data": {
      "text/plain": [
       "['score_home',\n",
       " 'fgm_home',\n",
       " 'fga_home',\n",
       " 'fgm3_home',\n",
       " 'fga3_home',\n",
       " 'ftm_home',\n",
       " 'fta_home',\n",
       " 'or_home',\n",
       " 'dr_home',\n",
       " 'ast_home',\n",
       " 'to_home',\n",
       " 'stl_home',\n",
       " 'blk_home',\n",
       " 'pf_home',\n",
       " 'score_away',\n",
       " 'fgm_away',\n",
       " 'fga_away',\n",
       " 'fgm3_away',\n",
       " 'fga3_away',\n",
       " 'ftm_away',\n",
       " 'fta_away',\n",
       " 'or_away',\n",
       " 'dr_away',\n",
       " 'ast_away',\n",
       " 'to_away',\n",
       " 'stl_away',\n",
       " 'blk_away',\n",
       " 'pf_away']"
      ]
     },
     "execution_count": 69,
     "metadata": {},
     "output_type": "execute_result"
    }
   ],
   "source": [
    "input_columns"
   ]
  },
  {
   "cell_type": "code",
   "execution_count": 70,
   "metadata": {
    "collapsed": true
   },
   "outputs": [],
   "source": [
    "matchups[\"home_win\"] = matchups[\"home_score\"] > matchups[\"away_score\"]"
   ]
  },
  {
   "cell_type": "code",
   "execution_count": 71,
   "metadata": {
    "collapsed": false
   },
   "outputs": [
    {
     "data": {
      "text/plain": [
       "True     76636\n",
       "False    76636\n",
       "Name: home_win, dtype: int64"
      ]
     },
     "execution_count": 71,
     "metadata": {},
     "output_type": "execute_result"
    }
   ],
   "source": [
    "matchups[\"home_win\"].value_counts()"
   ]
  },
  {
   "cell_type": "code",
   "execution_count": 72,
   "metadata": {
    "collapsed": false
   },
   "outputs": [],
   "source": [
    "x_unscaled = matchups[input_columns] \n",
    "from sklearn import preprocessing\n",
    "    \n",
    "scaler = preprocessing.RobustScaler()\n",
    "x = scaler.fit_transform(x_unscaled)\n",
    "y = matchups[\"home_win\"]"
   ]
  },
  {
   "cell_type": "code",
   "execution_count": 73,
   "metadata": {
    "collapsed": false
   },
   "outputs": [],
   "source": [
    "from sklearn import cross_validation\n",
    "\n",
    "kfold = cross_validation.StratifiedKFold(y, n_folds=5, shuffle=True)"
   ]
  },
  {
   "cell_type": "code",
   "execution_count": 82,
   "metadata": {
    "collapsed": false
   },
   "outputs": [
    {
     "name": "stdout",
     "output_type": "stream",
     "text": [
      "score: 0.71056236952\n",
      "score: 0.718470672669\n",
      "score: 0.713185881125\n",
      "score: 0.713707835845\n",
      "score: 0.715338944347\n"
     ]
    }
   ],
   "source": [
    "from sklearn import ensemble\n",
    "from sklearn import grid_search\n",
    "\n",
    "model_class = ensemble.GradientBoostingClassifier()\n",
    "#model = ensemble.RandomForestClassifier()\n",
    "\n",
    "params = {'n_estimators': scipy.stats.randint(50, 150),\n",
    "          'learning_rate': scipy.stats.expon(scale=.1),\n",
    "          'max_depth': [2, 3, 4, 5],\n",
    "          'subsample':scipy.stats.uniform(loc=0.5, scale=0.5)}\n",
    "\n",
    "n_iter = 80\n",
    "\n",
    "models = []\n",
    "for train_index, test_index in kfold:\n",
    "    x_train, x_test = x[train_index], x[test_index]\n",
    "    y_train, y_test = y[train_index], y[test_index]\n",
    "    g_search = grid_search.RandomizedSearchCV(model_class,\n",
    "                                                 param_distributions=params,\n",
    "                                                 n_iter=n_iter,\n",
    "                                                 n_jobs=16)\n",
    "    g_search.fit(x_train, y_train)\n",
    "    print \"score:\", g_search.score(x_test, y_test)\n",
    "    models.append(g_search)\n"
   ]
  },
  {
   "cell_type": "code",
   "execution_count": 83,
   "metadata": {
    "collapsed": true
   },
   "outputs": [],
   "source": [
    "import cPickle as pickle"
   ]
  },
  {
   "cell_type": "code",
   "execution_count": 86,
   "metadata": {
    "collapsed": false
   },
   "outputs": [],
   "source": [
    "pickle.dump(models, open(\"2017-03-15_gbc_cv_opt.pkl\", 'w'))"
   ]
  },
  {
   "cell_type": "markdown",
   "metadata": {},
   "source": [
    "## Load 2017 data"
   ]
  },
  {
   "cell_type": "code",
   "execution_count": 87,
   "metadata": {
    "collapsed": true
   },
   "outputs": [],
   "source": [
    "import operator\n",
    "submission = pandas.read_csv(\"SampleSubmission.csv\")\n",
    "sub_split = submission[\"Id\"].str.split(\"_\")\n",
    "submission[\"Season\"] = sub_split.map(operator.itemgetter(0)).astype(numpy.int32)\n",
    "submission[\"home_team\"] = sub_split.map(operator.itemgetter(1)).astype(numpy.int32)\n",
    "submission[\"away_team\"] = sub_split.map(operator.itemgetter(2)).astype(numpy.int32)\n"
   ]
  },
  {
   "cell_type": "code",
   "execution_count": 88,
   "metadata": {
    "collapsed": false
   },
   "outputs": [
    {
     "data": {
      "text/html": [
       "<div>\n",
       "<table border=\"1\" class=\"dataframe\">\n",
       "  <thead>\n",
       "    <tr style=\"text-align: right;\">\n",
       "      <th></th>\n",
       "      <th>Id</th>\n",
       "      <th>Pred</th>\n",
       "      <th>Season</th>\n",
       "      <th>home_team</th>\n",
       "      <th>away_team</th>\n",
       "    </tr>\n",
       "  </thead>\n",
       "  <tbody>\n",
       "    <tr>\n",
       "      <th>0</th>\n",
       "      <td>2017_1112_1116</td>\n",
       "      <td>0.5</td>\n",
       "      <td>2017</td>\n",
       "      <td>1112</td>\n",
       "      <td>1116</td>\n",
       "    </tr>\n",
       "    <tr>\n",
       "      <th>1</th>\n",
       "      <td>2017_1112_1124</td>\n",
       "      <td>0.5</td>\n",
       "      <td>2017</td>\n",
       "      <td>1112</td>\n",
       "      <td>1124</td>\n",
       "    </tr>\n",
       "    <tr>\n",
       "      <th>2</th>\n",
       "      <td>2017_1112_1137</td>\n",
       "      <td>0.5</td>\n",
       "      <td>2017</td>\n",
       "      <td>1112</td>\n",
       "      <td>1137</td>\n",
       "    </tr>\n",
       "    <tr>\n",
       "      <th>3</th>\n",
       "      <td>2017_1112_1139</td>\n",
       "      <td>0.5</td>\n",
       "      <td>2017</td>\n",
       "      <td>1112</td>\n",
       "      <td>1139</td>\n",
       "    </tr>\n",
       "    <tr>\n",
       "      <th>4</th>\n",
       "      <td>2017_1112_1153</td>\n",
       "      <td>0.5</td>\n",
       "      <td>2017</td>\n",
       "      <td>1112</td>\n",
       "      <td>1153</td>\n",
       "    </tr>\n",
       "  </tbody>\n",
       "</table>\n",
       "</div>"
      ],
      "text/plain": [
       "               Id  Pred  Season  home_team  away_team\n",
       "0  2017_1112_1116   0.5    2017       1112       1116\n",
       "1  2017_1112_1124   0.5    2017       1112       1124\n",
       "2  2017_1112_1137   0.5    2017       1112       1137\n",
       "3  2017_1112_1139   0.5    2017       1112       1139\n",
       "4  2017_1112_1153   0.5    2017       1112       1153"
      ]
     },
     "execution_count": 88,
     "metadata": {},
     "output_type": "execute_result"
    }
   ],
   "source": [
    "submission.head()"
   ]
  },
  {
   "cell_type": "code",
   "execution_count": 89,
   "metadata": {
    "collapsed": false
   },
   "outputs": [],
   "source": [
    "submission = submission.merge(season_averages, how=\"inner\",\n",
    "                          left_on=[\"Season\", \"home_team\"],\n",
    "                          right_on=[\"Season\", \"Team_Id\"],\n",
    "                          suffixes=(\"_woah\", \"_home\"))\n",
    "\n",
    "submission = submission.merge(season_averages, how=\"inner\",\n",
    "                          left_on=[\"Season\", \"away_team\"],\n",
    "                          right_on=[\"Season\", \"Team_Id\"],\n",
    "                          suffixes=(\"_home\", \"_away\"))"
   ]
  },
  {
   "cell_type": "code",
   "execution_count": 90,
   "metadata": {
    "collapsed": false
   },
   "outputs": [
    {
     "data": {
      "text/html": [
       "<div>\n",
       "<table border=\"1\" class=\"dataframe\">\n",
       "  <thead>\n",
       "    <tr style=\"text-align: right;\">\n",
       "      <th></th>\n",
       "      <th>Id</th>\n",
       "      <th>Pred</th>\n",
       "      <th>Season</th>\n",
       "      <th>home_team</th>\n",
       "      <th>away_team</th>\n",
       "      <th>score_home</th>\n",
       "      <th>fgm_home</th>\n",
       "      <th>fga_home</th>\n",
       "      <th>fgm3_home</th>\n",
       "      <th>fga3_home</th>\n",
       "      <th>...</th>\n",
       "      <th>fta_away</th>\n",
       "      <th>or_away</th>\n",
       "      <th>dr_away</th>\n",
       "      <th>ast_away</th>\n",
       "      <th>to_away</th>\n",
       "      <th>stl_away</th>\n",
       "      <th>blk_away</th>\n",
       "      <th>pf_away</th>\n",
       "      <th>Team_Id_away</th>\n",
       "      <th>Team_Name_away</th>\n",
       "    </tr>\n",
       "  </thead>\n",
       "  <tbody>\n",
       "    <tr>\n",
       "      <th>0</th>\n",
       "      <td>2017_1112_1116</td>\n",
       "      <td>0.5</td>\n",
       "      <td>2017</td>\n",
       "      <td>1112</td>\n",
       "      <td>1116</td>\n",
       "      <td>76.264706</td>\n",
       "      <td>26.205882</td>\n",
       "      <td>55.088235</td>\n",
       "      <td>6.735294</td>\n",
       "      <td>16.941176</td>\n",
       "      <td>...</td>\n",
       "      <td>23.352941</td>\n",
       "      <td>11.323529</td>\n",
       "      <td>24.941176</td>\n",
       "      <td>14.088235</td>\n",
       "      <td>11.735294</td>\n",
       "      <td>7.529412</td>\n",
       "      <td>4.735294</td>\n",
       "      <td>20.588235</td>\n",
       "      <td>1116</td>\n",
       "      <td>Arkansas</td>\n",
       "    </tr>\n",
       "    <tr>\n",
       "      <th>1</th>\n",
       "      <td>2017_1112_1124</td>\n",
       "      <td>0.5</td>\n",
       "      <td>2017</td>\n",
       "      <td>1112</td>\n",
       "      <td>1124</td>\n",
       "      <td>76.264706</td>\n",
       "      <td>26.205882</td>\n",
       "      <td>55.088235</td>\n",
       "      <td>6.735294</td>\n",
       "      <td>16.941176</td>\n",
       "      <td>...</td>\n",
       "      <td>18.903226</td>\n",
       "      <td>12.677419</td>\n",
       "      <td>24.935484</td>\n",
       "      <td>15.483871</td>\n",
       "      <td>13.419355</td>\n",
       "      <td>5.129032</td>\n",
       "      <td>4.870968</td>\n",
       "      <td>17.677419</td>\n",
       "      <td>1124</td>\n",
       "      <td>Baylor</td>\n",
       "    </tr>\n",
       "    <tr>\n",
       "      <th>2</th>\n",
       "      <td>2017_1116_1124</td>\n",
       "      <td>0.5</td>\n",
       "      <td>2017</td>\n",
       "      <td>1116</td>\n",
       "      <td>1124</td>\n",
       "      <td>79.794118</td>\n",
       "      <td>27.735294</td>\n",
       "      <td>60.176471</td>\n",
       "      <td>6.529412</td>\n",
       "      <td>17.941176</td>\n",
       "      <td>...</td>\n",
       "      <td>18.903226</td>\n",
       "      <td>12.677419</td>\n",
       "      <td>24.935484</td>\n",
       "      <td>15.483871</td>\n",
       "      <td>13.419355</td>\n",
       "      <td>5.129032</td>\n",
       "      <td>4.870968</td>\n",
       "      <td>17.677419</td>\n",
       "      <td>1124</td>\n",
       "      <td>Baylor</td>\n",
       "    </tr>\n",
       "    <tr>\n",
       "      <th>3</th>\n",
       "      <td>2017_1112_1137</td>\n",
       "      <td>0.5</td>\n",
       "      <td>2017</td>\n",
       "      <td>1112</td>\n",
       "      <td>1137</td>\n",
       "      <td>76.264706</td>\n",
       "      <td>26.205882</td>\n",
       "      <td>55.088235</td>\n",
       "      <td>6.735294</td>\n",
       "      <td>16.941176</td>\n",
       "      <td>...</td>\n",
       "      <td>20.794118</td>\n",
       "      <td>8.617647</td>\n",
       "      <td>25.823529</td>\n",
       "      <td>14.617647</td>\n",
       "      <td>13.264706</td>\n",
       "      <td>7.176471</td>\n",
       "      <td>3.823529</td>\n",
       "      <td>18.529412</td>\n",
       "      <td>1137</td>\n",
       "      <td>Bucknell</td>\n",
       "    </tr>\n",
       "    <tr>\n",
       "      <th>4</th>\n",
       "      <td>2017_1116_1137</td>\n",
       "      <td>0.5</td>\n",
       "      <td>2017</td>\n",
       "      <td>1116</td>\n",
       "      <td>1137</td>\n",
       "      <td>79.794118</td>\n",
       "      <td>27.735294</td>\n",
       "      <td>60.176471</td>\n",
       "      <td>6.529412</td>\n",
       "      <td>17.941176</td>\n",
       "      <td>...</td>\n",
       "      <td>20.794118</td>\n",
       "      <td>8.617647</td>\n",
       "      <td>25.823529</td>\n",
       "      <td>14.617647</td>\n",
       "      <td>13.264706</td>\n",
       "      <td>7.176471</td>\n",
       "      <td>3.823529</td>\n",
       "      <td>18.529412</td>\n",
       "      <td>1137</td>\n",
       "      <td>Bucknell</td>\n",
       "    </tr>\n",
       "  </tbody>\n",
       "</table>\n",
       "<p>5 rows × 37 columns</p>\n",
       "</div>"
      ],
      "text/plain": [
       "               Id  Pred  Season  home_team  away_team  score_home   fgm_home  \\\n",
       "0  2017_1112_1116   0.5    2017       1112       1116   76.264706  26.205882   \n",
       "1  2017_1112_1124   0.5    2017       1112       1124   76.264706  26.205882   \n",
       "2  2017_1116_1124   0.5    2017       1116       1124   79.794118  27.735294   \n",
       "3  2017_1112_1137   0.5    2017       1112       1137   76.264706  26.205882   \n",
       "4  2017_1116_1137   0.5    2017       1116       1137   79.794118  27.735294   \n",
       "\n",
       "    fga_home  fgm3_home  fga3_home       ...         fta_away    or_away  \\\n",
       "0  55.088235   6.735294  16.941176       ...        23.352941  11.323529   \n",
       "1  55.088235   6.735294  16.941176       ...        18.903226  12.677419   \n",
       "2  60.176471   6.529412  17.941176       ...        18.903226  12.677419   \n",
       "3  55.088235   6.735294  16.941176       ...        20.794118   8.617647   \n",
       "4  60.176471   6.529412  17.941176       ...        20.794118   8.617647   \n",
       "\n",
       "     dr_away   ast_away    to_away  stl_away  blk_away    pf_away  \\\n",
       "0  24.941176  14.088235  11.735294  7.529412  4.735294  20.588235   \n",
       "1  24.935484  15.483871  13.419355  5.129032  4.870968  17.677419   \n",
       "2  24.935484  15.483871  13.419355  5.129032  4.870968  17.677419   \n",
       "3  25.823529  14.617647  13.264706  7.176471  3.823529  18.529412   \n",
       "4  25.823529  14.617647  13.264706  7.176471  3.823529  18.529412   \n",
       "\n",
       "   Team_Id_away  Team_Name_away  \n",
       "0          1116        Arkansas  \n",
       "1          1124          Baylor  \n",
       "2          1124          Baylor  \n",
       "3          1137        Bucknell  \n",
       "4          1137        Bucknell  \n",
       "\n",
       "[5 rows x 37 columns]"
      ]
     },
     "execution_count": 90,
     "metadata": {},
     "output_type": "execute_result"
    }
   ],
   "source": [
    "submission.head()"
   ]
  },
  {
   "cell_type": "code",
   "execution_count": 91,
   "metadata": {
    "collapsed": false
   },
   "outputs": [],
   "source": [
    "sub_x = scaler.transform(submission[input_columns])"
   ]
  },
  {
   "cell_type": "code",
   "execution_count": 92,
   "metadata": {
    "collapsed": false
   },
   "outputs": [
    {
     "data": {
      "text/plain": [
       "(array([   0.,    0.,    2.,   37.,   73.,  146.,  138.,  215.,  230.,\n",
       "         256.,  265.,  221.,  221.,  186.,  138.,  107.,   38.,    5.,\n",
       "           0.,    0.]),\n",
       " array([ 0.  ,  0.05,  0.1 ,  0.15,  0.2 ,  0.25,  0.3 ,  0.35,  0.4 ,\n",
       "         0.45,  0.5 ,  0.55,  0.6 ,  0.65,  0.7 ,  0.75,  0.8 ,  0.85,\n",
       "         0.9 ,  0.95,  1.  ]),\n",
       " <a list of 20 Patch objects>)"
      ]
     },
     "execution_count": 92,
     "metadata": {},
     "output_type": "execute_result"
    },
    {
     "data": {
      "image/png": "[encoded data removed]",
      "text/plain": [
       "<matplotlib.figure.Figure at 0x1056de910>"
      ]
     },
     "metadata": {},
     "output_type": "display_data"
    }
   ],
   "source": [
    "pyplot.hist(map(operator.itemgetter(1), model.predict_proba(sub_x)),\n",
    "            bins=numpy.linspace(0, 1, 21))"
   ]
  },
  {
   "cell_type": "code",
   "execution_count": 93,
   "metadata": {
    "collapsed": false
   },
   "outputs": [
    {
     "data": {
      "text/plain": [
       "(array([  1.00000000e+00,   1.33000000e+02,   6.40000000e+02,\n",
       "          1.19400000e+03,   1.74700000e+03,   2.11100000e+03,\n",
       "          2.23400000e+03,   2.35400000e+03,   2.48300000e+03,\n",
       "          2.42700000e+03,   2.42500000e+03,   2.48200000e+03,\n",
       "          2.32000000e+03,   2.18500000e+03,   2.06600000e+03,\n",
       "          1.71100000e+03,   1.30500000e+03,   6.77000000e+02,\n",
       "          1.59000000e+02,   0.00000000e+00]),\n",
       " array([ 0.  ,  0.05,  0.1 ,  0.15,  0.2 ,  0.25,  0.3 ,  0.35,  0.4 ,\n",
       "         0.45,  0.5 ,  0.55,  0.6 ,  0.65,  0.7 ,  0.75,  0.8 ,  0.85,\n",
       "         0.9 ,  0.95,  1.  ]),\n",
       " <a list of 20 Patch objects>)"
      ]
     },
     "execution_count": 93,
     "metadata": {},
     "output_type": "execute_result"
    },
    {
     "data": {
      "image/png": "[encoded data removed]",
      "text/plain": [
       "<matplotlib.figure.Figure at 0x11ccd7a10>"
      ]
     },
     "metadata": {},
     "output_type": "display_data"
    }
   ],
   "source": [
    "pyplot.hist(map(operator.itemgetter(1), model.predict_proba(x_test)),\n",
    "            bins=numpy.linspace(0, 1, 21))"
   ]
  },
  {
   "cell_type": "code",
   "execution_count": 94,
   "metadata": {
    "collapsed": false
   },
   "outputs": [
    {
     "data": {
      "text/plain": [
       "(array([   0.,    0.,    6.,   46.,   77.,  159.,  167.,  226.,  228.,\n",
       "         254.,  238.,  242.,  220.,  168.,  128.,   81.,   34.,    4.,\n",
       "           0.,    0.]),\n",
       " array([ 0.  ,  0.05,  0.1 ,  0.15,  0.2 ,  0.25,  0.3 ,  0.35,  0.4 ,\n",
       "         0.45,  0.5 ,  0.55,  0.6 ,  0.65,  0.7 ,  0.75,  0.8 ,  0.85,\n",
       "         0.9 ,  0.95,  1.  ]),\n",
       " <a list of 20 Patch objects>)"
      ]
     },
     "execution_count": 94,
     "metadata": {},
     "output_type": "execute_result"
    },
    {
     "data": {
      "image/png": "[encoded data removed]",
      "text/plain": [
       "<matplotlib.figure.Figure at 0x116a3ce10>"
      ]
     },
     "metadata": {},
     "output_type": "display_data"
    }
   ],
   "source": [
    "import operator\n",
    "submission = pandas.read_csv(\"SampleSubmission.csv\")\n",
    "sub_split = submission[\"Id\"].str.split(\"_\")\n",
    "submission[\"Season\"] = sub_split.map(operator.itemgetter(0)).astype(numpy.int32)\n",
    "submission[\"home_team\"] = sub_split.map(operator.itemgetter(2)).astype(numpy.int32)\n",
    "submission[\"away_team\"] = sub_split.map(operator.itemgetter(1)).astype(numpy.int32)\n",
    "\n",
    "submission.head()\n",
    "submission = submission.merge(season_averages, how=\"inner\",\n",
    "                          left_on=[\"Season\", \"home_team\"],\n",
    "                          right_on=[\"Season\", \"Team_Id\"],\n",
    "                          suffixes=(\"_woah\", \"_home\"))\n",
    "\n",
    "submission = submission.merge(season_averages, how=\"inner\",\n",
    "                          left_on=[\"Season\", \"away_team\"],\n",
    "                          right_on=[\"Season\", \"Team_Id\"],\n",
    "                          suffixes=(\"_home\", \"_away\"))\n",
    "submission.head()\n",
    "sub_x = scaler.transform(submission[input_columns])\n",
    "pyplot.hist(map(operator.itemgetter(1), model.predict_proba(sub_x)),\n",
    "            bins=numpy.linspace(0, 1, 21))\n"
   ]
  },
  {
   "cell_type": "markdown",
   "metadata": {
    "collapsed": true
   },
   "source": [
    "## Past Tourney Data\n",
    "\n"
   ]
  },
  {
   "cell_type": "code",
   "execution_count": 95,
   "metadata": {
    "collapsed": true
   },
   "outputs": [],
   "source": [
    "real_tourney_results = pandas.read_csv(\"TourneyCompactResults.csv\")\n",
    "matchup_columns = [\"Season\", \"home_score\", \"home_team\", \"away_score\", \"away_team\"]\n",
    "\n",
    "matchup_rows = []\n",
    "for id, row in real_tourney_results.iterrows():\n",
    "    matchup_rows.append(list(row[[\"Season\", \"Wscore\", \"Wteam\", \"Lscore\", \"Lteam\"]]))\n",
    "    matchup_rows.append(list(row[[\"Season\", \"Lscore\", \"Lteam\", \"Wscore\", \"Wteam\"]]))\n",
    "    \n",
    "tourney_matchups = pandas.DataFrame(matchup_rows, columns=matchup_columns)\n",
    "\n",
    "tourney_matchups = tourney_matchups.merge(season_averages, how=\"inner\",\n",
    "                          left_on=[\"Season\", \"home_team\"],\n",
    "                          right_on=[\"Season\", \"Team_Id\"],\n",
    "                          suffixes=(\"_woah\", \"_home\"))\n",
    "\n",
    "tourney_matchups = tourney_matchups.merge(season_averages, how=\"inner\",\n",
    "                          left_on=[\"Season\", \"away_team\"],\n",
    "                          right_on=[\"Season\", \"Team_Id\"],\n",
    "                          suffixes=(\"_home\", \"_away\"))\n",
    "tourney_matchups[\"home_win\"] = tourney_matchups[\"home_score\"] > tourney_matchups[\"away_score\"]"
   ]
  },
  {
   "cell_type": "code",
   "execution_count": 96,
   "metadata": {
    "collapsed": true
   },
   "outputs": [],
   "source": [
    "tourney_x = scaler.transform(tourney_matchups[input_columns])\n",
    "tourney_y = tourney_matchups[\"home_win\"]"
   ]
  },
  {
   "cell_type": "code",
   "execution_count": 97,
   "metadata": {
    "collapsed": false
   },
   "outputs": [
    {
     "data": {
      "text/plain": [
       "0.64442013129102849"
      ]
     },
     "execution_count": 97,
     "metadata": {},
     "output_type": "execute_result"
    }
   ],
   "source": [
    "model.score(tourney_x, tourney_y)"
   ]
  },
  {
   "cell_type": "code",
   "execution_count": 98,
   "metadata": {
    "collapsed": false
   },
   "outputs": [
    {
     "data": {
      "text/plain": [
       "(array([   0.,    0.,   10.,   33.,   70.,   97.,  128.,  181.,  176.,\n",
       "         211.,  205.,  189.,  164.,  163.,   89.,   67.,   34.,   11.,\n",
       "           0.,    0.]),\n",
       " array([ 0.  ,  0.05,  0.1 ,  0.15,  0.2 ,  0.25,  0.3 ,  0.35,  0.4 ,\n",
       "         0.45,  0.5 ,  0.55,  0.6 ,  0.65,  0.7 ,  0.75,  0.8 ,  0.85,\n",
       "         0.9 ,  0.95,  1.  ]),\n",
       " <a list of 20 Patch objects>)"
      ]
     },
     "execution_count": 98,
     "metadata": {},
     "output_type": "execute_result"
    },
    {
     "data": {
      "image/png": "[encoded data removed]",
      "text/plain": [
       "<matplotlib.figure.Figure at 0x1176d1390>"
      ]
     },
     "metadata": {},
     "output_type": "display_data"
    }
   ],
   "source": [
    "pyplot.hist(map(operator.itemgetter(1), model.predict_proba(tourney_x)),\n",
    "            bins=numpy.linspace(0, 1, 21))"
   ]
  },
  {
   "cell_type": "code",
   "execution_count": null,
   "metadata": {
    "collapsed": true
   },
   "outputs": [],
   "source": []
  },
  {
   "cell_type": "code",
   "execution_count": null,
   "metadata": {
    "collapsed": true
   },
   "outputs": [],
   "source": []
  }
 ],
 "metadata": {
  "anaconda-cloud": {},
  "kernelspec": {
   "display_name": "Python [default]",
   "language": "python",
   "name": "python2"
  },
  "language_info": {
   "codemirror_mode": {
    "name": "ipython",
    "version": 2
   },
   "file_extension": ".py",
   "mimetype": "text/x-python",
   "name": "python",
   "nbconvert_exporter": "python",
   "pygments_lexer": "ipython2",
   "version": "2.7.12"
  }
 },
 "nbformat": 4,
 "nbformat_minor": 1
}
