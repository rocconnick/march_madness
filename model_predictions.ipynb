{
 "cells": [
  {
   "cell_type": "code",
   "execution_count": 1,
   "metadata": {
    "collapsed": true
   },
   "outputs": [],
   "source": [
    "import numpy\n",
    "import pandas\n",
    "from matplotlib import pyplot\n",
    "\n",
    "%matplotlib inline"
   ]
  },
  {
   "cell_type": "code",
   "execution_count": 2,
   "metadata": {
    "collapsed": false
   },
   "outputs": [],
   "source": [
    "season_averages = pandas.read_csv(\"SeasonAverages.csv\")\n",
    "season_averages[\"Season\"] = season_averages[\"Season\"].astype(numpy.int32)\n",
    "season_averages[\"Team_Id\"] = season_averages[\"Team_Id\"].astype(numpy.int32)\n",
    "regular_season = pandas.read_csv(\"RegularSeasonCompactResults.csv\")\n",
    "\n",
    "tourney_seeds = pandas.read_csv(\"TourneySeeds.csv\")\n",
    "tourney_seeds[\"Seed\"] = tourney_seeds[\"Seed\"].str.slice(1, 3).astype(numpy.int32)\n",
    "tourney_seeds[\"Season\"] = tourney_seeds[\"Season\"].astype(numpy.int32)\n",
    "tourney_seeds[\"Team\"] = tourney_seeds[\"Team\"].astype(numpy.int32)\n"
   ]
  },
  {
   "cell_type": "code",
   "execution_count": 3,
   "metadata": {
    "collapsed": false
   },
   "outputs": [
    {
     "data": {
      "text/html": [
       "<div>\n",
       "<table border=\"1\" class=\"dataframe\">\n",
       "  <thead>\n",
       "    <tr style=\"text-align: right;\">\n",
       "      <th></th>\n",
       "      <th>score</th>\n",
       "      <th>fgm</th>\n",
       "      <th>fga</th>\n",
       "      <th>fgm3</th>\n",
       "      <th>fga3</th>\n",
       "      <th>ftm</th>\n",
       "      <th>fta</th>\n",
       "      <th>or</th>\n",
       "      <th>dr</th>\n",
       "      <th>ast</th>\n",
       "      <th>to</th>\n",
       "      <th>stl</th>\n",
       "      <th>blk</th>\n",
       "      <th>pf</th>\n",
       "      <th>Team_Id</th>\n",
       "      <th>Season</th>\n",
       "      <th>Team_Name</th>\n",
       "    </tr>\n",
       "  </thead>\n",
       "  <tbody>\n",
       "    <tr>\n",
       "      <th>0</th>\n",
       "      <td>57.250000</td>\n",
       "      <td>19.142857</td>\n",
       "      <td>39.785714</td>\n",
       "      <td>7.821429</td>\n",
       "      <td>20.821429</td>\n",
       "      <td>11.142857</td>\n",
       "      <td>17.107143</td>\n",
       "      <td>4.178571</td>\n",
       "      <td>16.821429</td>\n",
       "      <td>13.000000</td>\n",
       "      <td>11.428571</td>\n",
       "      <td>5.964286</td>\n",
       "      <td>1.785714</td>\n",
       "      <td>18.750000</td>\n",
       "      <td>1102</td>\n",
       "      <td>2003</td>\n",
       "      <td>Air Force</td>\n",
       "    </tr>\n",
       "    <tr>\n",
       "      <th>1</th>\n",
       "      <td>78.777778</td>\n",
       "      <td>27.148148</td>\n",
       "      <td>55.851852</td>\n",
       "      <td>5.444444</td>\n",
       "      <td>16.074074</td>\n",
       "      <td>19.037037</td>\n",
       "      <td>25.851852</td>\n",
       "      <td>9.777778</td>\n",
       "      <td>19.925926</td>\n",
       "      <td>15.222222</td>\n",
       "      <td>12.629630</td>\n",
       "      <td>7.259259</td>\n",
       "      <td>2.333333</td>\n",
       "      <td>19.851852</td>\n",
       "      <td>1103</td>\n",
       "      <td>2003</td>\n",
       "      <td>Akron</td>\n",
       "    </tr>\n",
       "    <tr>\n",
       "      <th>2</th>\n",
       "      <td>69.285714</td>\n",
       "      <td>24.035714</td>\n",
       "      <td>57.178571</td>\n",
       "      <td>6.357143</td>\n",
       "      <td>19.857143</td>\n",
       "      <td>14.857143</td>\n",
       "      <td>20.928571</td>\n",
       "      <td>13.571429</td>\n",
       "      <td>23.928571</td>\n",
       "      <td>12.107143</td>\n",
       "      <td>13.285714</td>\n",
       "      <td>6.607143</td>\n",
       "      <td>3.785714</td>\n",
       "      <td>18.035714</td>\n",
       "      <td>1104</td>\n",
       "      <td>2003</td>\n",
       "      <td>Alabama</td>\n",
       "    </tr>\n",
       "    <tr>\n",
       "      <th>3</th>\n",
       "      <td>71.769231</td>\n",
       "      <td>24.384615</td>\n",
       "      <td>61.615385</td>\n",
       "      <td>7.576923</td>\n",
       "      <td>20.769231</td>\n",
       "      <td>15.423077</td>\n",
       "      <td>21.846154</td>\n",
       "      <td>13.500000</td>\n",
       "      <td>23.115385</td>\n",
       "      <td>14.538462</td>\n",
       "      <td>18.653846</td>\n",
       "      <td>9.307692</td>\n",
       "      <td>2.076923</td>\n",
       "      <td>20.230769</td>\n",
       "      <td>1105</td>\n",
       "      <td>2003</td>\n",
       "      <td>Alabama A&amp;M</td>\n",
       "    </tr>\n",
       "    <tr>\n",
       "      <th>4</th>\n",
       "      <td>63.607143</td>\n",
       "      <td>23.428571</td>\n",
       "      <td>55.285714</td>\n",
       "      <td>6.107143</td>\n",
       "      <td>17.642857</td>\n",
       "      <td>10.642857</td>\n",
       "      <td>16.464286</td>\n",
       "      <td>12.285714</td>\n",
       "      <td>23.857143</td>\n",
       "      <td>11.678571</td>\n",
       "      <td>17.035714</td>\n",
       "      <td>8.357143</td>\n",
       "      <td>3.142857</td>\n",
       "      <td>18.178571</td>\n",
       "      <td>1106</td>\n",
       "      <td>2003</td>\n",
       "      <td>Alabama St</td>\n",
       "    </tr>\n",
       "  </tbody>\n",
       "</table>\n",
       "</div>"
      ],
      "text/plain": [
       "       score        fgm        fga      fgm3       fga3        ftm        fta  \\\n",
       "0  57.250000  19.142857  39.785714  7.821429  20.821429  11.142857  17.107143   \n",
       "1  78.777778  27.148148  55.851852  5.444444  16.074074  19.037037  25.851852   \n",
       "2  69.285714  24.035714  57.178571  6.357143  19.857143  14.857143  20.928571   \n",
       "3  71.769231  24.384615  61.615385  7.576923  20.769231  15.423077  21.846154   \n",
       "4  63.607143  23.428571  55.285714  6.107143  17.642857  10.642857  16.464286   \n",
       "\n",
       "          or         dr        ast         to       stl       blk         pf  \\\n",
       "0   4.178571  16.821429  13.000000  11.428571  5.964286  1.785714  18.750000   \n",
       "1   9.777778  19.925926  15.222222  12.629630  7.259259  2.333333  19.851852   \n",
       "2  13.571429  23.928571  12.107143  13.285714  6.607143  3.785714  18.035714   \n",
       "3  13.500000  23.115385  14.538462  18.653846  9.307692  2.076923  20.230769   \n",
       "4  12.285714  23.857143  11.678571  17.035714  8.357143  3.142857  18.178571   \n",
       "\n",
       "   Team_Id  Season    Team_Name  \n",
       "0     1102    2003    Air Force  \n",
       "1     1103    2003        Akron  \n",
       "2     1104    2003      Alabama  \n",
       "3     1105    2003  Alabama A&M  \n",
       "4     1106    2003   Alabama St  "
      ]
     },
     "execution_count": 3,
     "metadata": {},
     "output_type": "execute_result"
    }
   ],
   "source": [
    "season_averages.head()"
   ]
  },
  {
   "cell_type": "code",
   "execution_count": 4,
   "metadata": {
    "collapsed": false
   },
   "outputs": [
    {
     "data": {
      "text/html": [
       "<div>\n",
       "<table border=\"1\" class=\"dataframe\">\n",
       "  <thead>\n",
       "    <tr style=\"text-align: right;\">\n",
       "      <th></th>\n",
       "      <th>score</th>\n",
       "      <th>fgm</th>\n",
       "      <th>fga</th>\n",
       "      <th>fgm3</th>\n",
       "      <th>fga3</th>\n",
       "      <th>ftm</th>\n",
       "      <th>fta</th>\n",
       "      <th>or</th>\n",
       "      <th>dr</th>\n",
       "      <th>ast</th>\n",
       "      <th>to</th>\n",
       "      <th>stl</th>\n",
       "      <th>blk</th>\n",
       "      <th>pf</th>\n",
       "      <th>Team_Id</th>\n",
       "      <th>Season</th>\n",
       "      <th>Team_Name</th>\n",
       "      <th>Seed</th>\n",
       "    </tr>\n",
       "  </thead>\n",
       "  <tbody>\n",
       "    <tr>\n",
       "      <th>0</th>\n",
       "      <td>57.250000</td>\n",
       "      <td>19.142857</td>\n",
       "      <td>39.785714</td>\n",
       "      <td>7.821429</td>\n",
       "      <td>20.821429</td>\n",
       "      <td>11.142857</td>\n",
       "      <td>17.107143</td>\n",
       "      <td>4.178571</td>\n",
       "      <td>16.821429</td>\n",
       "      <td>13.000000</td>\n",
       "      <td>11.428571</td>\n",
       "      <td>5.964286</td>\n",
       "      <td>1.785714</td>\n",
       "      <td>18.750000</td>\n",
       "      <td>1102</td>\n",
       "      <td>2003</td>\n",
       "      <td>Air Force</td>\n",
       "      <td>17.0</td>\n",
       "    </tr>\n",
       "    <tr>\n",
       "      <th>1</th>\n",
       "      <td>78.777778</td>\n",
       "      <td>27.148148</td>\n",
       "      <td>55.851852</td>\n",
       "      <td>5.444444</td>\n",
       "      <td>16.074074</td>\n",
       "      <td>19.037037</td>\n",
       "      <td>25.851852</td>\n",
       "      <td>9.777778</td>\n",
       "      <td>19.925926</td>\n",
       "      <td>15.222222</td>\n",
       "      <td>12.629630</td>\n",
       "      <td>7.259259</td>\n",
       "      <td>2.333333</td>\n",
       "      <td>19.851852</td>\n",
       "      <td>1103</td>\n",
       "      <td>2003</td>\n",
       "      <td>Akron</td>\n",
       "      <td>17.0</td>\n",
       "    </tr>\n",
       "    <tr>\n",
       "      <th>2</th>\n",
       "      <td>69.285714</td>\n",
       "      <td>24.035714</td>\n",
       "      <td>57.178571</td>\n",
       "      <td>6.357143</td>\n",
       "      <td>19.857143</td>\n",
       "      <td>14.857143</td>\n",
       "      <td>20.928571</td>\n",
       "      <td>13.571429</td>\n",
       "      <td>23.928571</td>\n",
       "      <td>12.107143</td>\n",
       "      <td>13.285714</td>\n",
       "      <td>6.607143</td>\n",
       "      <td>3.785714</td>\n",
       "      <td>18.035714</td>\n",
       "      <td>1104</td>\n",
       "      <td>2003</td>\n",
       "      <td>Alabama</td>\n",
       "      <td>10.0</td>\n",
       "    </tr>\n",
       "    <tr>\n",
       "      <th>3</th>\n",
       "      <td>71.769231</td>\n",
       "      <td>24.384615</td>\n",
       "      <td>61.615385</td>\n",
       "      <td>7.576923</td>\n",
       "      <td>20.769231</td>\n",
       "      <td>15.423077</td>\n",
       "      <td>21.846154</td>\n",
       "      <td>13.500000</td>\n",
       "      <td>23.115385</td>\n",
       "      <td>14.538462</td>\n",
       "      <td>18.653846</td>\n",
       "      <td>9.307692</td>\n",
       "      <td>2.076923</td>\n",
       "      <td>20.230769</td>\n",
       "      <td>1105</td>\n",
       "      <td>2003</td>\n",
       "      <td>Alabama A&amp;M</td>\n",
       "      <td>17.0</td>\n",
       "    </tr>\n",
       "    <tr>\n",
       "      <th>4</th>\n",
       "      <td>63.607143</td>\n",
       "      <td>23.428571</td>\n",
       "      <td>55.285714</td>\n",
       "      <td>6.107143</td>\n",
       "      <td>17.642857</td>\n",
       "      <td>10.642857</td>\n",
       "      <td>16.464286</td>\n",
       "      <td>12.285714</td>\n",
       "      <td>23.857143</td>\n",
       "      <td>11.678571</td>\n",
       "      <td>17.035714</td>\n",
       "      <td>8.357143</td>\n",
       "      <td>3.142857</td>\n",
       "      <td>18.178571</td>\n",
       "      <td>1106</td>\n",
       "      <td>2003</td>\n",
       "      <td>Alabama St</td>\n",
       "      <td>17.0</td>\n",
       "    </tr>\n",
       "  </tbody>\n",
       "</table>\n",
       "</div>"
      ],
      "text/plain": [
       "       score        fgm        fga      fgm3       fga3        ftm        fta  \\\n",
       "0  57.250000  19.142857  39.785714  7.821429  20.821429  11.142857  17.107143   \n",
       "1  78.777778  27.148148  55.851852  5.444444  16.074074  19.037037  25.851852   \n",
       "2  69.285714  24.035714  57.178571  6.357143  19.857143  14.857143  20.928571   \n",
       "3  71.769231  24.384615  61.615385  7.576923  20.769231  15.423077  21.846154   \n",
       "4  63.607143  23.428571  55.285714  6.107143  17.642857  10.642857  16.464286   \n",
       "\n",
       "          or         dr        ast         to       stl       blk         pf  \\\n",
       "0   4.178571  16.821429  13.000000  11.428571  5.964286  1.785714  18.750000   \n",
       "1   9.777778  19.925926  15.222222  12.629630  7.259259  2.333333  19.851852   \n",
       "2  13.571429  23.928571  12.107143  13.285714  6.607143  3.785714  18.035714   \n",
       "3  13.500000  23.115385  14.538462  18.653846  9.307692  2.076923  20.230769   \n",
       "4  12.285714  23.857143  11.678571  17.035714  8.357143  3.142857  18.178571   \n",
       "\n",
       "   Team_Id  Season    Team_Name  Seed  \n",
       "0     1102    2003    Air Force  17.0  \n",
       "1     1103    2003        Akron  17.0  \n",
       "2     1104    2003      Alabama  10.0  \n",
       "3     1105    2003  Alabama A&M  17.0  \n",
       "4     1106    2003   Alabama St  17.0  "
      ]
     },
     "execution_count": 4,
     "metadata": {},
     "output_type": "execute_result"
    }
   ],
   "source": [
    "season_averages = season_averages.merge(tourney_seeds,\n",
    "                                        left_on=[\"Team_Id\", \"Season\"],\n",
    "                                        right_on=[\"Team\", \"Season\"], how=\"left\")\n",
    "del season_averages[\"Team\"]\n",
    "season_averages.loc[season_averages[\"Seed\"].isnull(), \"Seed\"] = 17\n",
    "season_averages.head()"
   ]
  },
  {
   "cell_type": "code",
   "execution_count": 5,
   "metadata": {
    "collapsed": true
   },
   "outputs": [],
   "source": [
    "matchup_columns = [\"Season\", \"home_score\", \"home_team\", \"away_score\", \"away_team\"]\n",
    "\n",
    "wins = regular_season[[\"Season\", \"Wscore\", \"Wteam\", \"Lscore\", \"Lteam\"]]\n",
    "wins.columns = matchup_columns\n",
    "\n",
    "losses = regular_season[[\"Season\", \"Lscore\", \"Lteam\", \"Wscore\", \"Wteam\"]]\n",
    "losses.columns = matchup_columns\n",
    "\n",
    "matchups = pandas.concat([wins, losses])"
   ]
  },
  {
   "cell_type": "code",
   "execution_count": 6,
   "metadata": {
    "collapsed": false
   },
   "outputs": [
    {
     "data": {
      "text/html": [
       "<div>\n",
       "<table border=\"1\" class=\"dataframe\">\n",
       "  <thead>\n",
       "    <tr style=\"text-align: right;\">\n",
       "      <th></th>\n",
       "      <th>Season</th>\n",
       "      <th>home_score</th>\n",
       "      <th>home_team</th>\n",
       "      <th>away_score</th>\n",
       "      <th>away_team</th>\n",
       "    </tr>\n",
       "  </thead>\n",
       "  <tbody>\n",
       "    <tr>\n",
       "      <th>0</th>\n",
       "      <td>1985</td>\n",
       "      <td>81</td>\n",
       "      <td>1228</td>\n",
       "      <td>64</td>\n",
       "      <td>1328</td>\n",
       "    </tr>\n",
       "    <tr>\n",
       "      <th>1</th>\n",
       "      <td>1985</td>\n",
       "      <td>77</td>\n",
       "      <td>1106</td>\n",
       "      <td>70</td>\n",
       "      <td>1354</td>\n",
       "    </tr>\n",
       "    <tr>\n",
       "      <th>2</th>\n",
       "      <td>1985</td>\n",
       "      <td>63</td>\n",
       "      <td>1112</td>\n",
       "      <td>56</td>\n",
       "      <td>1223</td>\n",
       "    </tr>\n",
       "    <tr>\n",
       "      <th>3</th>\n",
       "      <td>1985</td>\n",
       "      <td>70</td>\n",
       "      <td>1165</td>\n",
       "      <td>54</td>\n",
       "      <td>1432</td>\n",
       "    </tr>\n",
       "    <tr>\n",
       "      <th>4</th>\n",
       "      <td>1985</td>\n",
       "      <td>86</td>\n",
       "      <td>1192</td>\n",
       "      <td>74</td>\n",
       "      <td>1447</td>\n",
       "    </tr>\n",
       "  </tbody>\n",
       "</table>\n",
       "</div>"
      ],
      "text/plain": [
       "   Season  home_score  home_team  away_score  away_team\n",
       "0    1985          81       1228          64       1328\n",
       "1    1985          77       1106          70       1354\n",
       "2    1985          63       1112          56       1223\n",
       "3    1985          70       1165          54       1432\n",
       "4    1985          86       1192          74       1447"
      ]
     },
     "execution_count": 6,
     "metadata": {},
     "output_type": "execute_result"
    }
   ],
   "source": [
    "matchups.head()"
   ]
  },
  {
   "cell_type": "code",
   "execution_count": 7,
   "metadata": {
    "collapsed": false
   },
   "outputs": [
    {
     "data": {
      "text/plain": [
       "Index([u'Season', u'home_score', u'home_team', u'away_score', u'away_team'], dtype='object')"
      ]
     },
     "execution_count": 7,
     "metadata": {},
     "output_type": "execute_result"
    }
   ],
   "source": [
    "matchups.columns"
   ]
  },
  {
   "cell_type": "code",
   "execution_count": 8,
   "metadata": {
    "collapsed": false
   },
   "outputs": [],
   "source": [
    "matchups = matchups.merge(season_averages, how=\"inner\",\n",
    "                          left_on=[\"Season\", \"home_team\"],\n",
    "                          right_on=[\"Season\", \"Team_Id\"],\n",
    "                          suffixes=(\"_woah\", \"_home\"))\n",
    "\n",
    "matchups = matchups.merge(season_averages, how=\"inner\",\n",
    "                          left_on=[\"Season\", \"away_team\"],\n",
    "                          right_on=[\"Season\", \"Team_Id\"],\n",
    "                          suffixes=(\"_home\", \"_away\"))"
   ]
  },
  {
   "cell_type": "code",
   "execution_count": 9,
   "metadata": {
    "collapsed": false
   },
   "outputs": [
    {
     "data": {
      "text/plain": [
       "Index([u'Season', u'home_score', u'home_team', u'away_score', u'away_team',\n",
       "       u'score_home', u'fgm_home', u'fga_home', u'fgm3_home', u'fga3_home',\n",
       "       u'ftm_home', u'fta_home', u'or_home', u'dr_home', u'ast_home',\n",
       "       u'to_home', u'stl_home', u'blk_home', u'pf_home', u'Team_Id_home',\n",
       "       u'Team_Name_home', u'Seed_home', u'score_away', u'fgm_away',\n",
       "       u'fga_away', u'fgm3_away', u'fga3_away', u'ftm_away', u'fta_away',\n",
       "       u'or_away', u'dr_away', u'ast_away', u'to_away', u'stl_away',\n",
       "       u'blk_away', u'pf_away', u'Team_Id_away', u'Team_Name_away',\n",
       "       u'Seed_away'],\n",
       "      dtype='object')"
      ]
     },
     "execution_count": 9,
     "metadata": {},
     "output_type": "execute_result"
    }
   ],
   "source": [
    "matchups.columns"
   ]
  },
  {
   "cell_type": "code",
   "execution_count": 10,
   "metadata": {
    "collapsed": false
   },
   "outputs": [],
   "source": [
    "input_columns = [col for col in matchups.columns \n",
    "                    if not (col.startswith(\"Team_\")) \n",
    "                    and (col.endswith(\"_away\") or col.endswith(\"_home\"))]"
   ]
  },
  {
   "cell_type": "code",
   "execution_count": 11,
   "metadata": {
    "collapsed": false
   },
   "outputs": [
    {
     "data": {
      "text/plain": [
       "['score_home',\n",
       " 'fgm_home',\n",
       " 'fga_home',\n",
       " 'fgm3_home',\n",
       " 'fga3_home',\n",
       " 'ftm_home',\n",
       " 'fta_home',\n",
       " 'or_home',\n",
       " 'dr_home',\n",
       " 'ast_home',\n",
       " 'to_home',\n",
       " 'stl_home',\n",
       " 'blk_home',\n",
       " 'pf_home',\n",
       " 'Seed_home',\n",
       " 'score_away',\n",
       " 'fgm_away',\n",
       " 'fga_away',\n",
       " 'fgm3_away',\n",
       " 'fga3_away',\n",
       " 'ftm_away',\n",
       " 'fta_away',\n",
       " 'or_away',\n",
       " 'dr_away',\n",
       " 'ast_away',\n",
       " 'to_away',\n",
       " 'stl_away',\n",
       " 'blk_away',\n",
       " 'pf_away',\n",
       " 'Seed_away']"
      ]
     },
     "execution_count": 11,
     "metadata": {},
     "output_type": "execute_result"
    }
   ],
   "source": [
    "input_columns"
   ]
  },
  {
   "cell_type": "code",
   "execution_count": 12,
   "metadata": {
    "collapsed": true
   },
   "outputs": [],
   "source": [
    "matchups[\"home_win\"] = matchups[\"home_score\"] > matchups[\"away_score\"]"
   ]
  },
  {
   "cell_type": "code",
   "execution_count": 13,
   "metadata": {
    "collapsed": false
   },
   "outputs": [
    {
     "data": {
      "text/plain": [
       "True     76636\n",
       "False    76636\n",
       "Name: home_win, dtype: int64"
      ]
     },
     "execution_count": 13,
     "metadata": {},
     "output_type": "execute_result"
    }
   ],
   "source": [
    "matchups[\"home_win\"].value_counts()"
   ]
  },
  {
   "cell_type": "code",
   "execution_count": 14,
   "metadata": {
    "collapsed": false
   },
   "outputs": [],
   "source": [
    "x_unscaled = matchups[input_columns] \n",
    "from sklearn import preprocessing\n",
    "    \n",
    "scaler = preprocessing.RobustScaler()\n",
    "x = scaler.fit_transform(x_unscaled)\n",
    "y = matchups[\"home_win\"].astype(int)"
   ]
  },
  {
   "cell_type": "code",
   "execution_count": 15,
   "metadata": {
    "collapsed": false
   },
   "outputs": [],
   "source": [
    "from sklearn import cross_validation\n",
    "\n",
    "kfold = cross_validation.StratifiedKFold(y, n_folds=5, shuffle=True)"
   ]
  },
  {
   "cell_type": "code",
   "execution_count": 37,
   "metadata": {
    "collapsed": false
   },
   "outputs": [
    {
     "name": "stdout",
     "output_type": "stream",
     "text": [
      "score: 0.727002870564\n",
      "score: 0.728094212827\n",
      "score: 0.722776799113\n",
      "score: 0.726104260455\n",
      "score: 0.724016441574\n"
     ]
    }
   ],
   "source": [
    "from sklearn import ensemble\n",
    "from sklearn import grid_search\n",
    "\n",
    "\n",
    "\n",
    "models = []\n",
    "for train_index, test_index in kfold:\n",
    "    x_train, x_test = x[train_index], x[test_index]\n",
    "    y_train, y_test = y[train_index], y[test_index]\n",
    "    model = ensemble.GradientBoostingClassifier(n_estimators=120,\n",
    "                                                subsample=0.75,\n",
    "                                                learning_rate=0.25,\n",
    "                                                max_depth=3)\n",
    "     \n",
    "    model.fit(x_train, y_train)\n",
    "    print \"score:\", model.score(x_test, y_test)\n",
    "    models.append(model)\n",
    "\n",
    "    \n",
    "\n",
    "#pickle.dump(models, open(\"2017-03-15_gbc_cv_opt_seed.pkl\", 'w'))\n"
   ]
  },
  {
   "cell_type": "code",
   "execution_count": 70,
   "metadata": {
    "collapsed": false
   },
   "outputs": [
    {
     "name": "stdout",
     "output_type": "stream",
     "text": [
      "\n"
     ]
    }
   ],
   "source": [
    "gbm = models[0]\n",
    "voter_gbm = ensemble.VotingClassifier(estimators=[(str(i), model) for i, model in enumerate(models)])\n"
   ]
  },
  {
   "cell_type": "code",
   "execution_count": 33,
   "metadata": {
    "collapsed": false
   },
   "outputs": [],
   "source": [
    "\n",
    "from keras.models import Sequential\n",
    "from keras import optimizers\n",
    "\n",
    "from keras.layers import Dense, Activation\n",
    "from keras.wrappers.scikit_learn import KerasClassifier\n",
    "def make_model():\n",
    "    model = Sequential()\n",
    "    model.add(Dense(units=100, input_dim=len(input_columns)))\n",
    "    model.add(Activation('sigmoid'))\n",
    "    model.add(Dense(units=2))\n",
    "    model.add(Activation('softmax'))\n",
    "    \n",
    "    model.compile(loss='categorical_crossentropy',\n",
    "              optimizer=optimizers.RMSprop(lr=0.001, rho=0.9, epsilon=1e-08, decay=0.0),\n",
    "              metrics=['accuracy'])\n",
    "    return model\n",
    "model = make_model()\n"
   ]
  },
  {
   "cell_type": "code",
   "execution_count": 34,
   "metadata": {
    "collapsed": false
   },
   "outputs": [],
   "source": [
    "from keras.utils.np_utils import to_categorical\n",
    "y_binary = to_categorical(y)\n"
   ]
  },
  {
   "cell_type": "code",
   "execution_count": 36,
   "metadata": {
    "collapsed": false
   },
   "outputs": [
    {
     "name": "stdout",
     "output_type": "stream",
     "text": [
      "score: 0.731308716075\n",
      "score: 0.729040255773\n",
      "score: 0.730638742101\n",
      "score: 0.730051543048\n",
      "score: 0.727343902913\n"
     ]
    }
   ],
   "source": [
    "models_mlp = []\n",
    "for train_index, test_index in kfold:\n",
    "    x_train, x_test = x[train_index], x[test_index]\n",
    "    y_train, y_test = y_binary[train_index], y_binary[test_index]\n",
    "    model = KerasClassifier(make_model)\n",
    "    model.fit(x_train, y_train, batch_size=100, epochs=10, verbose=0)\n",
    "    print \"score:\", model.score(x_test, y_test, verbose=0)\n",
    "    models_mlp.append(model)\n"
   ]
  },
  {
   "cell_type": "code",
   "execution_count": 49,
   "metadata": {
    "collapsed": true
   },
   "outputs": [],
   "source": [
    "mlp = models_mlp[0]\n",
    "voter_mlp = ensemble.VotingClassifier([(str(i), model)\n",
    "                                       for i, model in enumerate(models_mlp)])"
   ]
  },
  {
   "cell_type": "markdown",
   "metadata": {
    "collapsed": true
   },
   "source": [
    "## Past Tourney Data\n",
    "\n"
   ]
  },
  {
   "cell_type": "code",
   "execution_count": 63,
   "metadata": {
    "collapsed": false
   },
   "outputs": [
    {
     "name": "stdout",
     "output_type": "stream",
     "text": [
      "\n"
     ]
    }
   ],
   "source": [
    "real_tourney_results = pandas.read_csv(\"TourneyCompactResults.csv\")\n",
    "matchup_columns = [\"Season\", \"home_score\", \"home_team\", \"away_score\", \"away_team\"]\n",
    "\n",
    "matchup_rows = []\n",
    "for id, row in real_tourney_results.iterrows():\n",
    "    matchup_rows.append(list(row[[\"Season\", \"Wscore\", \"Wteam\", \"Lscore\", \"Lteam\"]]))\n",
    "    matchup_rows.append(list(row[[\"Season\", \"Lscore\", \"Lteam\", \"Wscore\", \"Wteam\"]]))\n",
    "    \n",
    "tourney_matchups = pandas.DataFrame(matchup_rows, columns=matchup_columns)\n",
    "\n",
    "tourney_matchups = tourney_matchups.merge(season_averages, how=\"inner\",\n",
    "                          left_on=[\"Season\", \"home_team\"],\n",
    "                          right_on=[\"Season\", \"Team_Id\"],\n",
    "                          suffixes=(\"_woah\", \"_home\"))\n",
    "\n",
    "tourney_matchups = tourney_matchups.merge(season_averages, how=\"inner\",\n",
    "                          left_on=[\"Season\", \"away_team\"],\n",
    "                          right_on=[\"Season\", \"Team_Id\"],\n",
    "                          suffixes=(\"_home\", \"_away\"))\n",
    "tourney_matchups[\"home_win\"] = tourney_matchups[\"home_score\"] > tourney_matchups[\"away_score\"]"
   ]
  },
  {
   "cell_type": "code",
   "execution_count": 64,
   "metadata": {
    "collapsed": true
   },
   "outputs": [],
   "source": [
    "tourney_x = scaler.transform(tourney_matchups[input_columns])\n",
    "tourney_y = tourney_matchups[\"home_win\"].astype(int)"
   ]
  },
  {
   "cell_type": "code",
   "execution_count": 74,
   "metadata": {
    "collapsed": true
   },
   "outputs": [],
   "source": [
    "voter = ensemble.VotingClassifier([(\"gbm\", gbm), (\"mlp\", mlp)])"
   ]
  },
  {
   "cell_type": "code",
   "execution_count": 75,
   "metadata": {
    "collapsed": false
   },
   "outputs": [
    {
     "name": "stdout",
     "output_type": "stream",
     "text": [
      "gbm 0.706236323851\n",
      "mlp 0.712253829322\n"
     ]
    }
   ],
   "source": [
    "print \"gbm\", gbm.score(tourney_x, tourney_y)\n",
    "#print \"voter_gbm\", voter_gbm.score(tourney_x, tourney_y)\n",
    "print \"mlp\", mlp.score(tourney_x, tourney_y, verbose=0)\n",
    "#print \"voter_mlp\", voter_mlp.score(tourney_x, tourney_y)\n"
   ]
  },
  {
   "cell_type": "code",
   "execution_count": 76,
   "metadata": {
    "collapsed": false
   },
   "outputs": [
    {
     "data": {
      "text/plain": [
       "(array([  10.,   66.,  108.,  108.,  112.,  117.,  109.,   70.,   85.,\n",
       "          76.,   93.,   99.,   95.,   94.,  122.,  129.,  115.,  139.,\n",
       "          74.,    7.]),\n",
       " array([ 0.  ,  0.05,  0.1 ,  0.15,  0.2 ,  0.25,  0.3 ,  0.35,  0.4 ,\n",
       "         0.45,  0.5 ,  0.55,  0.6 ,  0.65,  0.7 ,  0.75,  0.8 ,  0.85,\n",
       "         0.9 ,  0.95,  1.  ]),\n",
       " <a list of 20 Patch objects>)"
      ]
     },
     "execution_count": 76,
     "metadata": {},
     "output_type": "execute_result"
    },
    {
     "data": {
      "image/png": "[encoded data removed]",
      "text/plain": [
       "<matplotlib.figure.Figure at 0x135e20310>"
      ]
     },
     "metadata": {},
     "output_type": "display_data"
    }
   ],
   "source": [
    "pyplot.hist(map(operator.itemgetter(1), model.predict_proba(tourney_x)),\n",
    "            bins=numpy.linspace(0, 1, 21))"
   ]
  },
  {
   "cell_type": "code",
   "execution_count": 110,
   "metadata": {
    "collapsed": false
   },
   "outputs": [
    {
     "data": {
      "text/plain": [
       "(array([   1.,   62.,  118.,  145.,  140.,  143.,  115.,   84.,   93.,\n",
       "         114.,  117.,  125.,  116.,  133.,  134.,  159.,  207.,  168.,\n",
       "          97.,    7.]),\n",
       " array([ 0.  ,  0.05,  0.1 ,  0.15,  0.2 ,  0.25,  0.3 ,  0.35,  0.4 ,\n",
       "         0.45,  0.5 ,  0.55,  0.6 ,  0.65,  0.7 ,  0.75,  0.8 ,  0.85,\n",
       "         0.9 ,  0.95,  1.  ]),\n",
       " <a list of 20 Patch objects>)"
      ]
     },
     "execution_count": 110,
     "metadata": {},
     "output_type": "execute_result"
    },
    {
     "data": {
      "image/png": "[encoded data removed]",
      "text/plain": [
       "<matplotlib.figure.Figure at 0x1391d5a90>"
      ]
     },
     "metadata": {},
     "output_type": "display_data"
    }
   ],
   "source": [
    "## Load 2017 data\n",
    "import operator\n",
    "submission = pandas.read_csv(\"SampleSubmission.csv\")\n",
    "original_columns = submission.columns\n",
    "sub_split = submission[\"Id\"].str.split(\"_\")\n",
    "submission[\"Season\"] = sub_split.map(operator.itemgetter(0)).astype(numpy.int32)\n",
    "submission[\"home_team\"] = sub_split.map(operator.itemgetter(1)).astype(numpy.int32)\n",
    "submission[\"away_team\"] = sub_split.map(operator.itemgetter(2)).astype(numpy.int32)\n",
    "\n",
    "submission.head()\n",
    "submission = submission.merge(season_averages, how=\"inner\",\n",
    "                          left_on=[\"Season\", \"home_team\"],\n",
    "                          right_on=[\"Season\", \"Team_Id\"],\n",
    "                          suffixes=(\"_woah\", \"_home\"))\n",
    "\n",
    "submission = submission.merge(season_averages, how=\"inner\",\n",
    "                          left_on=[\"Season\", \"away_team\"],\n",
    "                          right_on=[\"Season\", \"Team_Id\"],\n",
    "                          suffixes=(\"_home\", \"_away\"))\n",
    "submission.head()\n",
    "sub_x = scaler.transform(submission[input_columns])\n",
    "\n",
    "pyplot.hist(map(operator.itemgetter(1), gbm.predict_proba(sub_x)),\n",
    "            bins=numpy.linspace(0, 1, 21))\n"
   ]
  },
  {
   "cell_type": "code",
   "execution_count": 111,
   "metadata": {
    "collapsed": false
   },
   "outputs": [
    {
     "name": "stdout",
     "output_type": "stream",
     "text": [
      "\r",
      "  32/2278 [..............................] - ETA: 0s"
     ]
    },
    {
     "data": {
      "text/plain": [
       "(array([   9.,   56.,  104.,  101.,  119.,  127.,  132.,  101.,  121.,\n",
       "         137.,  140.,  137.,  155.,  120.,  154.,  200.,  159.,  140.,\n",
       "          63.,    3.]),\n",
       " array([ 0.  ,  0.05,  0.1 ,  0.15,  0.2 ,  0.25,  0.3 ,  0.35,  0.4 ,\n",
       "         0.45,  0.5 ,  0.55,  0.6 ,  0.65,  0.7 ,  0.75,  0.8 ,  0.85,\n",
       "         0.9 ,  0.95,  1.  ]),\n",
       " <a list of 20 Patch objects>)"
      ]
     },
     "execution_count": 111,
     "metadata": {},
     "output_type": "execute_result"
    },
    {
     "data": {
      "image/png": "[encoded data removed]",
      "text/plain": [
       "<matplotlib.figure.Figure at 0x1368f2dd0>"
      ]
     },
     "metadata": {},
     "output_type": "display_data"
    }
   ],
   "source": [
    "pyplot.hist(map(operator.itemgetter(1), mlp.predict_proba(sub_x)),\n",
    "            bins=numpy.linspace(0, 1, 21))\n"
   ]
  },
  {
   "cell_type": "code",
   "execution_count": 116,
   "metadata": {
    "collapsed": false
   },
   "outputs": [
    {
     "name": "stdout",
     "output_type": "stream",
     "text": [
      "\r",
      "  32/2278 [..............................] - ETA: 0s"
     ]
    }
   ],
   "source": [
    "submission_mlp = submission[original_columns].copy()\n",
    "submission_mlp[\"Pred\"] = map(operator.itemgetter(1), mlp.predict_proba(sub_x))\n",
    "submission_mlp.to_csv(\"MLPSubmission.csv\", index=False)"
   ]
  },
  {
   "cell_type": "code",
   "execution_count": 117,
   "metadata": {
    "collapsed": false
   },
   "outputs": [],
   "source": [
    "submission_gbm = submission[original_columns].copy()\n",
    "submission_gbm[\"Pred\"] = map(operator.itemgetter(1), gbm.predict_proba(sub_x))\n",
    "submission_gbm.to_csv(\"GBMSubmission.csv\", index=False)"
   ]
  },
  {
   "cell_type": "code",
   "execution_count": null,
   "metadata": {
    "collapsed": true
   },
   "outputs": [],
   "source": []
  }
 ],
 "metadata": {
  "anaconda-cloud": {},
  "kernelspec": {
   "display_name": "Python [default]",
   "language": "python",
   "name": "python2"
  },
  "language_info": {
   "codemirror_mode": {
    "name": "ipython",
    "version": 2
   },
   "file_extension": ".py",
   "mimetype": "text/x-python",
   "name": "python",
   "nbconvert_exporter": "python",
   "pygments_lexer": "ipython2",
   "version": "2.7.12"
  }
 },
 "nbformat": 4,
 "nbformat_minor": 1
}
