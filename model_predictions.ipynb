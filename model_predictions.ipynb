{
 "cells": [
  {
   "cell_type": "code",
   "execution_count": 59,
   "metadata": {
    "collapsed": true
   },
   "outputs": [],
   "source": [
    "import numpy\n",
    "import pandas\n",
    "from matplotlib import pyplot\n",
    "\n",
    "%matplotlib inline"
   ]
  },
  {
   "cell_type": "code",
   "execution_count": 125,
   "metadata": {
    "collapsed": false
   },
   "outputs": [],
   "source": [
    "season_averages = pandas.read_csv(\"SeasonAverages.csv\")\n",
    "season_averages[\"Season\"] = season_averages[\"Season\"].astype(numpy.int32)\n",
    "season_averages[\"Team_Id\"] = season_averages[\"Team_Id\"].astype(numpy.int32)\n",
    "regular_season = pandas.read_csv(\"RegularSeasonCompactResults.csv\")\n",
    "\n",
    "tourney_seeds = pandas.read_csv(\"TourneySeeds.csv\")\n",
    "tourney_seeds[\"Seed\"] = tourney_seeds[\"Seed\"].str.slice(1, 3).astype(numpy.int32)\n",
    "tourney_seeds[\"Season\"] = tourney_seeds[\"Season\"].astype(numpy.int32)\n",
    "tourney_seeds[\"Team\"] = tourney_seeds[\"Team\"].astype(numpy.int32)\n"
   ]
  },
  {
   "cell_type": "code",
   "execution_count": 126,
   "metadata": {
    "collapsed": false
   },
   "outputs": [
    {
     "data": {
      "text/html": [
       "<div>\n",
       "<table border=\"1\" class=\"dataframe\">\n",
       "  <thead>\n",
       "    <tr style=\"text-align: right;\">\n",
       "      <th></th>\n",
       "      <th>score</th>\n",
       "      <th>fgm</th>\n",
       "      <th>fga</th>\n",
       "      <th>fgm3</th>\n",
       "      <th>fga3</th>\n",
       "      <th>ftm</th>\n",
       "      <th>fta</th>\n",
       "      <th>or</th>\n",
       "      <th>dr</th>\n",
       "      <th>ast</th>\n",
       "      <th>to</th>\n",
       "      <th>stl</th>\n",
       "      <th>blk</th>\n",
       "      <th>pf</th>\n",
       "      <th>Team_Id</th>\n",
       "      <th>Season</th>\n",
       "      <th>Team_Name</th>\n",
       "    </tr>\n",
       "  </thead>\n",
       "  <tbody>\n",
       "    <tr>\n",
       "      <th>0</th>\n",
       "      <td>57.250000</td>\n",
       "      <td>19.142857</td>\n",
       "      <td>39.785714</td>\n",
       "      <td>7.821429</td>\n",
       "      <td>20.821429</td>\n",
       "      <td>11.142857</td>\n",
       "      <td>17.107143</td>\n",
       "      <td>4.178571</td>\n",
       "      <td>16.821429</td>\n",
       "      <td>13.000000</td>\n",
       "      <td>11.428571</td>\n",
       "      <td>5.964286</td>\n",
       "      <td>1.785714</td>\n",
       "      <td>18.750000</td>\n",
       "      <td>1102</td>\n",
       "      <td>2003</td>\n",
       "      <td>Air Force</td>\n",
       "    </tr>\n",
       "    <tr>\n",
       "      <th>1</th>\n",
       "      <td>78.777778</td>\n",
       "      <td>27.148148</td>\n",
       "      <td>55.851852</td>\n",
       "      <td>5.444444</td>\n",
       "      <td>16.074074</td>\n",
       "      <td>19.037037</td>\n",
       "      <td>25.851852</td>\n",
       "      <td>9.777778</td>\n",
       "      <td>19.925926</td>\n",
       "      <td>15.222222</td>\n",
       "      <td>12.629630</td>\n",
       "      <td>7.259259</td>\n",
       "      <td>2.333333</td>\n",
       "      <td>19.851852</td>\n",
       "      <td>1103</td>\n",
       "      <td>2003</td>\n",
       "      <td>Akron</td>\n",
       "    </tr>\n",
       "    <tr>\n",
       "      <th>2</th>\n",
       "      <td>69.285714</td>\n",
       "      <td>24.035714</td>\n",
       "      <td>57.178571</td>\n",
       "      <td>6.357143</td>\n",
       "      <td>19.857143</td>\n",
       "      <td>14.857143</td>\n",
       "      <td>20.928571</td>\n",
       "      <td>13.571429</td>\n",
       "      <td>23.928571</td>\n",
       "      <td>12.107143</td>\n",
       "      <td>13.285714</td>\n",
       "      <td>6.607143</td>\n",
       "      <td>3.785714</td>\n",
       "      <td>18.035714</td>\n",
       "      <td>1104</td>\n",
       "      <td>2003</td>\n",
       "      <td>Alabama</td>\n",
       "    </tr>\n",
       "    <tr>\n",
       "      <th>3</th>\n",
       "      <td>71.769231</td>\n",
       "      <td>24.384615</td>\n",
       "      <td>61.615385</td>\n",
       "      <td>7.576923</td>\n",
       "      <td>20.769231</td>\n",
       "      <td>15.423077</td>\n",
       "      <td>21.846154</td>\n",
       "      <td>13.500000</td>\n",
       "      <td>23.115385</td>\n",
       "      <td>14.538462</td>\n",
       "      <td>18.653846</td>\n",
       "      <td>9.307692</td>\n",
       "      <td>2.076923</td>\n",
       "      <td>20.230769</td>\n",
       "      <td>1105</td>\n",
       "      <td>2003</td>\n",
       "      <td>Alabama A&amp;M</td>\n",
       "    </tr>\n",
       "    <tr>\n",
       "      <th>4</th>\n",
       "      <td>63.607143</td>\n",
       "      <td>23.428571</td>\n",
       "      <td>55.285714</td>\n",
       "      <td>6.107143</td>\n",
       "      <td>17.642857</td>\n",
       "      <td>10.642857</td>\n",
       "      <td>16.464286</td>\n",
       "      <td>12.285714</td>\n",
       "      <td>23.857143</td>\n",
       "      <td>11.678571</td>\n",
       "      <td>17.035714</td>\n",
       "      <td>8.357143</td>\n",
       "      <td>3.142857</td>\n",
       "      <td>18.178571</td>\n",
       "      <td>1106</td>\n",
       "      <td>2003</td>\n",
       "      <td>Alabama St</td>\n",
       "    </tr>\n",
       "  </tbody>\n",
       "</table>\n",
       "</div>"
      ],
      "text/plain": [
       "       score        fgm        fga      fgm3       fga3        ftm        fta  \\\n",
       "0  57.250000  19.142857  39.785714  7.821429  20.821429  11.142857  17.107143   \n",
       "1  78.777778  27.148148  55.851852  5.444444  16.074074  19.037037  25.851852   \n",
       "2  69.285714  24.035714  57.178571  6.357143  19.857143  14.857143  20.928571   \n",
       "3  71.769231  24.384615  61.615385  7.576923  20.769231  15.423077  21.846154   \n",
       "4  63.607143  23.428571  55.285714  6.107143  17.642857  10.642857  16.464286   \n",
       "\n",
       "          or         dr        ast         to       stl       blk         pf  \\\n",
       "0   4.178571  16.821429  13.000000  11.428571  5.964286  1.785714  18.750000   \n",
       "1   9.777778  19.925926  15.222222  12.629630  7.259259  2.333333  19.851852   \n",
       "2  13.571429  23.928571  12.107143  13.285714  6.607143  3.785714  18.035714   \n",
       "3  13.500000  23.115385  14.538462  18.653846  9.307692  2.076923  20.230769   \n",
       "4  12.285714  23.857143  11.678571  17.035714  8.357143  3.142857  18.178571   \n",
       "\n",
       "   Team_Id  Season    Team_Name  \n",
       "0     1102    2003    Air Force  \n",
       "1     1103    2003        Akron  \n",
       "2     1104    2003      Alabama  \n",
       "3     1105    2003  Alabama A&M  \n",
       "4     1106    2003   Alabama St  "
      ]
     },
     "execution_count": 126,
     "metadata": {},
     "output_type": "execute_result"
    }
   ],
   "source": [
    "season_averages.head()"
   ]
  },
  {
   "cell_type": "code",
   "execution_count": 127,
   "metadata": {
    "collapsed": false
   },
   "outputs": [
    {
     "data": {
      "text/html": [
       "<div>\n",
       "<table border=\"1\" class=\"dataframe\">\n",
       "  <thead>\n",
       "    <tr style=\"text-align: right;\">\n",
       "      <th></th>\n",
       "      <th>score</th>\n",
       "      <th>fgm</th>\n",
       "      <th>fga</th>\n",
       "      <th>fgm3</th>\n",
       "      <th>fga3</th>\n",
       "      <th>ftm</th>\n",
       "      <th>fta</th>\n",
       "      <th>or</th>\n",
       "      <th>dr</th>\n",
       "      <th>ast</th>\n",
       "      <th>to</th>\n",
       "      <th>stl</th>\n",
       "      <th>blk</th>\n",
       "      <th>pf</th>\n",
       "      <th>Team_Id</th>\n",
       "      <th>Season</th>\n",
       "      <th>Team_Name</th>\n",
       "      <th>Seed</th>\n",
       "    </tr>\n",
       "  </thead>\n",
       "  <tbody>\n",
       "    <tr>\n",
       "      <th>0</th>\n",
       "      <td>57.250000</td>\n",
       "      <td>19.142857</td>\n",
       "      <td>39.785714</td>\n",
       "      <td>7.821429</td>\n",
       "      <td>20.821429</td>\n",
       "      <td>11.142857</td>\n",
       "      <td>17.107143</td>\n",
       "      <td>4.178571</td>\n",
       "      <td>16.821429</td>\n",
       "      <td>13.000000</td>\n",
       "      <td>11.428571</td>\n",
       "      <td>5.964286</td>\n",
       "      <td>1.785714</td>\n",
       "      <td>18.750000</td>\n",
       "      <td>1102</td>\n",
       "      <td>2003</td>\n",
       "      <td>Air Force</td>\n",
       "      <td>17.0</td>\n",
       "    </tr>\n",
       "    <tr>\n",
       "      <th>1</th>\n",
       "      <td>78.777778</td>\n",
       "      <td>27.148148</td>\n",
       "      <td>55.851852</td>\n",
       "      <td>5.444444</td>\n",
       "      <td>16.074074</td>\n",
       "      <td>19.037037</td>\n",
       "      <td>25.851852</td>\n",
       "      <td>9.777778</td>\n",
       "      <td>19.925926</td>\n",
       "      <td>15.222222</td>\n",
       "      <td>12.629630</td>\n",
       "      <td>7.259259</td>\n",
       "      <td>2.333333</td>\n",
       "      <td>19.851852</td>\n",
       "      <td>1103</td>\n",
       "      <td>2003</td>\n",
       "      <td>Akron</td>\n",
       "      <td>17.0</td>\n",
       "    </tr>\n",
       "    <tr>\n",
       "      <th>2</th>\n",
       "      <td>69.285714</td>\n",
       "      <td>24.035714</td>\n",
       "      <td>57.178571</td>\n",
       "      <td>6.357143</td>\n",
       "      <td>19.857143</td>\n",
       "      <td>14.857143</td>\n",
       "      <td>20.928571</td>\n",
       "      <td>13.571429</td>\n",
       "      <td>23.928571</td>\n",
       "      <td>12.107143</td>\n",
       "      <td>13.285714</td>\n",
       "      <td>6.607143</td>\n",
       "      <td>3.785714</td>\n",
       "      <td>18.035714</td>\n",
       "      <td>1104</td>\n",
       "      <td>2003</td>\n",
       "      <td>Alabama</td>\n",
       "      <td>10.0</td>\n",
       "    </tr>\n",
       "    <tr>\n",
       "      <th>3</th>\n",
       "      <td>71.769231</td>\n",
       "      <td>24.384615</td>\n",
       "      <td>61.615385</td>\n",
       "      <td>7.576923</td>\n",
       "      <td>20.769231</td>\n",
       "      <td>15.423077</td>\n",
       "      <td>21.846154</td>\n",
       "      <td>13.500000</td>\n",
       "      <td>23.115385</td>\n",
       "      <td>14.538462</td>\n",
       "      <td>18.653846</td>\n",
       "      <td>9.307692</td>\n",
       "      <td>2.076923</td>\n",
       "      <td>20.230769</td>\n",
       "      <td>1105</td>\n",
       "      <td>2003</td>\n",
       "      <td>Alabama A&amp;M</td>\n",
       "      <td>17.0</td>\n",
       "    </tr>\n",
       "    <tr>\n",
       "      <th>4</th>\n",
       "      <td>63.607143</td>\n",
       "      <td>23.428571</td>\n",
       "      <td>55.285714</td>\n",
       "      <td>6.107143</td>\n",
       "      <td>17.642857</td>\n",
       "      <td>10.642857</td>\n",
       "      <td>16.464286</td>\n",
       "      <td>12.285714</td>\n",
       "      <td>23.857143</td>\n",
       "      <td>11.678571</td>\n",
       "      <td>17.035714</td>\n",
       "      <td>8.357143</td>\n",
       "      <td>3.142857</td>\n",
       "      <td>18.178571</td>\n",
       "      <td>1106</td>\n",
       "      <td>2003</td>\n",
       "      <td>Alabama St</td>\n",
       "      <td>17.0</td>\n",
       "    </tr>\n",
       "  </tbody>\n",
       "</table>\n",
       "</div>"
      ],
      "text/plain": [
       "       score        fgm        fga      fgm3       fga3        ftm        fta  \\\n",
       "0  57.250000  19.142857  39.785714  7.821429  20.821429  11.142857  17.107143   \n",
       "1  78.777778  27.148148  55.851852  5.444444  16.074074  19.037037  25.851852   \n",
       "2  69.285714  24.035714  57.178571  6.357143  19.857143  14.857143  20.928571   \n",
       "3  71.769231  24.384615  61.615385  7.576923  20.769231  15.423077  21.846154   \n",
       "4  63.607143  23.428571  55.285714  6.107143  17.642857  10.642857  16.464286   \n",
       "\n",
       "          or         dr        ast         to       stl       blk         pf  \\\n",
       "0   4.178571  16.821429  13.000000  11.428571  5.964286  1.785714  18.750000   \n",
       "1   9.777778  19.925926  15.222222  12.629630  7.259259  2.333333  19.851852   \n",
       "2  13.571429  23.928571  12.107143  13.285714  6.607143  3.785714  18.035714   \n",
       "3  13.500000  23.115385  14.538462  18.653846  9.307692  2.076923  20.230769   \n",
       "4  12.285714  23.857143  11.678571  17.035714  8.357143  3.142857  18.178571   \n",
       "\n",
       "   Team_Id  Season    Team_Name  Seed  \n",
       "0     1102    2003    Air Force  17.0  \n",
       "1     1103    2003        Akron  17.0  \n",
       "2     1104    2003      Alabama  10.0  \n",
       "3     1105    2003  Alabama A&M  17.0  \n",
       "4     1106    2003   Alabama St  17.0  "
      ]
     },
     "execution_count": 127,
     "metadata": {},
     "output_type": "execute_result"
    }
   ],
   "source": [
    "season_averages = season_averages.merge(tourney_seeds,\n",
    "                                        left_on=[\"Team_Id\", \"Season\"],\n",
    "                                        right_on=[\"Team\", \"Season\"], how=\"left\")\n",
    "del season_averages[\"Team\"]\n",
    "season_averages.loc[season_averages[\"Seed\"].isnull(), \"Seed\"] = 17\n",
    "season_averages.head()"
   ]
  },
  {
   "cell_type": "code",
   "execution_count": 128,
   "metadata": {
    "collapsed": false
   },
   "outputs": [],
   "source": [
    "matchup_columns = [\"Season\", \"home_score\", \"home_team\", \"away_score\", \"away_team\"]\n",
    "\n",
    "matchup_rows = []\n",
    "for id, row in regular_season.iterrows():\n",
    "    matchup_rows.append(list(row[[\"Season\", \"Wscore\", \"Wteam\", \"Lscore\", \"Lteam\"]]))\n",
    "    matchup_rows.append(list(row[[\"Season\", \"Lscore\", \"Lteam\", \"Wscore\", \"Wteam\"]]))\n",
    "    \n",
    "matchups = pandas.DataFrame(matchup_rows, columns=matchup_columns)"
   ]
  },
  {
   "cell_type": "code",
   "execution_count": 129,
   "metadata": {
    "collapsed": false
   },
   "outputs": [
    {
     "data": {
      "text/html": [
       "<div>\n",
       "<table border=\"1\" class=\"dataframe\">\n",
       "  <thead>\n",
       "    <tr style=\"text-align: right;\">\n",
       "      <th></th>\n",
       "      <th>Season</th>\n",
       "      <th>home_score</th>\n",
       "      <th>home_team</th>\n",
       "      <th>away_score</th>\n",
       "      <th>away_team</th>\n",
       "    </tr>\n",
       "  </thead>\n",
       "  <tbody>\n",
       "    <tr>\n",
       "      <th>0</th>\n",
       "      <td>1985</td>\n",
       "      <td>81</td>\n",
       "      <td>1228</td>\n",
       "      <td>64</td>\n",
       "      <td>1328</td>\n",
       "    </tr>\n",
       "    <tr>\n",
       "      <th>1</th>\n",
       "      <td>1985</td>\n",
       "      <td>64</td>\n",
       "      <td>1328</td>\n",
       "      <td>81</td>\n",
       "      <td>1228</td>\n",
       "    </tr>\n",
       "    <tr>\n",
       "      <th>2</th>\n",
       "      <td>1985</td>\n",
       "      <td>77</td>\n",
       "      <td>1106</td>\n",
       "      <td>70</td>\n",
       "      <td>1354</td>\n",
       "    </tr>\n",
       "    <tr>\n",
       "      <th>3</th>\n",
       "      <td>1985</td>\n",
       "      <td>70</td>\n",
       "      <td>1354</td>\n",
       "      <td>77</td>\n",
       "      <td>1106</td>\n",
       "    </tr>\n",
       "    <tr>\n",
       "      <th>4</th>\n",
       "      <td>1985</td>\n",
       "      <td>63</td>\n",
       "      <td>1112</td>\n",
       "      <td>56</td>\n",
       "      <td>1223</td>\n",
       "    </tr>\n",
       "  </tbody>\n",
       "</table>\n",
       "</div>"
      ],
      "text/plain": [
       "   Season  home_score  home_team  away_score  away_team\n",
       "0    1985          81       1228          64       1328\n",
       "1    1985          64       1328          81       1228\n",
       "2    1985          77       1106          70       1354\n",
       "3    1985          70       1354          77       1106\n",
       "4    1985          63       1112          56       1223"
      ]
     },
     "execution_count": 129,
     "metadata": {},
     "output_type": "execute_result"
    }
   ],
   "source": [
    "matchups.head()"
   ]
  },
  {
   "cell_type": "code",
   "execution_count": 130,
   "metadata": {
    "collapsed": false
   },
   "outputs": [
    {
     "data": {
      "text/plain": [
       "301368"
      ]
     },
     "execution_count": 130,
     "metadata": {},
     "output_type": "execute_result"
    }
   ],
   "source": [
    "len(matchups)"
   ]
  },
  {
   "cell_type": "code",
   "execution_count": 131,
   "metadata": {
    "collapsed": false
   },
   "outputs": [
    {
     "data": {
      "text/plain": [
       "Index([u'Season', u'home_score', u'home_team', u'away_score', u'away_team'], dtype='object')"
      ]
     },
     "execution_count": 131,
     "metadata": {},
     "output_type": "execute_result"
    }
   ],
   "source": [
    "matchups.columns"
   ]
  },
  {
   "cell_type": "code",
   "execution_count": 132,
   "metadata": {
    "collapsed": false
   },
   "outputs": [],
   "source": [
    "matchups = matchups.merge(season_averages, how=\"inner\",\n",
    "                          left_on=[\"Season\", \"home_team\"],\n",
    "                          right_on=[\"Season\", \"Team_Id\"],\n",
    "                          suffixes=(\"_woah\", \"_home\"))\n",
    "\n",
    "matchups = matchups.merge(season_averages, how=\"inner\",\n",
    "                          left_on=[\"Season\", \"away_team\"],\n",
    "                          right_on=[\"Season\", \"Team_Id\"],\n",
    "                          suffixes=(\"_home\", \"_away\"))"
   ]
  },
  {
   "cell_type": "code",
   "execution_count": 133,
   "metadata": {
    "collapsed": false
   },
   "outputs": [
    {
     "data": {
      "text/plain": [
       "Index([u'Season', u'home_score', u'home_team', u'away_score', u'away_team',\n",
       "       u'score_home', u'fgm_home', u'fga_home', u'fgm3_home', u'fga3_home',\n",
       "       u'ftm_home', u'fta_home', u'or_home', u'dr_home', u'ast_home',\n",
       "       u'to_home', u'stl_home', u'blk_home', u'pf_home', u'Team_Id_home',\n",
       "       u'Team_Name_home', u'Seed_home', u'score_away', u'fgm_away',\n",
       "       u'fga_away', u'fgm3_away', u'fga3_away', u'ftm_away', u'fta_away',\n",
       "       u'or_away', u'dr_away', u'ast_away', u'to_away', u'stl_away',\n",
       "       u'blk_away', u'pf_away', u'Team_Id_away', u'Team_Name_away',\n",
       "       u'Seed_away'],\n",
       "      dtype='object')"
      ]
     },
     "execution_count": 133,
     "metadata": {},
     "output_type": "execute_result"
    }
   ],
   "source": [
    "matchups.columns"
   ]
  },
  {
   "cell_type": "code",
   "execution_count": 134,
   "metadata": {
    "collapsed": false
   },
   "outputs": [],
   "source": [
    "input_columns = [col for col in matchups.columns \n",
    "                    if not (col.startswith(\"Team_\")) \n",
    "                    and (col.endswith(\"_away\") or col.endswith(\"_home\"))]"
   ]
  },
  {
   "cell_type": "code",
   "execution_count": 135,
   "metadata": {
    "collapsed": false
   },
   "outputs": [
    {
     "data": {
      "text/plain": [
       "['score_home',\n",
       " 'fgm_home',\n",
       " 'fga_home',\n",
       " 'fgm3_home',\n",
       " 'fga3_home',\n",
       " 'ftm_home',\n",
       " 'fta_home',\n",
       " 'or_home',\n",
       " 'dr_home',\n",
       " 'ast_home',\n",
       " 'to_home',\n",
       " 'stl_home',\n",
       " 'blk_home',\n",
       " 'pf_home',\n",
       " 'Seed_home',\n",
       " 'score_away',\n",
       " 'fgm_away',\n",
       " 'fga_away',\n",
       " 'fgm3_away',\n",
       " 'fga3_away',\n",
       " 'ftm_away',\n",
       " 'fta_away',\n",
       " 'or_away',\n",
       " 'dr_away',\n",
       " 'ast_away',\n",
       " 'to_away',\n",
       " 'stl_away',\n",
       " 'blk_away',\n",
       " 'pf_away',\n",
       " 'Seed_away']"
      ]
     },
     "execution_count": 135,
     "metadata": {},
     "output_type": "execute_result"
    }
   ],
   "source": [
    "input_columns"
   ]
  },
  {
   "cell_type": "code",
   "execution_count": 136,
   "metadata": {
    "collapsed": true
   },
   "outputs": [],
   "source": [
    "matchups[\"home_win\"] = matchups[\"home_score\"] > matchups[\"away_score\"]"
   ]
  },
  {
   "cell_type": "code",
   "execution_count": 137,
   "metadata": {
    "collapsed": false
   },
   "outputs": [
    {
     "data": {
      "text/plain": [
       "True     76636\n",
       "False    76636\n",
       "Name: home_win, dtype: int64"
      ]
     },
     "execution_count": 137,
     "metadata": {},
     "output_type": "execute_result"
    }
   ],
   "source": [
    "matchups[\"home_win\"].value_counts()"
   ]
  },
  {
   "cell_type": "code",
   "execution_count": 138,
   "metadata": {
    "collapsed": false
   },
   "outputs": [],
   "source": [
    "x_unscaled = matchups[input_columns] \n",
    "from sklearn import preprocessing\n",
    "    \n",
    "scaler = preprocessing.RobustScaler()\n",
    "x = scaler.fit_transform(x_unscaled)\n",
    "y = matchups[\"home_win\"]"
   ]
  },
  {
   "cell_type": "code",
   "execution_count": 139,
   "metadata": {
    "collapsed": false
   },
   "outputs": [],
   "source": [
    "from sklearn import cross_validation\n",
    "\n",
    "kfold = cross_validation.StratifiedKFold(y, n_folds=5, shuffle=True)"
   ]
  },
  {
   "cell_type": "code",
   "execution_count": 141,
   "metadata": {
    "collapsed": false
   },
   "outputs": [
    {
     "ename": "KeyboardInterrupt",
     "evalue": "",
     "output_type": "error",
     "traceback": [
      "\u001b[0;31m---------------------------------------------------------------------------\u001b[0m",
      "\u001b[0;31mKeyboardInterrupt\u001b[0m                         Traceback (most recent call last)",
      "\u001b[0;32m<ipython-input-141-3ea2e0db9ab2>\u001b[0m in \u001b[0;36m<module>\u001b[0;34m()\u001b[0m\n\u001b[1;32m     20\u001b[0m                                                  \u001b[0mn_iter\u001b[0m\u001b[0;34m=\u001b[0m\u001b[0mn_iter\u001b[0m\u001b[0;34m,\u001b[0m\u001b[0;34m\u001b[0m\u001b[0m\n\u001b[1;32m     21\u001b[0m                                                  n_jobs=4)\n\u001b[0;32m---> 22\u001b[0;31m     \u001b[0mg_search\u001b[0m\u001b[0;34m.\u001b[0m\u001b[0mfit\u001b[0m\u001b[0;34m(\u001b[0m\u001b[0mx_train\u001b[0m\u001b[0;34m,\u001b[0m \u001b[0my_train\u001b[0m\u001b[0;34m)\u001b[0m\u001b[0;34m\u001b[0m\u001b[0m\n\u001b[0m\u001b[1;32m     23\u001b[0m     \u001b[0;32mprint\u001b[0m \u001b[0;34m\"score:\"\u001b[0m\u001b[0;34m,\u001b[0m \u001b[0mg_search\u001b[0m\u001b[0;34m.\u001b[0m\u001b[0mscore\u001b[0m\u001b[0;34m(\u001b[0m\u001b[0mx_test\u001b[0m\u001b[0;34m,\u001b[0m \u001b[0my_test\u001b[0m\u001b[0;34m)\u001b[0m\u001b[0;34m\u001b[0m\u001b[0m\n\u001b[1;32m     24\u001b[0m     \u001b[0mmodels\u001b[0m\u001b[0;34m.\u001b[0m\u001b[0mappend\u001b[0m\u001b[0;34m(\u001b[0m\u001b[0mg_search\u001b[0m\u001b[0;34m)\u001b[0m\u001b[0;34m\u001b[0m\u001b[0m\n",
      "\u001b[0;32m/Users/a68d6zz/anaconda/lib/python2.7/site-packages/sklearn/grid_search.pyc\u001b[0m in \u001b[0;36mfit\u001b[0;34m(self, X, y)\u001b[0m\n\u001b[1;32m    994\u001b[0m                                           \u001b[0mself\u001b[0m\u001b[0;34m.\u001b[0m\u001b[0mn_iter\u001b[0m\u001b[0;34m,\u001b[0m\u001b[0;34m\u001b[0m\u001b[0m\n\u001b[1;32m    995\u001b[0m                                           random_state=self.random_state)\n\u001b[0;32m--> 996\u001b[0;31m         \u001b[0;32mreturn\u001b[0m \u001b[0mself\u001b[0m\u001b[0;34m.\u001b[0m\u001b[0m_fit\u001b[0m\u001b[0;34m(\u001b[0m\u001b[0mX\u001b[0m\u001b[0;34m,\u001b[0m \u001b[0my\u001b[0m\u001b[0;34m,\u001b[0m \u001b[0msampled_params\u001b[0m\u001b[0;34m)\u001b[0m\u001b[0;34m\u001b[0m\u001b[0m\n\u001b[0m",
      "\u001b[0;32m/Users/a68d6zz/anaconda/lib/python2.7/site-packages/sklearn/grid_search.pyc\u001b[0m in \u001b[0;36m_fit\u001b[0;34m(self, X, y, parameter_iterable)\u001b[0m\n\u001b[1;32m    551\u001b[0m                                     \u001b[0mself\u001b[0m\u001b[0;34m.\u001b[0m\u001b[0mfit_params\u001b[0m\u001b[0;34m,\u001b[0m \u001b[0mreturn_parameters\u001b[0m\u001b[0;34m=\u001b[0m\u001b[0mTrue\u001b[0m\u001b[0;34m,\u001b[0m\u001b[0;34m\u001b[0m\u001b[0m\n\u001b[1;32m    552\u001b[0m                                     error_score=self.error_score)\n\u001b[0;32m--> 553\u001b[0;31m                 \u001b[0;32mfor\u001b[0m \u001b[0mparameters\u001b[0m \u001b[0;32min\u001b[0m \u001b[0mparameter_iterable\u001b[0m\u001b[0;34m\u001b[0m\u001b[0m\n\u001b[0m\u001b[1;32m    554\u001b[0m                 for train, test in cv)\n\u001b[1;32m    555\u001b[0m \u001b[0;34m\u001b[0m\u001b[0m\n",
      "\u001b[0;32m/Users/a68d6zz/anaconda/lib/python2.7/site-packages/sklearn/externals/joblib/parallel.pyc\u001b[0m in \u001b[0;36m__call__\u001b[0;34m(self, iterable)\u001b[0m\n\u001b[1;32m    808\u001b[0m                 \u001b[0;31m# consumption.\u001b[0m\u001b[0;34m\u001b[0m\u001b[0;34m\u001b[0m\u001b[0m\n\u001b[1;32m    809\u001b[0m                 \u001b[0mself\u001b[0m\u001b[0;34m.\u001b[0m\u001b[0m_iterating\u001b[0m \u001b[0;34m=\u001b[0m \u001b[0mFalse\u001b[0m\u001b[0;34m\u001b[0m\u001b[0m\n\u001b[0;32m--> 810\u001b[0;31m             \u001b[0mself\u001b[0m\u001b[0;34m.\u001b[0m\u001b[0mretrieve\u001b[0m\u001b[0;34m(\u001b[0m\u001b[0;34m)\u001b[0m\u001b[0;34m\u001b[0m\u001b[0m\n\u001b[0m\u001b[1;32m    811\u001b[0m             \u001b[0;31m# Make sure that we get a last message telling us we are done\u001b[0m\u001b[0;34m\u001b[0m\u001b[0;34m\u001b[0m\u001b[0m\n\u001b[1;32m    812\u001b[0m             \u001b[0melapsed_time\u001b[0m \u001b[0;34m=\u001b[0m \u001b[0mtime\u001b[0m\u001b[0;34m.\u001b[0m\u001b[0mtime\u001b[0m\u001b[0;34m(\u001b[0m\u001b[0;34m)\u001b[0m \u001b[0;34m-\u001b[0m \u001b[0mself\u001b[0m\u001b[0;34m.\u001b[0m\u001b[0m_start_time\u001b[0m\u001b[0;34m\u001b[0m\u001b[0m\n",
      "\u001b[0;32m/Users/a68d6zz/anaconda/lib/python2.7/site-packages/sklearn/externals/joblib/parallel.pyc\u001b[0m in \u001b[0;36mretrieve\u001b[0;34m(self)\u001b[0m\n\u001b[1;32m    755\u001b[0m                     \u001b[0;31m# a working pool as they expect.\u001b[0m\u001b[0;34m\u001b[0m\u001b[0;34m\u001b[0m\u001b[0m\n\u001b[1;32m    756\u001b[0m                     \u001b[0mself\u001b[0m\u001b[0;34m.\u001b[0m\u001b[0m_initialize_pool\u001b[0m\u001b[0;34m(\u001b[0m\u001b[0;34m)\u001b[0m\u001b[0;34m\u001b[0m\u001b[0m\n\u001b[0;32m--> 757\u001b[0;31m                 \u001b[0;32mraise\u001b[0m \u001b[0mexception\u001b[0m\u001b[0;34m\u001b[0m\u001b[0m\n\u001b[0m\u001b[1;32m    758\u001b[0m \u001b[0;34m\u001b[0m\u001b[0m\n\u001b[1;32m    759\u001b[0m     \u001b[0;32mdef\u001b[0m \u001b[0m__call__\u001b[0m\u001b[0;34m(\u001b[0m\u001b[0mself\u001b[0m\u001b[0;34m,\u001b[0m \u001b[0miterable\u001b[0m\u001b[0;34m)\u001b[0m\u001b[0;34m:\u001b[0m\u001b[0;34m\u001b[0m\u001b[0m\n",
      "\u001b[0;31mKeyboardInterrupt\u001b[0m: "
     ]
    }
   ],
   "source": [
    "from sklearn import ensemble\n",
    "from sklearn import grid_search\n",
    "\n",
    "model_class = ensemble.GradientBoostingClassifier()\n",
    "#model = ensemble.RandomForestClassifier()\n",
    "\n",
    "params = {'n_estimators': scipy.stats.randint(50, 150),\n",
    "          'learning_rate': scipy.stats.expon(scale=.1),\n",
    "          'max_depth': [2, 3, 4, 5],\n",
    "          'subsample': scipy.stats.uniform(loc=0.5, scale=0.5)}\n",
    "\n",
    "n_iter = 80\n",
    "\n",
    "models = []\n",
    "for train_index, test_index in kfold:\n",
    "    x_train, x_test = x[train_index], x[test_index]\n",
    "    y_train, y_test = y[train_index], y[test_index]\n",
    "    g_search = grid_search.RandomizedSearchCV(model_class,\n",
    "                                                 param_distributions=params,\n",
    "                                                 n_iter=n_iter,\n",
    "                                                 n_jobs=4)\n",
    "    g_search.fit(x_train, y_train)\n",
    "    print \"score:\", g_search.score(x_test, y_test)\n",
    "    models.append(g_search)\n",
    "\n",
    "\n",
    "import cPickle as pickle\n",
    "\n",
    "pickle.dump(models, open(\"2017-03-15_gbc_cv_opt_seed.pkl\", 'w'))"
   ]
  },
  {
   "cell_type": "code",
   "execution_count": 144,
   "metadata": {
    "collapsed": false
   },
   "outputs": [
    {
     "name": "stdout",
     "output_type": "stream",
     "text": [
      "score: 0.725339248434\n",
      "score: 0.725190839695\n",
      "score: 0.726365237816\n",
      "score: 0.724538396294\n",
      "score: 0.727833235467\n"
     ]
    }
   ],
   "source": [
    "from sklearn import ensemble\n",
    "from sklearn import grid_search\n",
    "\n",
    "\n",
    "\n",
    "models = []\n",
    "for train_index, test_index in kfold:\n",
    "    x_train, x_test = x[train_index], x[test_index]\n",
    "    y_train, y_test = y[train_index], y[test_index]\n",
    "    model = ensemble.GradientBoostingClassifier(n_estimators=120,\n",
    "                                                subsample=0.75,\n",
    "                                                learning_rate=0.25,\n",
    "                                                max_depth=3)\n",
    "     \n",
    "    model.fit(x_train, y_train)\n",
    "    print \"score:\", model.score(x_test, y_test)\n",
    "    models.append(g_search)\n",
    "\n",
    "    "
   ]
  },
  {
   "cell_type": "code",
   "execution_count": 157,
   "metadata": {
    "collapsed": true
   },
   "outputs": [],
   "source": [
    "pickle.dump(models, open(\"2017-03-15_gbc_cv_opt_seed.pkl\", 'w'))"
   ]
  },
  {
   "cell_type": "markdown",
   "metadata": {},
   "source": [
    "## Load 2017 data"
   ]
  },
  {
   "cell_type": "code",
   "execution_count": 145,
   "metadata": {
    "collapsed": true
   },
   "outputs": [],
   "source": [
    "import operator\n",
    "submission = pandas.read_csv(\"SampleSubmission.csv\")\n",
    "sub_split = submission[\"Id\"].str.split(\"_\")\n",
    "submission[\"Season\"] = sub_split.map(operator.itemgetter(0)).astype(numpy.int32)\n",
    "submission[\"home_team\"] = sub_split.map(operator.itemgetter(1)).astype(numpy.int32)\n",
    "submission[\"away_team\"] = sub_split.map(operator.itemgetter(2)).astype(numpy.int32)\n"
   ]
  },
  {
   "cell_type": "code",
   "execution_count": 146,
   "metadata": {
    "collapsed": false
   },
   "outputs": [
    {
     "data": {
      "text/html": [
       "<div>\n",
       "<table border=\"1\" class=\"dataframe\">\n",
       "  <thead>\n",
       "    <tr style=\"text-align: right;\">\n",
       "      <th></th>\n",
       "      <th>Id</th>\n",
       "      <th>Pred</th>\n",
       "      <th>Season</th>\n",
       "      <th>home_team</th>\n",
       "      <th>away_team</th>\n",
       "    </tr>\n",
       "  </thead>\n",
       "  <tbody>\n",
       "    <tr>\n",
       "      <th>0</th>\n",
       "      <td>2017_1112_1116</td>\n",
       "      <td>0.5</td>\n",
       "      <td>2017</td>\n",
       "      <td>1112</td>\n",
       "      <td>1116</td>\n",
       "    </tr>\n",
       "    <tr>\n",
       "      <th>1</th>\n",
       "      <td>2017_1112_1124</td>\n",
       "      <td>0.5</td>\n",
       "      <td>2017</td>\n",
       "      <td>1112</td>\n",
       "      <td>1124</td>\n",
       "    </tr>\n",
       "    <tr>\n",
       "      <th>2</th>\n",
       "      <td>2017_1112_1137</td>\n",
       "      <td>0.5</td>\n",
       "      <td>2017</td>\n",
       "      <td>1112</td>\n",
       "      <td>1137</td>\n",
       "    </tr>\n",
       "    <tr>\n",
       "      <th>3</th>\n",
       "      <td>2017_1112_1139</td>\n",
       "      <td>0.5</td>\n",
       "      <td>2017</td>\n",
       "      <td>1112</td>\n",
       "      <td>1139</td>\n",
       "    </tr>\n",
       "    <tr>\n",
       "      <th>4</th>\n",
       "      <td>2017_1112_1153</td>\n",
       "      <td>0.5</td>\n",
       "      <td>2017</td>\n",
       "      <td>1112</td>\n",
       "      <td>1153</td>\n",
       "    </tr>\n",
       "  </tbody>\n",
       "</table>\n",
       "</div>"
      ],
      "text/plain": [
       "               Id  Pred  Season  home_team  away_team\n",
       "0  2017_1112_1116   0.5    2017       1112       1116\n",
       "1  2017_1112_1124   0.5    2017       1112       1124\n",
       "2  2017_1112_1137   0.5    2017       1112       1137\n",
       "3  2017_1112_1139   0.5    2017       1112       1139\n",
       "4  2017_1112_1153   0.5    2017       1112       1153"
      ]
     },
     "execution_count": 146,
     "metadata": {},
     "output_type": "execute_result"
    }
   ],
   "source": [
    "submission.head()"
   ]
  },
  {
   "cell_type": "code",
   "execution_count": 147,
   "metadata": {
    "collapsed": false
   },
   "outputs": [],
   "source": [
    "submission = submission.merge(season_averages, how=\"inner\",\n",
    "                          left_on=[\"Season\", \"home_team\"],\n",
    "                          right_on=[\"Season\", \"Team_Id\"],\n",
    "                          suffixes=(\"_woah\", \"_home\"))\n",
    "\n",
    "submission = submission.merge(season_averages, how=\"inner\",\n",
    "                          left_on=[\"Season\", \"away_team\"],\n",
    "                          right_on=[\"Season\", \"Team_Id\"],\n",
    "                          suffixes=(\"_home\", \"_away\"))"
   ]
  },
  {
   "cell_type": "code",
   "execution_count": 148,
   "metadata": {
    "collapsed": false
   },
   "outputs": [
    {
     "data": {
      "text/html": [
       "<div>\n",
       "<table border=\"1\" class=\"dataframe\">\n",
       "  <thead>\n",
       "    <tr style=\"text-align: right;\">\n",
       "      <th></th>\n",
       "      <th>Id</th>\n",
       "      <th>Pred</th>\n",
       "      <th>Season</th>\n",
       "      <th>home_team</th>\n",
       "      <th>away_team</th>\n",
       "      <th>score_home</th>\n",
       "      <th>fgm_home</th>\n",
       "      <th>fga_home</th>\n",
       "      <th>fgm3_home</th>\n",
       "      <th>fga3_home</th>\n",
       "      <th>...</th>\n",
       "      <th>or_away</th>\n",
       "      <th>dr_away</th>\n",
       "      <th>ast_away</th>\n",
       "      <th>to_away</th>\n",
       "      <th>stl_away</th>\n",
       "      <th>blk_away</th>\n",
       "      <th>pf_away</th>\n",
       "      <th>Team_Id_away</th>\n",
       "      <th>Team_Name_away</th>\n",
       "      <th>Seed_away</th>\n",
       "    </tr>\n",
       "  </thead>\n",
       "  <tbody>\n",
       "    <tr>\n",
       "      <th>0</th>\n",
       "      <td>2017_1112_1116</td>\n",
       "      <td>0.5</td>\n",
       "      <td>2017</td>\n",
       "      <td>1112</td>\n",
       "      <td>1116</td>\n",
       "      <td>76.264706</td>\n",
       "      <td>26.205882</td>\n",
       "      <td>55.088235</td>\n",
       "      <td>6.735294</td>\n",
       "      <td>16.941176</td>\n",
       "      <td>...</td>\n",
       "      <td>11.323529</td>\n",
       "      <td>24.941176</td>\n",
       "      <td>14.088235</td>\n",
       "      <td>11.735294</td>\n",
       "      <td>7.529412</td>\n",
       "      <td>4.735294</td>\n",
       "      <td>20.588235</td>\n",
       "      <td>1116</td>\n",
       "      <td>Arkansas</td>\n",
       "      <td>8.0</td>\n",
       "    </tr>\n",
       "    <tr>\n",
       "      <th>1</th>\n",
       "      <td>2017_1112_1124</td>\n",
       "      <td>0.5</td>\n",
       "      <td>2017</td>\n",
       "      <td>1112</td>\n",
       "      <td>1124</td>\n",
       "      <td>76.264706</td>\n",
       "      <td>26.205882</td>\n",
       "      <td>55.088235</td>\n",
       "      <td>6.735294</td>\n",
       "      <td>16.941176</td>\n",
       "      <td>...</td>\n",
       "      <td>12.677419</td>\n",
       "      <td>24.935484</td>\n",
       "      <td>15.483871</td>\n",
       "      <td>13.419355</td>\n",
       "      <td>5.129032</td>\n",
       "      <td>4.870968</td>\n",
       "      <td>17.677419</td>\n",
       "      <td>1124</td>\n",
       "      <td>Baylor</td>\n",
       "      <td>3.0</td>\n",
       "    </tr>\n",
       "    <tr>\n",
       "      <th>2</th>\n",
       "      <td>2017_1116_1124</td>\n",
       "      <td>0.5</td>\n",
       "      <td>2017</td>\n",
       "      <td>1116</td>\n",
       "      <td>1124</td>\n",
       "      <td>79.794118</td>\n",
       "      <td>27.735294</td>\n",
       "      <td>60.176471</td>\n",
       "      <td>6.529412</td>\n",
       "      <td>17.941176</td>\n",
       "      <td>...</td>\n",
       "      <td>12.677419</td>\n",
       "      <td>24.935484</td>\n",
       "      <td>15.483871</td>\n",
       "      <td>13.419355</td>\n",
       "      <td>5.129032</td>\n",
       "      <td>4.870968</td>\n",
       "      <td>17.677419</td>\n",
       "      <td>1124</td>\n",
       "      <td>Baylor</td>\n",
       "      <td>3.0</td>\n",
       "    </tr>\n",
       "    <tr>\n",
       "      <th>3</th>\n",
       "      <td>2017_1112_1137</td>\n",
       "      <td>0.5</td>\n",
       "      <td>2017</td>\n",
       "      <td>1112</td>\n",
       "      <td>1137</td>\n",
       "      <td>76.264706</td>\n",
       "      <td>26.205882</td>\n",
       "      <td>55.088235</td>\n",
       "      <td>6.735294</td>\n",
       "      <td>16.941176</td>\n",
       "      <td>...</td>\n",
       "      <td>8.617647</td>\n",
       "      <td>25.823529</td>\n",
       "      <td>14.617647</td>\n",
       "      <td>13.264706</td>\n",
       "      <td>7.176471</td>\n",
       "      <td>3.823529</td>\n",
       "      <td>18.529412</td>\n",
       "      <td>1137</td>\n",
       "      <td>Bucknell</td>\n",
       "      <td>13.0</td>\n",
       "    </tr>\n",
       "    <tr>\n",
       "      <th>4</th>\n",
       "      <td>2017_1116_1137</td>\n",
       "      <td>0.5</td>\n",
       "      <td>2017</td>\n",
       "      <td>1116</td>\n",
       "      <td>1137</td>\n",
       "      <td>79.794118</td>\n",
       "      <td>27.735294</td>\n",
       "      <td>60.176471</td>\n",
       "      <td>6.529412</td>\n",
       "      <td>17.941176</td>\n",
       "      <td>...</td>\n",
       "      <td>8.617647</td>\n",
       "      <td>25.823529</td>\n",
       "      <td>14.617647</td>\n",
       "      <td>13.264706</td>\n",
       "      <td>7.176471</td>\n",
       "      <td>3.823529</td>\n",
       "      <td>18.529412</td>\n",
       "      <td>1137</td>\n",
       "      <td>Bucknell</td>\n",
       "      <td>13.0</td>\n",
       "    </tr>\n",
       "  </tbody>\n",
       "</table>\n",
       "<p>5 rows × 39 columns</p>\n",
       "</div>"
      ],
      "text/plain": [
       "               Id  Pred  Season  home_team  away_team  score_home   fgm_home  \\\n",
       "0  2017_1112_1116   0.5    2017       1112       1116   76.264706  26.205882   \n",
       "1  2017_1112_1124   0.5    2017       1112       1124   76.264706  26.205882   \n",
       "2  2017_1116_1124   0.5    2017       1116       1124   79.794118  27.735294   \n",
       "3  2017_1112_1137   0.5    2017       1112       1137   76.264706  26.205882   \n",
       "4  2017_1116_1137   0.5    2017       1116       1137   79.794118  27.735294   \n",
       "\n",
       "    fga_home  fgm3_home  fga3_home    ...        or_away    dr_away  \\\n",
       "0  55.088235   6.735294  16.941176    ...      11.323529  24.941176   \n",
       "1  55.088235   6.735294  16.941176    ...      12.677419  24.935484   \n",
       "2  60.176471   6.529412  17.941176    ...      12.677419  24.935484   \n",
       "3  55.088235   6.735294  16.941176    ...       8.617647  25.823529   \n",
       "4  60.176471   6.529412  17.941176    ...       8.617647  25.823529   \n",
       "\n",
       "    ast_away    to_away  stl_away  blk_away    pf_away  Team_Id_away  \\\n",
       "0  14.088235  11.735294  7.529412  4.735294  20.588235          1116   \n",
       "1  15.483871  13.419355  5.129032  4.870968  17.677419          1124   \n",
       "2  15.483871  13.419355  5.129032  4.870968  17.677419          1124   \n",
       "3  14.617647  13.264706  7.176471  3.823529  18.529412          1137   \n",
       "4  14.617647  13.264706  7.176471  3.823529  18.529412          1137   \n",
       "\n",
       "   Team_Name_away  Seed_away  \n",
       "0        Arkansas        8.0  \n",
       "1          Baylor        3.0  \n",
       "2          Baylor        3.0  \n",
       "3        Bucknell       13.0  \n",
       "4        Bucknell       13.0  \n",
       "\n",
       "[5 rows x 39 columns]"
      ]
     },
     "execution_count": 148,
     "metadata": {},
     "output_type": "execute_result"
    }
   ],
   "source": [
    "submission.head()"
   ]
  },
  {
   "cell_type": "code",
   "execution_count": 149,
   "metadata": {
    "collapsed": false
   },
   "outputs": [],
   "source": [
    "sub_x = scaler.transform(submission[input_columns])"
   ]
  },
  {
   "cell_type": "code",
   "execution_count": 150,
   "metadata": {
    "collapsed": false
   },
   "outputs": [
    {
     "data": {
      "text/plain": [
       "(array([   8.,   75.,  114.,  141.,  135.,  129.,  117.,   96.,  110.,\n",
       "          96.,  123.,  134.,  136.,  151.,  147.,  168.,  175.,  161.,\n",
       "          59.,    3.]),\n",
       " array([ 0.  ,  0.05,  0.1 ,  0.15,  0.2 ,  0.25,  0.3 ,  0.35,  0.4 ,\n",
       "         0.45,  0.5 ,  0.55,  0.6 ,  0.65,  0.7 ,  0.75,  0.8 ,  0.85,\n",
       "         0.9 ,  0.95,  1.  ]),\n",
       " <a list of 20 Patch objects>)"
      ]
     },
     "execution_count": 150,
     "metadata": {},
     "output_type": "execute_result"
    },
    {
     "data": {
      "image/png": "[encoded data removed]",
      "text/plain": [
       "<matplotlib.figure.Figure at 0x1006769d0>"
      ]
     },
     "metadata": {},
     "output_type": "display_data"
    }
   ],
   "source": [
    "pyplot.hist(map(operator.itemgetter(1), model.predict_proba(sub_x)),\n",
    "            bins=numpy.linspace(0, 1, 21))"
   ]
  },
  {
   "cell_type": "code",
   "execution_count": 151,
   "metadata": {
    "collapsed": false
   },
   "outputs": [
    {
     "data": {
      "text/plain": [
       "(array([  356.,  1331.,  1707.,  1720.,  1675.,  1665.,  1660.,  1665.,\n",
       "         1821.,  1756.,  1808.,  1704.,  1700.,  1642.,  1729.,  1677.,\n",
       "         1656.,  1709.,  1362.,   311.]),\n",
       " array([ 0.  ,  0.05,  0.1 ,  0.15,  0.2 ,  0.25,  0.3 ,  0.35,  0.4 ,\n",
       "         0.45,  0.5 ,  0.55,  0.6 ,  0.65,  0.7 ,  0.75,  0.8 ,  0.85,\n",
       "         0.9 ,  0.95,  1.  ]),\n",
       " <a list of 20 Patch objects>)"
      ]
     },
     "execution_count": 151,
     "metadata": {},
     "output_type": "execute_result"
    },
    {
     "data": {
      "image/png": "[encoded data removed]",
      "text/plain": [
       "<matplotlib.figure.Figure at 0x11faf1050>"
      ]
     },
     "metadata": {},
     "output_type": "display_data"
    }
   ],
   "source": [
    "pyplot.hist(map(operator.itemgetter(1), model.predict_proba(x_test)),\n",
    "            bins=numpy.linspace(0, 1, 21))"
   ]
  },
  {
   "cell_type": "code",
   "execution_count": 152,
   "metadata": {
    "collapsed": false
   },
   "outputs": [
    {
     "data": {
      "text/plain": [
       "(array([   7.,   87.,  141.,  163.,  189.,  163.,  143.,  129.,  127.,\n",
       "         125.,  129.,  128.,  122.,  132.,  117.,  118.,  127.,   97.,\n",
       "          32.,    2.]),\n",
       " array([ 0.  ,  0.05,  0.1 ,  0.15,  0.2 ,  0.25,  0.3 ,  0.35,  0.4 ,\n",
       "         0.45,  0.5 ,  0.55,  0.6 ,  0.65,  0.7 ,  0.75,  0.8 ,  0.85,\n",
       "         0.9 ,  0.95,  1.  ]),\n",
       " <a list of 20 Patch objects>)"
      ]
     },
     "execution_count": 152,
     "metadata": {},
     "output_type": "execute_result"
    },
    {
     "data": {
      "image/png": "[encoded data removed]",
      "text/plain": [
       "<matplotlib.figure.Figure at 0x11b528990>"
      ]
     },
     "metadata": {},
     "output_type": "display_data"
    }
   ],
   "source": [
    "import operator\n",
    "submission = pandas.read_csv(\"SampleSubmission.csv\")\n",
    "sub_split = submission[\"Id\"].str.split(\"_\")\n",
    "submission[\"Season\"] = sub_split.map(operator.itemgetter(0)).astype(numpy.int32)\n",
    "submission[\"home_team\"] = sub_split.map(operator.itemgetter(2)).astype(numpy.int32)\n",
    "submission[\"away_team\"] = sub_split.map(operator.itemgetter(1)).astype(numpy.int32)\n",
    "\n",
    "submission.head()\n",
    "submission = submission.merge(season_averages, how=\"inner\",\n",
    "                          left_on=[\"Season\", \"home_team\"],\n",
    "                          right_on=[\"Season\", \"Team_Id\"],\n",
    "                          suffixes=(\"_woah\", \"_home\"))\n",
    "\n",
    "submission = submission.merge(season_averages, how=\"inner\",\n",
    "                          left_on=[\"Season\", \"away_team\"],\n",
    "                          right_on=[\"Season\", \"Team_Id\"],\n",
    "                          suffixes=(\"_home\", \"_away\"))\n",
    "submission.head()\n",
    "sub_x = scaler.transform(submission[input_columns])\n",
    "pyplot.hist(map(operator.itemgetter(1), model.predict_proba(sub_x)),\n",
    "            bins=numpy.linspace(0, 1, 21))\n"
   ]
  },
  {
   "cell_type": "markdown",
   "metadata": {
    "collapsed": true
   },
   "source": [
    "## Past Tourney Data\n",
    "\n"
   ]
  },
  {
   "cell_type": "code",
   "execution_count": 153,
   "metadata": {
    "collapsed": true
   },
   "outputs": [],
   "source": [
    "real_tourney_results = pandas.read_csv(\"TourneyCompactResults.csv\")\n",
    "matchup_columns = [\"Season\", \"home_score\", \"home_team\", \"away_score\", \"away_team\"]\n",
    "\n",
    "matchup_rows = []\n",
    "for id, row in real_tourney_results.iterrows():\n",
    "    matchup_rows.append(list(row[[\"Season\", \"Wscore\", \"Wteam\", \"Lscore\", \"Lteam\"]]))\n",
    "    matchup_rows.append(list(row[[\"Season\", \"Lscore\", \"Lteam\", \"Wscore\", \"Wteam\"]]))\n",
    "    \n",
    "tourney_matchups = pandas.DataFrame(matchup_rows, columns=matchup_columns)\n",
    "\n",
    "tourney_matchups = tourney_matchups.merge(season_averages, how=\"inner\",\n",
    "                          left_on=[\"Season\", \"home_team\"],\n",
    "                          right_on=[\"Season\", \"Team_Id\"],\n",
    "                          suffixes=(\"_woah\", \"_home\"))\n",
    "\n",
    "tourney_matchups = tourney_matchups.merge(season_averages, how=\"inner\",\n",
    "                          left_on=[\"Season\", \"away_team\"],\n",
    "                          right_on=[\"Season\", \"Team_Id\"],\n",
    "                          suffixes=(\"_home\", \"_away\"))\n",
    "tourney_matchups[\"home_win\"] = tourney_matchups[\"home_score\"] > tourney_matchups[\"away_score\"]"
   ]
  },
  {
   "cell_type": "code",
   "execution_count": 154,
   "metadata": {
    "collapsed": true
   },
   "outputs": [],
   "source": [
    "tourney_x = scaler.transform(tourney_matchups[input_columns])\n",
    "tourney_y = tourney_matchups[\"home_win\"]"
   ]
  },
  {
   "cell_type": "code",
   "execution_count": 155,
   "metadata": {
    "collapsed": false
   },
   "outputs": [
    {
     "data": {
      "text/plain": [
       "0.7040481400437637"
      ]
     },
     "execution_count": 155,
     "metadata": {},
     "output_type": "execute_result"
    }
   ],
   "source": [
    "model.score(tourney_x, tourney_y)"
   ]
  },
  {
   "cell_type": "code",
   "execution_count": 156,
   "metadata": {
    "collapsed": false
   },
   "outputs": [
    {
     "data": {
      "text/plain": [
       "(array([  14.,   71.,   79.,  103.,  113.,  114.,  106.,  108.,   84.,\n",
       "         101.,  104.,   99.,   92.,  133.,  124.,  119.,  126.,   81.,\n",
       "          52.,    5.]),\n",
       " array([ 0.  ,  0.05,  0.1 ,  0.15,  0.2 ,  0.25,  0.3 ,  0.35,  0.4 ,\n",
       "         0.45,  0.5 ,  0.55,  0.6 ,  0.65,  0.7 ,  0.75,  0.8 ,  0.85,\n",
       "         0.9 ,  0.95,  1.  ]),\n",
       " <a list of 20 Patch objects>)"
      ]
     },
     "execution_count": 156,
     "metadata": {},
     "output_type": "execute_result"
    },
    {
     "data": {
      "image/png": "[encoded data removed]",
      "text/plain": [
       "<matplotlib.figure.Figure at 0x11bac3e50>"
      ]
     },
     "metadata": {},
     "output_type": "display_data"
    }
   ],
   "source": [
    "pyplot.hist(map(operator.itemgetter(1), model.predict_proba(tourney_x)),\n",
    "            bins=numpy.linspace(0, 1, 21))"
   ]
  },
  {
   "cell_type": "code",
   "execution_count": null,
   "metadata": {
    "collapsed": true
   },
   "outputs": [],
   "source": []
  },
  {
   "cell_type": "code",
   "execution_count": null,
   "metadata": {
    "collapsed": true
   },
   "outputs": [],
   "source": []
  }
 ],
 "metadata": {
  "anaconda-cloud": {},
  "kernelspec": {
   "display_name": "Python [default]",
   "language": "python",
   "name": "python2"
  },
  "language_info": {
   "codemirror_mode": {
    "name": "ipython",
    "version": 2
   },
   "file_extension": ".py",
   "mimetype": "text/x-python",
   "name": "python",
   "nbconvert_exporter": "python",
   "pygments_lexer": "ipython2",
   "version": "2.7.12"
  }
 },
 "nbformat": 4,
 "nbformat_minor": 1
}
