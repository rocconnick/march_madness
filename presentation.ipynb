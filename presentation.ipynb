{
 "cells": [
  {
   "cell_type": "markdown",
   "metadata": {
    "collapsed": false,
    "slideshow": {
     "slide_type": "slide"
    }
   },
   "source": [
    "## Introduction \n",
    "\n",
    "* Nobody has heard about March Madness\n",
    "* NCAA Division I championship\n",
    "* 64 (+4) team single-elimination tournament\n",
    "* Bracket prediction challenges are sort of popular\n",
    "\n",
    "\n",
    "* Great opportunity to play with machine learning!\n",
    "\n",
    "![](ncaa_mm.jpg)"
   ]
  },
  {
   "cell_type": "markdown",
   "metadata": {
    "slideshow": {
     "slide_type": "slide"
    }
   },
   "source": [
    "## Dataset\n",
    "\n",
    "* Kaggle competition: predict outcome of all possible tournament matchups\n",
    "\t* kaggle.com/c/march-machine-learning-mania-2017\n",
    "* Convenient source of data!\n",
    "* External data allowed in competition, but not used here\n",
    "![](bball-logo.png)"
   ]
  },
  {
   "cell_type": "markdown",
   "metadata": {
    "slideshow": {
     "slide_type": "subslide"
    }
   },
   "source": [
    "\n",
    "## Dataset Details\n",
    "\n",
    "* Results of regular season and tournament games (dating back to 1985)\n",
    "    * Winning team\n",
    "    * Losing team\n",
    "    * Winning score\n",
    "    * Losing score\n",
    "* Tournament seeds for participating teams (dating back to 1985)\n",
    "* Stats for winning/losing teams from regular season and tournament games (dating back to 2003)\n",
    "\n",
    "<table border=\"0\">\n",
    "  <tr>\n",
    "   <td> fgm - field goals made </td>\n",
    "   <td> fga - field goals attempted </td>\n",
    "  </tr> \n",
    "  <tr>\n",
    "   <td> fgm3 - three pointers made </td>\n",
    "   <td> fga3 - three pointers attempted </td>\n",
    "  </tr> \n",
    "  <tr>\n",
    "   <td> ftm - free throws made </td>\n",
    "   <td> fta - free throws attempted </td>\n",
    "  </tr> \n",
    "  <tr>\n",
    "   <td> or - offensive rebounds </td>\n",
    "   <td> dr - defensive rebounds </td>\n",
    "  </tr> \n",
    "  <tr>\n",
    "   <td> ast - assists </td>\n",
    "   <td> to - turnovers </td>\n",
    "  </tr> \n",
    "  <tr>\n",
    "   <td> stl - steals </td>\n",
    "   <td> blk - blocks </td>\n",
    "  </tr> \n",
    "  <tr>\n",
    "   <td> pf - personal fouls </td>\n",
    "   <td> </td>\n",
    "  </tr>\n",
    "</table>"
   ]
  },
  {
   "cell_type": "markdown",
   "metadata": {
    "slideshow": {
     "slide_type": "subslide"
    }
   },
   "source": [
    "## Machine Learning Strategy\n",
    "\n",
    "* Model input features:\n",
    "    * Season average stats for each team\n",
    "    * Team tournament seeds\n",
    "    \n",
    "* Model architecture:\n",
    "\t* Concatenate feature vectors for \"home\" and \"away\" team\n",
    "    * Predict probability that \"home\" team will win\n",
    "    \n",
    "* Training strategy:\n",
    "\t* Use regular season games for training and validation -- there are far more of them\n",
    "    * Use past touranment games as an independent validation set\n"
   ]
  },
  {
   "cell_type": "markdown",
   "metadata": {
    "collapsed": true,
    "slideshow": {
     "slide_type": "slide"
    }
   },
   "source": [
    "## Calculating Season Averages (the slow way)\n",
    "\n",
    "* Start by loading the data with pandas \n",
    "* Build a dataframe which enumerates every team for every season"
   ]
  },
  {
   "cell_type": "code",
   "execution_count": 2,
   "metadata": {
    "ExecuteTime": {
     "end_time": "2017-04-30T13:23:27.193612Z",
     "start_time": "2017-04-30T13:23:27.157076"
    },
    "collapsed": false,
    "slideshow": {
     "slide_type": "fragment"
    }
   },
   "outputs": [
    {
     "data": {
      "text/html": [
       "<div>\n",
       "<table border=\"1\" class=\"dataframe\">\n",
       "  <thead>\n",
       "    <tr style=\"text-align: right;\">\n",
       "      <th></th>\n",
       "      <th>Team_Id</th>\n",
       "      <th>Team_Name</th>\n",
       "      <th>season</th>\n",
       "    </tr>\n",
       "  </thead>\n",
       "  <tbody>\n",
       "    <tr>\n",
       "      <th>0</th>\n",
       "      <td>1101</td>\n",
       "      <td>Abilene Chr</td>\n",
       "      <td>2003</td>\n",
       "    </tr>\n",
       "    <tr>\n",
       "      <th>1</th>\n",
       "      <td>1102</td>\n",
       "      <td>Air Force</td>\n",
       "      <td>2003</td>\n",
       "    </tr>\n",
       "    <tr>\n",
       "      <th>2</th>\n",
       "      <td>1103</td>\n",
       "      <td>Akron</td>\n",
       "      <td>2003</td>\n",
       "    </tr>\n",
       "    <tr>\n",
       "      <th>3</th>\n",
       "      <td>1104</td>\n",
       "      <td>Alabama</td>\n",
       "      <td>2003</td>\n",
       "    </tr>\n",
       "    <tr>\n",
       "      <th>4</th>\n",
       "      <td>1105</td>\n",
       "      <td>Alabama A&amp;M</td>\n",
       "      <td>2003</td>\n",
       "    </tr>\n",
       "  </tbody>\n",
       "</table>\n",
       "</div>"
      ],
      "text/plain": [
       "   Team_Id    Team_Name  season\n",
       "0     1101  Abilene Chr    2003\n",
       "1     1102    Air Force    2003\n",
       "2     1103        Akron    2003\n",
       "3     1104      Alabama    2003\n",
       "4     1105  Alabama A&M    2003"
      ]
     },
     "execution_count": 2,
     "metadata": {},
     "output_type": "execute_result"
    }
   ],
   "source": [
    "import pandas\n",
    "\n",
    "df_teams = pandas.read_csv('Teams.csv')\n",
    "df_regular_season = pandas.read_csv('RegularSeasonDetailedResults.csv')\n",
    "\n",
    "\n",
    "frames = []\n",
    "for season in df_regular_season.Season.unique():\n",
    "    team_season = df_teams.copy()\n",
    "    team_season['season'] = season\n",
    "    frames.append(team_season)\n",
    "\n",
    "df_team_seasons = pandas.concat(frames)\n",
    "\n",
    "df_team_seasons.head()\n"
   ]
  },
  {
   "cell_type": "code",
   "execution_count": 8,
   "metadata": {
    "ExecuteTime": {
     "end_time": "2017-04-30T13:23:57.606623Z",
     "start_time": "2017-04-30T13:23:31.460722"
    },
    "collapsed": false,
    "slideshow": {
     "slide_type": "subslide"
    }
   },
   "outputs": [],
   "source": [
    "# Stat columns for winners and losers\n",
    "loser_columns = ['Lscore', 'Lfgm', 'Lfga', 'Lfgm3', 'Lfga3','Lftm', 'Lfta',\n",
    "                 'Lor', 'Ldr', 'Last', 'Lto', 'Lstl', 'Lblk', 'Lpf']\n",
    "winner_columns = ['Wscore', 'Wfgm', 'Wfga', 'Wfgm3', 'Wfga3', 'Wftm', 'Wfta',\n",
    "                  'Wor', 'Wdr', 'Wast', 'Wto', 'Wstl', 'Wblk', 'Wpf']\n",
    "renamed_columns = [column[1:] for column in winner_columns]\n",
    "\n",
    "season_averages = []\n",
    "# Iterate over team/season pairs\n",
    "for index, row in df_team_seasons.iterrows():\n",
    "    # Indices which represent winning and losing game for team/season\n",
    "    wins = df_regular_season.Wteam == row.Team_Id\n",
    "    loses = df_regular_season.Lteam == row.Team_Id\n",
    "    right_season = df_regular_season.Season == row.season\n",
    "\n",
    "    # Extract wins for team/season, rename columns\n",
    "    won_games = df_regular_season[right_season & wins][winner_columns]\n",
    "    won_games.columns = renamed_columns\n",
    "    # Extract losses for team/season, rename columns\n",
    "    lost_games = df_regular_season[right_season & loses][loser_columns]\n",
    "    lost_games.columns = renamed_columns\n",
    "\n",
    "    # Concatenate wins and losses, calculate mean of all columns\n",
    "    games = pandas.concat([won_games, lost_games]).mean()\n",
    "\n",
    "    # Add ID columns, calculate averages, reshape into one-row dataframe\n",
    "    games['Team_Id'] = row.Team_Id\n",
    "    games['Season'] = row.season\n",
    "    games['Team_Name'] = row.Team_Name\n",
    "    games = games.to_frame().transpose()\n",
    "    season_averages.append(games)\n",
    "\n",
    "# Concatenate all the dataframes\n",
    "season_averages = pandas.concat(season_averages).dropna()\n"
   ]
  },
  {
   "cell_type": "markdown",
   "metadata": {
    "slideshow": {
     "slide_type": "slide"
    }
   },
   "source": [
    "## Calculating Season Averages (now with more speed)\n",
    "\n",
    "* The above method techically works... but it takes roughly 26 seconds to run\n",
    "* Same calculation possible using pandas groupby/agg\n",
    "\t* Highly optimized\n",
    "    * Less error prone\n",
    "    * More fun!\n"
   ]
  },
  {
   "cell_type": "code",
   "execution_count": 6,
   "metadata": {
    "ExecuteTime": {
     "end_time": "2017-04-30T13:41:23.908923Z",
     "start_time": "2017-04-30T13:41:23.898857"
    },
    "collapsed": false,
    "slideshow": {
     "slide_type": "subslide"
    }
   },
   "outputs": [],
   "source": [
    "# Season and team are IDs, the rest are stats\n",
    "loss_cols = ['Season', 'Lteam', 'Lscore', 'Lfgm', 'Lfga', 'Lfgm3', 'Lfga3',\n",
    "             'Lftm', 'Lfta', 'Lor', 'Ldr', 'Last', 'Lto', 'Lstl', 'Lblk',\n",
    "             'Lpf']\n",
    "win_cols = ['Season', 'Wteam', 'Wscore', 'Wfgm', 'Wfga', 'Wfgm3', 'Wfga3',\n",
    "            'Wftm', 'Wfta', 'Wor', 'Wdr', 'Wast', 'Wto', 'Wstl', 'Wblk',\n",
    "            'Wpf']\n",
    "\n",
    "# Once we select columsn, we want to drop \"W\" and \"L\"... stats are stats\n",
    "renamed_cols = [col[1:] if col.startswith(\"W\") else col for col in win_cols]\n",
    "\n",
    "# Select and rename columns en masse\n",
    "df_win = df_regular_season[win_cols].copy()\n",
    "df_win.columns = renamed_cols\n",
    "\n",
    "df_loss = df_regular_season[loss_cols].copy()\n",
    "df_loss.columns = renamed_cols\n",
    "\n",
    "# Concatenate just two dataframes instead of one for each team\n",
    "df_all = pandas.concat([df_win, df_loss])\n",
    "\n",
    "# Calculate season average with groupby/agg\n",
    "df_mean = df_all.groupby([\"Season\", 'team'], as_index=False).agg(\"mean\")"
   ]
  },
  {
   "cell_type": "markdown",
   "metadata": {
    "slideshow": {
     "slide_type": "subslide"
    }
   },
   "source": [
    "## Slow vs. Fast\n",
    "\n",
    "* We've replaced the iteration over team/season in python with pandas groupby/agg\n",
    "* Loops in python code incur overhead from the interpreter\n",
    "* Implementations of groupby/agg written in C and highly optimized (all hail Wes)\n",
    "\n",
    "\n",
    "* Rule of thumb: avoid loops over \n",
    "* `map()`/`lambda` doesn't count as eliminating loops... `lambdas` still hit the interpreter"
   ]
  },
  {
   "cell_type": "markdown",
   "metadata": {
    "slideshow": {
     "slide_type": "slide"
    }
   },
   "source": [
    "##  Merge seeds\n",
    "\n",
    "* We want to use the seeds as features in addition to season averages\n",
    "* Need to merge from a separate dataframe"
   ]
  },
  {
   "cell_type": "code",
   "execution_count": 14,
   "metadata": {
    "collapsed": false
   },
   "outputs": [
    {
     "data": {
      "text/html": [
       "<div>\n",
       "<table border=\"1\" class=\"dataframe\">\n",
       "  <thead>\n",
       "    <tr style=\"text-align: right;\">\n",
       "      <th></th>\n",
       "      <th>Season</th>\n",
       "      <th>team</th>\n",
       "      <th>score</th>\n",
       "      <th>fgm</th>\n",
       "      <th>fga</th>\n",
       "      <th>fgm3</th>\n",
       "      <th>fga3</th>\n",
       "      <th>ftm</th>\n",
       "      <th>fta</th>\n",
       "      <th>or</th>\n",
       "      <th>dr</th>\n",
       "      <th>ast</th>\n",
       "      <th>to</th>\n",
       "      <th>stl</th>\n",
       "      <th>blk</th>\n",
       "      <th>pf</th>\n",
       "      <th>Seed</th>\n",
       "    </tr>\n",
       "  </thead>\n",
       "  <tbody>\n",
       "    <tr>\n",
       "      <th>0</th>\n",
       "      <td>2003</td>\n",
       "      <td>1102</td>\n",
       "      <td>57.250000</td>\n",
       "      <td>19.142857</td>\n",
       "      <td>39.785714</td>\n",
       "      <td>7.821429</td>\n",
       "      <td>20.821429</td>\n",
       "      <td>11.142857</td>\n",
       "      <td>17.107143</td>\n",
       "      <td>4.178571</td>\n",
       "      <td>16.821429</td>\n",
       "      <td>13.000000</td>\n",
       "      <td>11.428571</td>\n",
       "      <td>5.964286</td>\n",
       "      <td>1.785714</td>\n",
       "      <td>18.750000</td>\n",
       "      <td>17.0</td>\n",
       "    </tr>\n",
       "    <tr>\n",
       "      <th>1</th>\n",
       "      <td>2003</td>\n",
       "      <td>1103</td>\n",
       "      <td>78.777778</td>\n",
       "      <td>27.148148</td>\n",
       "      <td>55.851852</td>\n",
       "      <td>5.444444</td>\n",
       "      <td>16.074074</td>\n",
       "      <td>19.037037</td>\n",
       "      <td>25.851852</td>\n",
       "      <td>9.777778</td>\n",
       "      <td>19.925926</td>\n",
       "      <td>15.222222</td>\n",
       "      <td>12.629630</td>\n",
       "      <td>7.259259</td>\n",
       "      <td>2.333333</td>\n",
       "      <td>19.851852</td>\n",
       "      <td>17.0</td>\n",
       "    </tr>\n",
       "    <tr>\n",
       "      <th>2</th>\n",
       "      <td>2003</td>\n",
       "      <td>1104</td>\n",
       "      <td>69.285714</td>\n",
       "      <td>24.035714</td>\n",
       "      <td>57.178571</td>\n",
       "      <td>6.357143</td>\n",
       "      <td>19.857143</td>\n",
       "      <td>14.857143</td>\n",
       "      <td>20.928571</td>\n",
       "      <td>13.571429</td>\n",
       "      <td>23.928571</td>\n",
       "      <td>12.107143</td>\n",
       "      <td>13.285714</td>\n",
       "      <td>6.607143</td>\n",
       "      <td>3.785714</td>\n",
       "      <td>18.035714</td>\n",
       "      <td>10.0</td>\n",
       "    </tr>\n",
       "    <tr>\n",
       "      <th>3</th>\n",
       "      <td>2003</td>\n",
       "      <td>1105</td>\n",
       "      <td>71.769231</td>\n",
       "      <td>24.384615</td>\n",
       "      <td>61.615385</td>\n",
       "      <td>7.576923</td>\n",
       "      <td>20.769231</td>\n",
       "      <td>15.423077</td>\n",
       "      <td>21.846154</td>\n",
       "      <td>13.500000</td>\n",
       "      <td>23.115385</td>\n",
       "      <td>14.538462</td>\n",
       "      <td>18.653846</td>\n",
       "      <td>9.307692</td>\n",
       "      <td>2.076923</td>\n",
       "      <td>20.230769</td>\n",
       "      <td>17.0</td>\n",
       "    </tr>\n",
       "    <tr>\n",
       "      <th>4</th>\n",
       "      <td>2003</td>\n",
       "      <td>1106</td>\n",
       "      <td>63.607143</td>\n",
       "      <td>23.428571</td>\n",
       "      <td>55.285714</td>\n",
       "      <td>6.107143</td>\n",
       "      <td>17.642857</td>\n",
       "      <td>10.642857</td>\n",
       "      <td>16.464286</td>\n",
       "      <td>12.285714</td>\n",
       "      <td>23.857143</td>\n",
       "      <td>11.678571</td>\n",
       "      <td>17.035714</td>\n",
       "      <td>8.357143</td>\n",
       "      <td>3.142857</td>\n",
       "      <td>18.178571</td>\n",
       "      <td>17.0</td>\n",
       "    </tr>\n",
       "  </tbody>\n",
       "</table>\n",
       "</div>"
      ],
      "text/plain": [
       "   Season  team      score        fgm        fga      fgm3       fga3  \\\n",
       "0    2003  1102  57.250000  19.142857  39.785714  7.821429  20.821429   \n",
       "1    2003  1103  78.777778  27.148148  55.851852  5.444444  16.074074   \n",
       "2    2003  1104  69.285714  24.035714  57.178571  6.357143  19.857143   \n",
       "3    2003  1105  71.769231  24.384615  61.615385  7.576923  20.769231   \n",
       "4    2003  1106  63.607143  23.428571  55.285714  6.107143  17.642857   \n",
       "\n",
       "         ftm        fta         or         dr        ast         to       stl  \\\n",
       "0  11.142857  17.107143   4.178571  16.821429  13.000000  11.428571  5.964286   \n",
       "1  19.037037  25.851852   9.777778  19.925926  15.222222  12.629630  7.259259   \n",
       "2  14.857143  20.928571  13.571429  23.928571  12.107143  13.285714  6.607143   \n",
       "3  15.423077  21.846154  13.500000  23.115385  14.538462  18.653846  9.307692   \n",
       "4  10.642857  16.464286  12.285714  23.857143  11.678571  17.035714  8.357143   \n",
       "\n",
       "        blk         pf  Seed  \n",
       "0  1.785714  18.750000  17.0  \n",
       "1  2.333333  19.851852  17.0  \n",
       "2  3.785714  18.035714  10.0  \n",
       "3  2.076923  20.230769  17.0  \n",
       "4  3.142857  18.178571  17.0  "
      ]
     },
     "execution_count": 14,
     "metadata": {},
     "output_type": "execute_result"
    }
   ],
   "source": [
    "import numpy\n",
    "\n",
    "df_seeds = pandas.read_csv(\"TourneySeeds.csv\")\n",
    "\n",
    "# Seed is a string which includes division, e.g. \"W08\"\n",
    "# TIP: use built-in `str.slice()`, not map/lambda\n",
    "df_seeds[\"Seed\"] = df_seeds[\"Seed\"].str.slice(1, 3).astype(numpy.int32)\n",
    "\n",
    "# Add the seeds to the feature vectors \n",
    "df_features = df_mean.merge(df_seeds, how=\"left\",\n",
    "                            left_on=[\"team\", \"Season\"],\n",
    "                            right_on=[\"Team\", \"Season\"])\n",
    "\n",
    "# Set seeds for unseeded teams to 17 (null is result of merge)\n",
    "# TIP: use double index in `.loc[]`, not two index operations\n",
    "df_features.loc[df_features[\"Seed\"].isnull(), \"Seed\"] = 17\n",
    "\n",
    "# We don't need the team name string in the feature vectors\n",
    "del df_features[\"Team\"]\n",
    "\n",
    "\n",
    "df_features.head()\n"
   ]
  },
  {
   "cell_type": "markdown",
   "metadata": {
    "slideshow": {
     "slide_type": "slide"
    }
   },
   "source": [
    "## Prepare Training Dataset\n",
    "\n",
    "* Build dataset of matchups, concatenating \"home\" and \"away\" team feature vectors"
   ]
  },
  {
   "cell_type": "code",
   "execution_count": 98,
   "metadata": {
    "collapsed": false
   },
   "outputs": [
    {
     "data": {
      "text/html": [
       "<div>\n",
       "<table border=\"1\" class=\"dataframe\">\n",
       "  <thead>\n",
       "    <tr style=\"text-align: right;\">\n",
       "      <th></th>\n",
       "      <th>Season</th>\n",
       "      <th>home_score</th>\n",
       "      <th>home_team</th>\n",
       "      <th>away_score</th>\n",
       "      <th>away_team</th>\n",
       "    </tr>\n",
       "  </thead>\n",
       "  <tbody>\n",
       "    <tr>\n",
       "      <th>0</th>\n",
       "      <td>1985</td>\n",
       "      <td>81</td>\n",
       "      <td>1228</td>\n",
       "      <td>64</td>\n",
       "      <td>1328</td>\n",
       "    </tr>\n",
       "    <tr>\n",
       "      <th>1</th>\n",
       "      <td>1985</td>\n",
       "      <td>77</td>\n",
       "      <td>1106</td>\n",
       "      <td>70</td>\n",
       "      <td>1354</td>\n",
       "    </tr>\n",
       "    <tr>\n",
       "      <th>2</th>\n",
       "      <td>1985</td>\n",
       "      <td>63</td>\n",
       "      <td>1112</td>\n",
       "      <td>56</td>\n",
       "      <td>1223</td>\n",
       "    </tr>\n",
       "    <tr>\n",
       "      <th>3</th>\n",
       "      <td>1985</td>\n",
       "      <td>70</td>\n",
       "      <td>1165</td>\n",
       "      <td>54</td>\n",
       "      <td>1432</td>\n",
       "    </tr>\n",
       "    <tr>\n",
       "      <th>4</th>\n",
       "      <td>1985</td>\n",
       "      <td>86</td>\n",
       "      <td>1192</td>\n",
       "      <td>74</td>\n",
       "      <td>1447</td>\n",
       "    </tr>\n",
       "  </tbody>\n",
       "</table>\n",
       "</div>"
      ],
      "text/plain": [
       "   Season  home_score  home_team  away_score  away_team\n",
       "0    1985          81       1228          64       1328\n",
       "1    1985          77       1106          70       1354\n",
       "2    1985          63       1112          56       1223\n",
       "3    1985          70       1165          54       1432\n",
       "4    1985          86       1192          74       1447"
      ]
     },
     "execution_count": 98,
     "metadata": {},
     "output_type": "execute_result"
    }
   ],
   "source": [
    "# Load regular season matchups (not full stat results)\n",
    "df_regular_season = pandas.read_csv(\"RegularSeasonCompactResults.csv\")\n",
    "\n",
    "# Extract winning and losing results for all teams\n",
    "df_win = df_regular_season[[\"Season\", \"Wscore\", \"Wteam\", \"Lscore\", \"Lteam\"]]\n",
    "df_loss = df_regular_season[[\"Season\", \"Lscore\", \"Lteam\", \"Wscore\", \"Wteam\"]]\n",
    "\n",
    "# Rename columns to not reflect winner or loser (\"home\" is arbitrary)\n",
    "matchup_rename_columns = [\"Season\", \"home_score\", \"home_team\",\n",
    "                          \"away_score\", \"away_team\"]\n",
    "df_win.columns = matchup_rename_columns\n",
    "df_loss.columns = matchup_rename_columns\n",
    "\n",
    "df_matchups = pandas.concat([df_win, df_loss])\n",
    "\n",
    "df_matchups.head()"
   ]
  },
  {
   "cell_type": "markdown",
   "metadata": {
    "slideshow": {
     "slide_type": "slide"
    }
   },
   "source": [
    "### Merge/join features"
   ]
  },
  {
   "cell_type": "code",
   "execution_count": 99,
   "metadata": {
    "collapsed": false
   },
   "outputs": [],
   "source": [
    "df_matchups = df_matchups.merge(df_features, how=\"inner\",\n",
    "                                left_on=[\"Season\", \"home_team\"],\n",
    "                                right_on=[\"Season\", \"team\"],\n",
    "                                suffixes=(\"_\", \"_home\"))\n",
    "\n",
    "df_matchups = df_matchups.merge(df_features, how=\"inner\",\n",
    "                                left_on=[\"Season\", \"away_team\"],\n",
    "                                right_on=[\"Season\", \"team\"],\n",
    "                                suffixes=(\"_home\", \"_away\"))"
   ]
  },
  {
   "cell_type": "markdown",
   "metadata": {
    "slideshow": {
     "slide_type": "slide"
    }
   },
   "source": [
    "## Prepare Input Features for Training"
   ]
  },
  {
   "cell_type": "code",
   "execution_count": 106,
   "metadata": {
    "collapsed": false
   },
   "outputs": [],
   "source": [
    "from sklearn import preprocessing\n",
    "\n",
    "# Select columns which serve as input\n",
    "input_columns = [col for col in df_matchups.columns \n",
    "                 if not (col.startswith(\"team_\")) \n",
    "                 and (col.endswith(\"_away\") or col.endswith(\"_home\"))]\n",
    "x_unscaled = df_matchups[input_columns] \n",
    "\n",
    "# Normalize features (unit scale and centered at zero)\n",
    "# RobustScaler takes median as center, IQR as unit range\n",
    "scaler = preprocessing.RobustScaler() \n",
    "x = scaler.fit_transform(x_unscaled)"
   ]
  },
  {
   "cell_type": "markdown",
   "metadata": {
    "slideshow": {
     "slide_type": "slide"
    }
   },
   "source": [
    "## Prepare model target/output features \n",
    "\n",
    "* We're doing supervised machine learning, so we need a target to predict\n",
    "* Target is whether or not the \"home team\" will win"
   ]
  },
  {
   "cell_type": "code",
   "execution_count": 102,
   "metadata": {
    "collapsed": false
   },
   "outputs": [],
   "source": [
    "df_matchups[\"home_win\"] = (df_matchups[\"home_score\"] >\n",
    "                           df_matchups[\"away_score\"])\n",
    "\n",
    "y = df_matchups[\"home_win\"].astype(int)"
   ]
  },
  {
   "cell_type": "markdown",
   "metadata": {
    "slideshow": {
     "slide_type": "slide"
    }
   },
   "source": [
    "## Create train/test split"
   ]
  },
  {
   "cell_type": "code",
   "execution_count": 103,
   "metadata": {
    "collapsed": false,
    "slideshow": {
     "slide_type": "-"
    }
   },
   "outputs": [],
   "source": [
    "from sklearn import model_selection \n",
    "from keras.utils import np_utils\n",
    "\n",
    "x_train, x_test, y_train, y_test = (model_selection\n",
    "                                    .train_test_split(x, y, test_size=0.2,\n",
    "                                                      random_state=432,\n",
    "                                                      stratify=y))\n",
    "\n",
    "y_cat_train = np_utils.to_categorical(y_train)\n",
    "y_cat_test = np_utils.to_categorical(y_test)\n"
   ]
  },
  {
   "cell_type": "markdown",
   "metadata": {
    "slideshow": {
     "slide_type": "slide"
    }
   },
   "source": [
    "## Train a basic neural network\n"
   ]
  },
  {
   "cell_type": "code",
   "execution_count": 104,
   "metadata": {
    "collapsed": false
   },
   "outputs": [],
   "source": [
    "from keras import models\n",
    "from keras import optimizers\n",
    "from keras import layers\n",
    "\n",
    "model_mlp = models.Sequential()\n",
    "model_mlp.add(layers.Dense(units=100, input_dim=len(input_columns)))\n",
    "model_mlp.add(layers.Dropout(rate=0.85)) # Dropout prevents overfitting \n",
    "model_mlp.add(layers.Activation('sigmoid'))\n",
    "model_mlp.add(layers.Dense(units=2))\n",
    "model_mlp.add(layers.Activation('softmax'))\n",
    "\n",
    "model_mlp.compile(loss='categorical_crossentropy',\n",
    "                  optimizer=optimizers.RMSprop(lr=0.001),\n",
    "                  metrics=['accuracy'])\n",
    "\n",
    "history = model_mlp.fit(x_train, y_cat_train, batch_size=10000, epochs=100,\n",
    "                        verbose=0, validation_data=(x_test, y_cat_test))"
   ]
  },
  {
   "cell_type": "markdown",
   "metadata": {
    "slideshow": {
     "slide_type": "subslide"
    }
   },
   "source": [
    "## Inspect results"
   ]
  },
  {
   "cell_type": "code",
   "execution_count": 105,
   "metadata": {
    "collapsed": false,
    "slideshow": {
     "slide_type": "-"
    }
   },
   "outputs": [
    {
     "data": {
      "text/plain": [
       "<matplotlib.text.Text at 0x11acdbcd0>"
      ]
     },
     "execution_count": 105,
     "metadata": {},
     "output_type": "execute_result"
    },
    {
     "data": {
      "image/png": "[encoded data removed]",
      "text/plain": [
       "<matplotlib.figure.Figure at 0x11b36d690>"
      ]
     },
     "metadata": {},
     "output_type": "display_data"
    }
   ],
   "source": [
    "from matplotlib import pyplot\n",
    "%matplotlib inline\n",
    "\n",
    "pyplot.plot(history.history['acc'])\n",
    "pyplot.plot(history.history['val_acc'])\n",
    "final_accuracy = history.history['val_acc'][-1]\n",
    "pyplot.axhline(final_accuracy, linestyle='--', color='r')\n",
    "\n",
    "\n",
    "pyplot.ylim([0.70, 0.75])\n",
    "pyplot.xlim([0, 100])\n",
    "pyplot.legend([\"Training Sample\", \"Test Sample\", \"Final Accuracy\"])\n",
    "pyplot.xlabel(\"Epoch\")\n",
    "pyplot.ylabel(\"Accuracy\")\n",
    "\n"
   ]
  },
  {
   "cell_type": "markdown",
   "metadata": {
    "slideshow": {
     "slide_type": "slide"
    }
   },
   "source": [
    "## Summary \n",
    "\n",
    "* pandas makes data manipulation easy and fast\n",
    "* Explicit loops over data should be avoided\n",
    "* Scikit learn has a wide variety of machine learning tools\n",
    "* Keras makes nerual network usage look easy\n"
   ]
  },
  {
   "cell_type": "markdown",
   "metadata": {
    "slideshow": {
     "slide_type": "slide"
    }
   },
   "source": [
    "# Backup"
   ]
  },
  {
   "cell_type": "markdown",
   "metadata": {},
   "source": [
    "## Train a gradient boosted tree "
   ]
  },
  {
   "cell_type": "code",
   "execution_count": 161,
   "metadata": {
    "collapsed": false
   },
   "outputs": [
    {
     "name": "stdout",
     "output_type": "stream",
     "text": [
      "Accuracy: 0.726439406296\n"
     ]
    }
   ],
   "source": [
    "from sklearn import ensemble\n",
    "\n",
    "model_gbm = ensemble.GradientBoostingClassifier(n_estimators=120,\n",
    "                                                subsample=0.75,\n",
    "                                                learning_rate=0.25,\n",
    "                                                max_depth=3)\n",
    "\n",
    "model_gbm.fit(x_train, y_train)\n",
    "\n",
    "print \"Accuracy: %s\" % model_gbm.score(x_test, y_test)"
   ]
  }
 ],
 "metadata": {
  "celltoolbar": "Slideshow",
  "kernelspec": {
   "display_name": "Python 2",
   "language": "python",
   "name": "python2"
  },
  "language_info": {
   "codemirror_mode": {
    "name": "ipython",
    "version": 2
   },
   "file_extension": ".py",
   "mimetype": "text/x-python",
   "name": "python",
   "nbconvert_exporter": "python",
   "pygments_lexer": "ipython2",
   "version": "2.7.13"
  }
 },
 "nbformat": 4,
 "nbformat_minor": 1
}
