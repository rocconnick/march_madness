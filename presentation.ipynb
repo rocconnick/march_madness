{
 "cells": [
  {
   "cell_type": "markdown",
   "metadata": {
    "slideshow": {
     "slide_type": "slide"
    }
   },
   "source": [
    "# March Madness Bracket Predictions with Pandas, Scikit-learn, and Keras\n",
    "\n",
    "### Dominick Rocco"
   ]
  },
  {
   "cell_type": "markdown",
   "metadata": {
    "collapsed": false,
    "slideshow": {
     "slide_type": "slide"
    }
   },
   "source": [
    "## Introduction \n",
    "\n",
    "* March Madness is a relatively obscure sporting event that happens every spring\n",
    "* NCAA Division I basketball championship\n",
    "* 64 (+4) team single-elimination tournament\n",
    "* Bracket prediction challenges are sort of popular\n",
    "\n",
    "\n",
    "* Great opportunity to play with machine learning!\n",
    "\n",
    "![](ncaa_mm.jpg)"
   ]
  },
  {
   "cell_type": "markdown",
   "metadata": {
    "slideshow": {
     "slide_type": "slide"
    }
   },
   "source": [
    "## Dataset\n",
    "\n",
    "* Kaggle competition: predict outcome of all possible tournament matchups\n",
    "\t* [www.kaggle.com/c/march-machine-learning-mania-2017](www.kaggle.com/c/march-machine-learning-mania-2017)\n",
    "* Convenient source of data!\n",
    "\t* No real cleaning necessary\n",
    "    * Just feature engineering and model development\n",
    "* External data allowed in competition, but not used here\n",
    "![](bball-logo.png)"
   ]
  },
  {
   "cell_type": "markdown",
   "metadata": {
    "slideshow": {
     "slide_type": "slide"
    }
   },
   "source": [
    "\n",
    "## Dataset Details\n",
    "\n",
    "* Results of regular season and tournament games (dating back to 1985)\n",
    "    * Winning team\n",
    "    * Losing team\n",
    "    * Winning score\n",
    "    * Losing score\n",
    "* Tournament seeds for participating teams (dating back to 1985)\n",
    "* Stats for winning/losing teams from regular season and tournament games (dating back to 2003)\n",
    "\n",
    "<table border=\"0\">\n",
    "  <tr>\n",
    "   <td> fgm - field goals made </td>\n",
    "   <td> fga - field goals attempted </td>\n",
    "  </tr> \n",
    "  <tr>\n",
    "   <td> fgm3 - three pointers made </td>\n",
    "   <td> fga3 - three pointers attempted </td>\n",
    "  </tr> \n",
    "  <tr>\n",
    "   <td> ftm - free throws made </td>\n",
    "   <td> fta - free throws attempted </td>\n",
    "  </tr> \n",
    "  <tr>\n",
    "   <td> or - offensive rebounds </td>\n",
    "   <td> dr - defensive rebounds </td>\n",
    "  </tr> \n",
    "  <tr>\n",
    "   <td> ast - assists </td>\n",
    "   <td> to - turnovers </td>\n",
    "  </tr> \n",
    "  <tr>\n",
    "   <td> stl - steals </td>\n",
    "   <td> blk - blocks </td>\n",
    "  </tr> \n",
    "  <tr>\n",
    "   <td> pf - personal fouls </td>\n",
    "   <td> </td>\n",
    "  </tr>\n",
    "</table>"
   ]
  },
  {
   "cell_type": "markdown",
   "metadata": {
    "slideshow": {
     "slide_type": "slide"
    }
   },
   "source": [
    "## Machine Learning Strategy\n",
    "\n",
    "* Supervised machine learning: use features to predict an outcome\n",
    "* Model input features:\n",
    "    * Season average stats for each team\n",
    "    * Team tournament seeds\n",
    "* Model architecture:\n",
    "\t* Concatenate feature vectors for \"Team A\" and \"Team B\" team\n",
    "    * Predict probability that \"Team A\" will win\n",
    "![](arch_diagram.png)\n"
   ]
  },
  {
   "cell_type": "markdown",
   "metadata": {
    "slideshow": {
     "slide_type": "slide"
    }
   },
   "source": [
    "## Season Average Calculation\n",
    "\n",
    "* Regular season results are statistcal outcomes of each game\n",
    "* Need to manipulate into averages for each team/season"
   ]
  },
  {
   "cell_type": "code",
   "execution_count": 1,
   "metadata": {
    "collapsed": false,
    "slideshow": {
     "slide_type": "-"
    }
   },
   "outputs": [
    {
     "data": {
      "text/html": [
       "<div>\n",
       "<table border=\"1\" class=\"dataframe\">\n",
       "  <thead>\n",
       "    <tr style=\"text-align: right;\">\n",
       "      <th></th>\n",
       "      <th>Season</th>\n",
       "      <th>Daynum</th>\n",
       "      <th>Wteam</th>\n",
       "      <th>Wscore</th>\n",
       "      <th>Lteam</th>\n",
       "      <th>Lscore</th>\n",
       "      <th>Wloc</th>\n",
       "      <th>Numot</th>\n",
       "      <th>Wfgm</th>\n",
       "      <th>Wfga</th>\n",
       "      <th>...</th>\n",
       "      <th>Lfga3</th>\n",
       "      <th>Lftm</th>\n",
       "      <th>Lfta</th>\n",
       "      <th>Lor</th>\n",
       "      <th>Ldr</th>\n",
       "      <th>Last</th>\n",
       "      <th>Lto</th>\n",
       "      <th>Lstl</th>\n",
       "      <th>Lblk</th>\n",
       "      <th>Lpf</th>\n",
       "    </tr>\n",
       "  </thead>\n",
       "  <tbody>\n",
       "    <tr>\n",
       "      <th>0</th>\n",
       "      <td>2003</td>\n",
       "      <td>10</td>\n",
       "      <td>1104</td>\n",
       "      <td>68</td>\n",
       "      <td>1328</td>\n",
       "      <td>62</td>\n",
       "      <td>N</td>\n",
       "      <td>0</td>\n",
       "      <td>27</td>\n",
       "      <td>58</td>\n",
       "      <td>...</td>\n",
       "      <td>10</td>\n",
       "      <td>16</td>\n",
       "      <td>22</td>\n",
       "      <td>10</td>\n",
       "      <td>22</td>\n",
       "      <td>8</td>\n",
       "      <td>18</td>\n",
       "      <td>9</td>\n",
       "      <td>2</td>\n",
       "      <td>20</td>\n",
       "    </tr>\n",
       "    <tr>\n",
       "      <th>1</th>\n",
       "      <td>2003</td>\n",
       "      <td>10</td>\n",
       "      <td>1272</td>\n",
       "      <td>70</td>\n",
       "      <td>1393</td>\n",
       "      <td>63</td>\n",
       "      <td>N</td>\n",
       "      <td>0</td>\n",
       "      <td>26</td>\n",
       "      <td>62</td>\n",
       "      <td>...</td>\n",
       "      <td>24</td>\n",
       "      <td>9</td>\n",
       "      <td>20</td>\n",
       "      <td>20</td>\n",
       "      <td>25</td>\n",
       "      <td>7</td>\n",
       "      <td>12</td>\n",
       "      <td>8</td>\n",
       "      <td>6</td>\n",
       "      <td>16</td>\n",
       "    </tr>\n",
       "    <tr>\n",
       "      <th>2</th>\n",
       "      <td>2003</td>\n",
       "      <td>11</td>\n",
       "      <td>1266</td>\n",
       "      <td>73</td>\n",
       "      <td>1437</td>\n",
       "      <td>61</td>\n",
       "      <td>N</td>\n",
       "      <td>0</td>\n",
       "      <td>24</td>\n",
       "      <td>58</td>\n",
       "      <td>...</td>\n",
       "      <td>26</td>\n",
       "      <td>14</td>\n",
       "      <td>23</td>\n",
       "      <td>31</td>\n",
       "      <td>22</td>\n",
       "      <td>9</td>\n",
       "      <td>12</td>\n",
       "      <td>2</td>\n",
       "      <td>5</td>\n",
       "      <td>23</td>\n",
       "    </tr>\n",
       "    <tr>\n",
       "      <th>3</th>\n",
       "      <td>2003</td>\n",
       "      <td>11</td>\n",
       "      <td>1296</td>\n",
       "      <td>56</td>\n",
       "      <td>1457</td>\n",
       "      <td>50</td>\n",
       "      <td>N</td>\n",
       "      <td>0</td>\n",
       "      <td>18</td>\n",
       "      <td>38</td>\n",
       "      <td>...</td>\n",
       "      <td>22</td>\n",
       "      <td>8</td>\n",
       "      <td>15</td>\n",
       "      <td>17</td>\n",
       "      <td>20</td>\n",
       "      <td>9</td>\n",
       "      <td>19</td>\n",
       "      <td>4</td>\n",
       "      <td>3</td>\n",
       "      <td>23</td>\n",
       "    </tr>\n",
       "    <tr>\n",
       "      <th>4</th>\n",
       "      <td>2003</td>\n",
       "      <td>11</td>\n",
       "      <td>1400</td>\n",
       "      <td>77</td>\n",
       "      <td>1208</td>\n",
       "      <td>71</td>\n",
       "      <td>N</td>\n",
       "      <td>0</td>\n",
       "      <td>30</td>\n",
       "      <td>61</td>\n",
       "      <td>...</td>\n",
       "      <td>16</td>\n",
       "      <td>17</td>\n",
       "      <td>27</td>\n",
       "      <td>21</td>\n",
       "      <td>15</td>\n",
       "      <td>12</td>\n",
       "      <td>10</td>\n",
       "      <td>7</td>\n",
       "      <td>1</td>\n",
       "      <td>14</td>\n",
       "    </tr>\n",
       "  </tbody>\n",
       "</table>\n",
       "<p>5 rows × 34 columns</p>\n",
       "</div>"
      ],
      "text/plain": [
       "   Season  Daynum  Wteam  Wscore  Lteam  Lscore Wloc  Numot  Wfgm  Wfga ...   \\\n",
       "0    2003      10   1104      68   1328      62    N      0    27    58 ...    \n",
       "1    2003      10   1272      70   1393      63    N      0    26    62 ...    \n",
       "2    2003      11   1266      73   1437      61    N      0    24    58 ...    \n",
       "3    2003      11   1296      56   1457      50    N      0    18    38 ...    \n",
       "4    2003      11   1400      77   1208      71    N      0    30    61 ...    \n",
       "\n",
       "   Lfga3  Lftm  Lfta  Lor  Ldr  Last  Lto  Lstl  Lblk  Lpf  \n",
       "0     10    16    22   10   22     8   18     9     2   20  \n",
       "1     24     9    20   20   25     7   12     8     6   16  \n",
       "2     26    14    23   31   22     9   12     2     5   23  \n",
       "3     22     8    15   17   20     9   19     4     3   23  \n",
       "4     16    17    27   21   15    12   10     7     1   14  \n",
       "\n",
       "[5 rows x 34 columns]"
      ]
     },
     "execution_count": 1,
     "metadata": {},
     "output_type": "execute_result"
    }
   ],
   "source": [
    "import pandas\n",
    "\n",
    "# Load regular season game stats \n",
    "df_regular_season = pandas.read_csv('RegularSeasonDetailedResults.csv')\n",
    "\n",
    "df_regular_season.head()"
   ]
  },
  {
   "cell_type": "markdown",
   "metadata": {
    "slideshow": {
     "slide_type": "subslide"
    }
   },
   "source": [
    "* Build a dataframe of all games played by each team, both wins and losses"
   ]
  },
  {
   "cell_type": "code",
   "execution_count": 2,
   "metadata": {
    "ExecuteTime": {
     "end_time": "2017-04-30T13:41:23.908923Z",
     "start_time": "2017-04-30T13:41:23.898857"
    },
    "collapsed": false,
    "slideshow": {
     "slide_type": "-"
    }
   },
   "outputs": [
    {
     "data": {
      "text/html": [
       "<div>\n",
       "<table border=\"1\" class=\"dataframe\">\n",
       "  <thead>\n",
       "    <tr style=\"text-align: right;\">\n",
       "      <th></th>\n",
       "      <th>Season</th>\n",
       "      <th>team</th>\n",
       "      <th>score</th>\n",
       "      <th>fgm</th>\n",
       "      <th>fga</th>\n",
       "      <th>fgm3</th>\n",
       "      <th>fga3</th>\n",
       "      <th>ftm</th>\n",
       "      <th>fta</th>\n",
       "      <th>or</th>\n",
       "      <th>dr</th>\n",
       "      <th>ast</th>\n",
       "      <th>to</th>\n",
       "      <th>stl</th>\n",
       "      <th>blk</th>\n",
       "      <th>pf</th>\n",
       "    </tr>\n",
       "  </thead>\n",
       "  <tbody>\n",
       "    <tr>\n",
       "      <th>0</th>\n",
       "      <td>2003</td>\n",
       "      <td>1104</td>\n",
       "      <td>68</td>\n",
       "      <td>27</td>\n",
       "      <td>58</td>\n",
       "      <td>3</td>\n",
       "      <td>14</td>\n",
       "      <td>11</td>\n",
       "      <td>18</td>\n",
       "      <td>14</td>\n",
       "      <td>24</td>\n",
       "      <td>13</td>\n",
       "      <td>23</td>\n",
       "      <td>7</td>\n",
       "      <td>1</td>\n",
       "      <td>22</td>\n",
       "    </tr>\n",
       "    <tr>\n",
       "      <th>1</th>\n",
       "      <td>2003</td>\n",
       "      <td>1272</td>\n",
       "      <td>70</td>\n",
       "      <td>26</td>\n",
       "      <td>62</td>\n",
       "      <td>8</td>\n",
       "      <td>20</td>\n",
       "      <td>10</td>\n",
       "      <td>19</td>\n",
       "      <td>15</td>\n",
       "      <td>28</td>\n",
       "      <td>16</td>\n",
       "      <td>13</td>\n",
       "      <td>4</td>\n",
       "      <td>4</td>\n",
       "      <td>18</td>\n",
       "    </tr>\n",
       "    <tr>\n",
       "      <th>2</th>\n",
       "      <td>2003</td>\n",
       "      <td>1266</td>\n",
       "      <td>73</td>\n",
       "      <td>24</td>\n",
       "      <td>58</td>\n",
       "      <td>8</td>\n",
       "      <td>18</td>\n",
       "      <td>17</td>\n",
       "      <td>29</td>\n",
       "      <td>17</td>\n",
       "      <td>26</td>\n",
       "      <td>15</td>\n",
       "      <td>10</td>\n",
       "      <td>5</td>\n",
       "      <td>2</td>\n",
       "      <td>25</td>\n",
       "    </tr>\n",
       "    <tr>\n",
       "      <th>3</th>\n",
       "      <td>2003</td>\n",
       "      <td>1296</td>\n",
       "      <td>56</td>\n",
       "      <td>18</td>\n",
       "      <td>38</td>\n",
       "      <td>3</td>\n",
       "      <td>9</td>\n",
       "      <td>17</td>\n",
       "      <td>31</td>\n",
       "      <td>6</td>\n",
       "      <td>19</td>\n",
       "      <td>11</td>\n",
       "      <td>12</td>\n",
       "      <td>14</td>\n",
       "      <td>2</td>\n",
       "      <td>18</td>\n",
       "    </tr>\n",
       "    <tr>\n",
       "      <th>4</th>\n",
       "      <td>2003</td>\n",
       "      <td>1400</td>\n",
       "      <td>77</td>\n",
       "      <td>30</td>\n",
       "      <td>61</td>\n",
       "      <td>6</td>\n",
       "      <td>14</td>\n",
       "      <td>11</td>\n",
       "      <td>13</td>\n",
       "      <td>17</td>\n",
       "      <td>22</td>\n",
       "      <td>12</td>\n",
       "      <td>14</td>\n",
       "      <td>4</td>\n",
       "      <td>4</td>\n",
       "      <td>20</td>\n",
       "    </tr>\n",
       "  </tbody>\n",
       "</table>\n",
       "</div>"
      ],
      "text/plain": [
       "   Season  team  score  fgm  fga  fgm3  fga3  ftm  fta  or  dr  ast  to  stl  \\\n",
       "0    2003  1104     68   27   58     3    14   11   18  14  24   13  23    7   \n",
       "1    2003  1272     70   26   62     8    20   10   19  15  28   16  13    4   \n",
       "2    2003  1266     73   24   58     8    18   17   29  17  26   15  10    5   \n",
       "3    2003  1296     56   18   38     3     9   17   31   6  19   11  12   14   \n",
       "4    2003  1400     77   30   61     6    14   11   13  17  22   12  14    4   \n",
       "\n",
       "   blk  pf  \n",
       "0    1  22  \n",
       "1    4  18  \n",
       "2    2  25  \n",
       "3    2  18  \n",
       "4    4  20  "
      ]
     },
     "execution_count": 2,
     "metadata": {},
     "output_type": "execute_result"
    }
   ],
   "source": [
    "# Columns corresponding to winning and losing teams\n",
    "win_cols = ['Season', 'Wteam', 'Wscore', 'Wfgm', 'Wfga', 'Wfgm3', 'Wfga3',\n",
    "            'Wftm', 'Wfta', 'Wor', 'Wdr', 'Wast', 'Wto', 'Wstl', 'Wblk',\n",
    "            'Wpf']\n",
    "loss_cols = ['Season', 'Lteam', 'Lscore', 'Lfgm', 'Lfga', 'Lfgm3', 'Lfga3',\n",
    "             'Lftm', 'Lfta', 'Lor', 'Ldr', 'Last', 'Lto', 'Lstl', 'Lblk',\n",
    "             'Lpf']\n",
    "\n",
    "# Once we select columns, we want to drop \"W\" and \"L\"... stats are stats\n",
    "renamed_cols = [col[1:] if col.startswith(\"W\") else col for col in win_cols]\n",
    "\n",
    "# Select and rename columns en masse\n",
    "df_win = df_regular_season[win_cols].copy()\n",
    "df_win.columns = renamed_cols\n",
    "\n",
    "df_loss = df_regular_season[loss_cols].copy()\n",
    "df_loss.columns = renamed_cols\n",
    "\n",
    "# Concatenate just two dataframes instead of one for each team\n",
    "df_all = pandas.concat([df_win, df_loss])\n",
    "df_all.head()"
   ]
  },
  {
   "cell_type": "markdown",
   "metadata": {
    "slideshow": {
     "slide_type": "subslide"
    }
   },
   "source": [
    "* Calculate season averages using `groupby().agg()`"
   ]
  },
  {
   "cell_type": "code",
   "execution_count": 3,
   "metadata": {
    "collapsed": false,
    "slideshow": {
     "slide_type": "-"
    }
   },
   "outputs": [
    {
     "data": {
      "text/html": [
       "<div>\n",
       "<table border=\"1\" class=\"dataframe\">\n",
       "  <thead>\n",
       "    <tr style=\"text-align: right;\">\n",
       "      <th></th>\n",
       "      <th>Season</th>\n",
       "      <th>team</th>\n",
       "      <th>score</th>\n",
       "      <th>fgm</th>\n",
       "      <th>fga</th>\n",
       "      <th>fgm3</th>\n",
       "      <th>fga3</th>\n",
       "      <th>ftm</th>\n",
       "      <th>fta</th>\n",
       "      <th>or</th>\n",
       "      <th>dr</th>\n",
       "      <th>ast</th>\n",
       "      <th>to</th>\n",
       "      <th>stl</th>\n",
       "      <th>blk</th>\n",
       "      <th>pf</th>\n",
       "    </tr>\n",
       "  </thead>\n",
       "  <tbody>\n",
       "    <tr>\n",
       "      <th>0</th>\n",
       "      <td>2003</td>\n",
       "      <td>1102</td>\n",
       "      <td>57.250000</td>\n",
       "      <td>19.142857</td>\n",
       "      <td>39.785714</td>\n",
       "      <td>7.821429</td>\n",
       "      <td>20.821429</td>\n",
       "      <td>11.142857</td>\n",
       "      <td>17.107143</td>\n",
       "      <td>4.178571</td>\n",
       "      <td>16.821429</td>\n",
       "      <td>13.000000</td>\n",
       "      <td>11.428571</td>\n",
       "      <td>5.964286</td>\n",
       "      <td>1.785714</td>\n",
       "      <td>18.750000</td>\n",
       "    </tr>\n",
       "    <tr>\n",
       "      <th>1</th>\n",
       "      <td>2003</td>\n",
       "      <td>1103</td>\n",
       "      <td>78.777778</td>\n",
       "      <td>27.148148</td>\n",
       "      <td>55.851852</td>\n",
       "      <td>5.444444</td>\n",
       "      <td>16.074074</td>\n",
       "      <td>19.037037</td>\n",
       "      <td>25.851852</td>\n",
       "      <td>9.777778</td>\n",
       "      <td>19.925926</td>\n",
       "      <td>15.222222</td>\n",
       "      <td>12.629630</td>\n",
       "      <td>7.259259</td>\n",
       "      <td>2.333333</td>\n",
       "      <td>19.851852</td>\n",
       "    </tr>\n",
       "    <tr>\n",
       "      <th>2</th>\n",
       "      <td>2003</td>\n",
       "      <td>1104</td>\n",
       "      <td>69.285714</td>\n",
       "      <td>24.035714</td>\n",
       "      <td>57.178571</td>\n",
       "      <td>6.357143</td>\n",
       "      <td>19.857143</td>\n",
       "      <td>14.857143</td>\n",
       "      <td>20.928571</td>\n",
       "      <td>13.571429</td>\n",
       "      <td>23.928571</td>\n",
       "      <td>12.107143</td>\n",
       "      <td>13.285714</td>\n",
       "      <td>6.607143</td>\n",
       "      <td>3.785714</td>\n",
       "      <td>18.035714</td>\n",
       "    </tr>\n",
       "    <tr>\n",
       "      <th>3</th>\n",
       "      <td>2003</td>\n",
       "      <td>1105</td>\n",
       "      <td>71.769231</td>\n",
       "      <td>24.384615</td>\n",
       "      <td>61.615385</td>\n",
       "      <td>7.576923</td>\n",
       "      <td>20.769231</td>\n",
       "      <td>15.423077</td>\n",
       "      <td>21.846154</td>\n",
       "      <td>13.500000</td>\n",
       "      <td>23.115385</td>\n",
       "      <td>14.538462</td>\n",
       "      <td>18.653846</td>\n",
       "      <td>9.307692</td>\n",
       "      <td>2.076923</td>\n",
       "      <td>20.230769</td>\n",
       "    </tr>\n",
       "    <tr>\n",
       "      <th>4</th>\n",
       "      <td>2003</td>\n",
       "      <td>1106</td>\n",
       "      <td>63.607143</td>\n",
       "      <td>23.428571</td>\n",
       "      <td>55.285714</td>\n",
       "      <td>6.107143</td>\n",
       "      <td>17.642857</td>\n",
       "      <td>10.642857</td>\n",
       "      <td>16.464286</td>\n",
       "      <td>12.285714</td>\n",
       "      <td>23.857143</td>\n",
       "      <td>11.678571</td>\n",
       "      <td>17.035714</td>\n",
       "      <td>8.357143</td>\n",
       "      <td>3.142857</td>\n",
       "      <td>18.178571</td>\n",
       "    </tr>\n",
       "  </tbody>\n",
       "</table>\n",
       "</div>"
      ],
      "text/plain": [
       "   Season  team      score        fgm        fga      fgm3       fga3  \\\n",
       "0    2003  1102  57.250000  19.142857  39.785714  7.821429  20.821429   \n",
       "1    2003  1103  78.777778  27.148148  55.851852  5.444444  16.074074   \n",
       "2    2003  1104  69.285714  24.035714  57.178571  6.357143  19.857143   \n",
       "3    2003  1105  71.769231  24.384615  61.615385  7.576923  20.769231   \n",
       "4    2003  1106  63.607143  23.428571  55.285714  6.107143  17.642857   \n",
       "\n",
       "         ftm        fta         or         dr        ast         to       stl  \\\n",
       "0  11.142857  17.107143   4.178571  16.821429  13.000000  11.428571  5.964286   \n",
       "1  19.037037  25.851852   9.777778  19.925926  15.222222  12.629630  7.259259   \n",
       "2  14.857143  20.928571  13.571429  23.928571  12.107143  13.285714  6.607143   \n",
       "3  15.423077  21.846154  13.500000  23.115385  14.538462  18.653846  9.307692   \n",
       "4  10.642857  16.464286  12.285714  23.857143  11.678571  17.035714  8.357143   \n",
       "\n",
       "        blk         pf  \n",
       "0  1.785714  18.750000  \n",
       "1  2.333333  19.851852  \n",
       "2  3.785714  18.035714  \n",
       "3  2.076923  20.230769  \n",
       "4  3.142857  18.178571  "
      ]
     },
     "execution_count": 3,
     "metadata": {},
     "output_type": "execute_result"
    }
   ],
   "source": [
    "\n",
    "# Calculate season average with groupby/agg\n",
    "df_mean = df_all.groupby([\"Season\", 'team'], as_index=False).agg(\"mean\")\n",
    "df_mean.head()"
   ]
  },
  {
   "cell_type": "markdown",
   "metadata": {
    "slideshow": {
     "slide_type": "subslide"
    }
   },
   "source": [
    "## Fast Season Average Calculation\n",
    "\n",
    "* Originally used (stole) an implementation which took 26s to run\n",
    "* This version takes 0.6s \n",
    "* What's the difference?\n",
    "\n",
    "\n",
    "* Slow version iterated over `(team, season)` pairs, with dataframe indexing to select rows\n",
    "* Quick version exploits `groupby().agg()` instead of explicit loops\n",
    "\n",
    "\n",
    "* Loops in python code incur overhead from the interpreter\n",
    "* Implementations of `groupby().agg()` written in C and highly optimized\n",
    "\t* All hail Wes McKinney!\n",
    "\n",
    "\n",
    "* Rule of thumb: avoid explicit loops over your dataset\n",
    "* `map(lambda ...)` doesn't really count as eliminating loops\n",
    "\t* `lambda` still hits the interpreter\n",
    "    * But there are plenty of built-ins that do most anything!"
   ]
  },
  {
   "cell_type": "markdown",
   "metadata": {
    "slideshow": {
     "slide_type": "slide"
    }
   },
   "source": [
    "\n",
    "##  Add Tournament Seeds to Feature Dataframe\n",
    "\n",
    "* We want to use the seeds as features in addition to season averages\n",
    "* Need to merge from a separate dataframe"
   ]
  },
  {
   "cell_type": "code",
   "execution_count": 4,
   "metadata": {
    "collapsed": false
   },
   "outputs": [
    {
     "data": {
      "text/html": [
       "<div>\n",
       "<table border=\"1\" class=\"dataframe\">\n",
       "  <thead>\n",
       "    <tr style=\"text-align: right;\">\n",
       "      <th></th>\n",
       "      <th>Season</th>\n",
       "      <th>team</th>\n",
       "      <th>score</th>\n",
       "      <th>fgm</th>\n",
       "      <th>fga</th>\n",
       "      <th>fgm3</th>\n",
       "      <th>fga3</th>\n",
       "      <th>ftm</th>\n",
       "      <th>fta</th>\n",
       "      <th>or</th>\n",
       "      <th>dr</th>\n",
       "      <th>ast</th>\n",
       "      <th>to</th>\n",
       "      <th>stl</th>\n",
       "      <th>blk</th>\n",
       "      <th>pf</th>\n",
       "      <th>Seed</th>\n",
       "    </tr>\n",
       "  </thead>\n",
       "  <tbody>\n",
       "    <tr>\n",
       "      <th>0</th>\n",
       "      <td>2003</td>\n",
       "      <td>1102</td>\n",
       "      <td>57.250000</td>\n",
       "      <td>19.142857</td>\n",
       "      <td>39.785714</td>\n",
       "      <td>7.821429</td>\n",
       "      <td>20.821429</td>\n",
       "      <td>11.142857</td>\n",
       "      <td>17.107143</td>\n",
       "      <td>4.178571</td>\n",
       "      <td>16.821429</td>\n",
       "      <td>13.000000</td>\n",
       "      <td>11.428571</td>\n",
       "      <td>5.964286</td>\n",
       "      <td>1.785714</td>\n",
       "      <td>18.750000</td>\n",
       "      <td>17.0</td>\n",
       "    </tr>\n",
       "    <tr>\n",
       "      <th>1</th>\n",
       "      <td>2003</td>\n",
       "      <td>1103</td>\n",
       "      <td>78.777778</td>\n",
       "      <td>27.148148</td>\n",
       "      <td>55.851852</td>\n",
       "      <td>5.444444</td>\n",
       "      <td>16.074074</td>\n",
       "      <td>19.037037</td>\n",
       "      <td>25.851852</td>\n",
       "      <td>9.777778</td>\n",
       "      <td>19.925926</td>\n",
       "      <td>15.222222</td>\n",
       "      <td>12.629630</td>\n",
       "      <td>7.259259</td>\n",
       "      <td>2.333333</td>\n",
       "      <td>19.851852</td>\n",
       "      <td>17.0</td>\n",
       "    </tr>\n",
       "    <tr>\n",
       "      <th>2</th>\n",
       "      <td>2003</td>\n",
       "      <td>1104</td>\n",
       "      <td>69.285714</td>\n",
       "      <td>24.035714</td>\n",
       "      <td>57.178571</td>\n",
       "      <td>6.357143</td>\n",
       "      <td>19.857143</td>\n",
       "      <td>14.857143</td>\n",
       "      <td>20.928571</td>\n",
       "      <td>13.571429</td>\n",
       "      <td>23.928571</td>\n",
       "      <td>12.107143</td>\n",
       "      <td>13.285714</td>\n",
       "      <td>6.607143</td>\n",
       "      <td>3.785714</td>\n",
       "      <td>18.035714</td>\n",
       "      <td>10.0</td>\n",
       "    </tr>\n",
       "    <tr>\n",
       "      <th>3</th>\n",
       "      <td>2003</td>\n",
       "      <td>1105</td>\n",
       "      <td>71.769231</td>\n",
       "      <td>24.384615</td>\n",
       "      <td>61.615385</td>\n",
       "      <td>7.576923</td>\n",
       "      <td>20.769231</td>\n",
       "      <td>15.423077</td>\n",
       "      <td>21.846154</td>\n",
       "      <td>13.500000</td>\n",
       "      <td>23.115385</td>\n",
       "      <td>14.538462</td>\n",
       "      <td>18.653846</td>\n",
       "      <td>9.307692</td>\n",
       "      <td>2.076923</td>\n",
       "      <td>20.230769</td>\n",
       "      <td>17.0</td>\n",
       "    </tr>\n",
       "    <tr>\n",
       "      <th>4</th>\n",
       "      <td>2003</td>\n",
       "      <td>1106</td>\n",
       "      <td>63.607143</td>\n",
       "      <td>23.428571</td>\n",
       "      <td>55.285714</td>\n",
       "      <td>6.107143</td>\n",
       "      <td>17.642857</td>\n",
       "      <td>10.642857</td>\n",
       "      <td>16.464286</td>\n",
       "      <td>12.285714</td>\n",
       "      <td>23.857143</td>\n",
       "      <td>11.678571</td>\n",
       "      <td>17.035714</td>\n",
       "      <td>8.357143</td>\n",
       "      <td>3.142857</td>\n",
       "      <td>18.178571</td>\n",
       "      <td>17.0</td>\n",
       "    </tr>\n",
       "  </tbody>\n",
       "</table>\n",
       "</div>"
      ],
      "text/plain": [
       "   Season  team      score        fgm        fga      fgm3       fga3  \\\n",
       "0    2003  1102  57.250000  19.142857  39.785714  7.821429  20.821429   \n",
       "1    2003  1103  78.777778  27.148148  55.851852  5.444444  16.074074   \n",
       "2    2003  1104  69.285714  24.035714  57.178571  6.357143  19.857143   \n",
       "3    2003  1105  71.769231  24.384615  61.615385  7.576923  20.769231   \n",
       "4    2003  1106  63.607143  23.428571  55.285714  6.107143  17.642857   \n",
       "\n",
       "         ftm        fta         or         dr        ast         to       stl  \\\n",
       "0  11.142857  17.107143   4.178571  16.821429  13.000000  11.428571  5.964286   \n",
       "1  19.037037  25.851852   9.777778  19.925926  15.222222  12.629630  7.259259   \n",
       "2  14.857143  20.928571  13.571429  23.928571  12.107143  13.285714  6.607143   \n",
       "3  15.423077  21.846154  13.500000  23.115385  14.538462  18.653846  9.307692   \n",
       "4  10.642857  16.464286  12.285714  23.857143  11.678571  17.035714  8.357143   \n",
       "\n",
       "        blk         pf  Seed  \n",
       "0  1.785714  18.750000  17.0  \n",
       "1  2.333333  19.851852  17.0  \n",
       "2  3.785714  18.035714  10.0  \n",
       "3  2.076923  20.230769  17.0  \n",
       "4  3.142857  18.178571  17.0  "
      ]
     },
     "execution_count": 4,
     "metadata": {},
     "output_type": "execute_result"
    }
   ],
   "source": [
    "import numpy\n",
    "\n",
    "df_seeds = pandas.read_csv(\"TourneySeeds.csv\")\n",
    "\n",
    "# Seed is a string with region and division, e.g. \"W08\"\n",
    "# TIP: use built-in `str.slice()` and `astype()`\n",
    "df_seeds[\"Seed\"] = df_seeds[\"Seed\"].str.slice(1, 3).astype(numpy.int32)\n",
    "\n",
    "# Add the seeds to the feature vectors \n",
    "df_features = df_mean.merge(df_seeds, how=\"left\",\n",
    "                            left_on=[\"team\", \"Season\"],\n",
    "                            right_on=[\"Team\", \"Season\"])\n",
    "\n",
    "# Set seeds for unseeded teams to 17 (null is result of merge)\n",
    "df_features.loc[df_features[\"Seed\"].isnull(), \"Seed\"] = 17\n",
    "\n",
    "# We don't need the team name string in the feature vectors\n",
    "del df_features[\"Team\"]\n",
    "\n",
    "\n",
    "df_features.head()\n"
   ]
  },
  {
   "cell_type": "markdown",
   "metadata": {
    "slideshow": {
     "slide_type": "slide"
    }
   },
   "source": [
    "## Prepare Training Dataset\n",
    "\n",
    "* Build dataset of matchups\n",
    "* Matchups are duplicated -- each team treated as both \"Team A\" and \"Team B\"\n",
    "* Since team assignment is really aribtrary, we don't want it to pick up any sort of bias"
   ]
  },
  {
   "cell_type": "code",
   "execution_count": 5,
   "metadata": {
    "collapsed": false
   },
   "outputs": [
    {
     "data": {
      "text/html": [
       "<div>\n",
       "<table border=\"1\" class=\"dataframe\">\n",
       "  <thead>\n",
       "    <tr style=\"text-align: right;\">\n",
       "      <th></th>\n",
       "      <th>Season</th>\n",
       "      <th>team_a_score</th>\n",
       "      <th>team_a_team</th>\n",
       "      <th>team_b_score</th>\n",
       "      <th>team_b_team</th>\n",
       "    </tr>\n",
       "  </thead>\n",
       "  <tbody>\n",
       "    <tr>\n",
       "      <th>0</th>\n",
       "      <td>1985</td>\n",
       "      <td>81</td>\n",
       "      <td>1228</td>\n",
       "      <td>64</td>\n",
       "      <td>1328</td>\n",
       "    </tr>\n",
       "    <tr>\n",
       "      <th>1</th>\n",
       "      <td>1985</td>\n",
       "      <td>77</td>\n",
       "      <td>1106</td>\n",
       "      <td>70</td>\n",
       "      <td>1354</td>\n",
       "    </tr>\n",
       "    <tr>\n",
       "      <th>2</th>\n",
       "      <td>1985</td>\n",
       "      <td>63</td>\n",
       "      <td>1112</td>\n",
       "      <td>56</td>\n",
       "      <td>1223</td>\n",
       "    </tr>\n",
       "    <tr>\n",
       "      <th>3</th>\n",
       "      <td>1985</td>\n",
       "      <td>70</td>\n",
       "      <td>1165</td>\n",
       "      <td>54</td>\n",
       "      <td>1432</td>\n",
       "    </tr>\n",
       "    <tr>\n",
       "      <th>4</th>\n",
       "      <td>1985</td>\n",
       "      <td>86</td>\n",
       "      <td>1192</td>\n",
       "      <td>74</td>\n",
       "      <td>1447</td>\n",
       "    </tr>\n",
       "  </tbody>\n",
       "</table>\n",
       "</div>"
      ],
      "text/plain": [
       "   Season  team_a_score  team_a_team  team_b_score  team_b_team\n",
       "0    1985            81         1228            64         1328\n",
       "1    1985            77         1106            70         1354\n",
       "2    1985            63         1112            56         1223\n",
       "3    1985            70         1165            54         1432\n",
       "4    1985            86         1192            74         1447"
      ]
     },
     "execution_count": 5,
     "metadata": {},
     "output_type": "execute_result"
    }
   ],
   "source": [
    "# Load regular season matchups (not full stat results)\n",
    "df_regular_season = pandas.read_csv(\"RegularSeasonCompactResults.csv\")\n",
    "\n",
    "# Extract winning and losing results for all teams\n",
    "df_win = df_regular_season[[\"Season\", \"Wscore\", \"Wteam\", \"Lscore\", \"Lteam\"]]\n",
    "df_loss = df_regular_season[[\"Season\", \"Lscore\", \"Lteam\", \"Wscore\", \"Wteam\"]]\n",
    "\n",
    "# Rename columns to not reflect winner or loser\n",
    "matchup_rename_columns = [\"Season\", \"team_a_score\", \"team_a_team\",\n",
    "                          \"team_b_score\", \"team_b_team\"]\n",
    "df_win.columns = matchup_rename_columns\n",
    "df_loss.columns = matchup_rename_columns\n",
    "\n",
    "df_matchups = pandas.concat([df_win, df_loss])\n",
    "\n",
    "df_matchups.head()"
   ]
  },
  {
   "cell_type": "markdown",
   "metadata": {
    "slideshow": {
     "slide_type": "slide"
    }
   },
   "source": [
    "## Merge/join Features\n",
    "\n",
    "* Matchups and scores just identify games\n",
    "* Need to merge team stats for each matchup"
   ]
  },
  {
   "cell_type": "code",
   "execution_count": 6,
   "metadata": {
    "collapsed": false
   },
   "outputs": [],
   "source": [
    "# Merge in \"team a\" stats\n",
    "df_matchups = df_matchups.merge(df_features, how=\"inner\",\n",
    "                                left_on=[\"Season\", \"team_a_team\"],\n",
    "                                right_on=[\"Season\", \"team\"],\n",
    "                                suffixes=(\"_\", \"_team_a\"))\n",
    "# Same for \"team b\"\n",
    "df_matchups = df_matchups.merge(df_features, how=\"inner\",\n",
    "                                left_on=[\"Season\", \"team_b_team\"],\n",
    "                                right_on=[\"Season\", \"team\"],\n",
    "                                suffixes=(\"_team_a\", \"_team_b\"))\n",
    "# Delete duplicate columns resulting from merge\n",
    "del df_matchups[\"team_team_a\"]\n",
    "del df_matchups[\"team_team_b\"]\n"
   ]
  },
  {
   "cell_type": "markdown",
   "metadata": {
    "slideshow": {
     "slide_type": "slide"
    }
   },
   "source": [
    "## Feature Scaling\n",
    "\n",
    "* Some models don't struggle with unscaled features\n",
    "\t* e.g. decision trees, random forests\n",
    "* Others can have trouble\n",
    "\t* e.g. neural networks, nearest neighbors, k-means\n",
    "\n",
    "\n",
    "* In general, it is good practice to scale features\n",
    "\t* Common technique is to subtract mean and divide by standard deviation\n",
    "* Scikit-learn makes this very easy"
   ]
  },
  {
   "cell_type": "code",
   "execution_count": 7,
   "metadata": {
    "collapsed": false
   },
   "outputs": [],
   "source": [
    "from sklearn import preprocessing\n",
    "\n",
    "# Select columns that serve as input\n",
    "input_columns = [col for col in df_matchups.columns\n",
    "                 if(col.endswith(\"_team_a\") or col.endswith(\"_team_b\"))]\n",
    "x_unscaled = df_matchups[input_columns] \n",
    "\n",
    "# Normalize features (unit scale and centered at zero)\n",
    "# RobustScaler takes median as center, IQR as unit range\n",
    "scaler = preprocessing.RobustScaler() \n",
    "x = scaler.fit_transform(x_unscaled)"
   ]
  },
  {
   "cell_type": "markdown",
   "metadata": {
    "slideshow": {
     "slide_type": "slide"
    }
   },
   "source": [
    "## Prepare model target/output features \n",
    "\n",
    "* We're doing supervised machine learning, so we need a target to predict\n",
    "* Target is whether or not \"Team A\" will win"
   ]
  },
  {
   "cell_type": "code",
   "execution_count": 8,
   "metadata": {
    "collapsed": false
   },
   "outputs": [],
   "source": [
    "df_matchups[\"team_a_win\"] = (df_matchups[\"team_a_score\"] >\n",
    "                           df_matchups[\"team_b_score\"])\n",
    "\n",
    "y = df_matchups[\"team_a_win\"].astype(int)\n"
   ]
  },
  {
   "cell_type": "markdown",
   "metadata": {
    "slideshow": {
     "slide_type": "slide"
    }
   },
   "source": [
    "## Create train/test split\n",
    "\n",
    "* Model training and evaluation should occur on independent datasets\n",
    "* Scikit-learn (again) has the tools for splitting data"
   ]
  },
  {
   "cell_type": "code",
   "execution_count": 9,
   "metadata": {
    "collapsed": false,
    "slideshow": {
     "slide_type": "-"
    }
   },
   "outputs": [
    {
     "name": "stderr",
     "output_type": "stream",
     "text": [
      "Using TensorFlow backend.\n"
     ]
    }
   ],
   "source": [
    "from sklearn import model_selection \n",
    "from keras.utils import np_utils\n",
    "\n",
    "x_train, x_test, y_train, y_test = (model_selection\n",
    "                                    .train_test_split(x, y, test_size=0.2,\n",
    "                                                      random_state=432,\n",
    "                                                      stratify=y))\n",
    "# Keras uses \"one-hot\" encoded labels, i.e. 0 -> [1, 0]; 1 -> [0, 1]\n",
    "y_cat_train = np_utils.to_categorical(y_train)\n",
    "y_cat_test = np_utils.to_categorical(y_test)\n"
   ]
  },
  {
   "cell_type": "markdown",
   "metadata": {
    "slideshow": {
     "slide_type": "slide"
    }
   },
   "source": [
    "## Train a Neural Network with Keras\n"
   ]
  },
  {
   "cell_type": "code",
   "execution_count": 10,
   "metadata": {
    "collapsed": false
   },
   "outputs": [],
   "source": [
    "from keras import models\n",
    "from keras import optimizers\n",
    "from keras import layers\n",
    "\n",
    "# Add layers to neural network \n",
    "model_mlp = models.Sequential()\n",
    "model_mlp.add(layers.Dense(units=100, input_dim=len(input_columns)))\n",
    "model_mlp.add(layers.Dropout(rate=0.85)) # Dropout prevents overfitting \n",
    "model_mlp.add(layers.Activation('sigmoid'))\n",
    "model_mlp.add(layers.Dense(units=2))\n",
    "model_mlp.add(layers.Activation('softmax'))\n",
    "\n",
    "# \"compile\" network for training\n",
    "model_mlp.compile(loss='categorical_crossentropy',\n",
    "                  optimizer=optimizers.RMSprop(lr=0.001),\n",
    "                  metrics=['accuracy'])\n",
    "# Fit the model\n",
    "history = model_mlp.fit(x_train, y_cat_train, batch_size=10000, epochs=100,\n",
    "                        verbose=0, validation_data=(x_test, y_cat_test))"
   ]
  },
  {
   "cell_type": "markdown",
   "metadata": {
    "slideshow": {
     "slide_type": "slide"
    }
   },
   "source": [
    "## Inspect Results"
   ]
  },
  {
   "cell_type": "code",
   "execution_count": 11,
   "metadata": {
    "collapsed": false,
    "slideshow": {
     "slide_type": "-"
    }
   },
   "outputs": [
    {
     "data": {
      "image/png": "[encoded data removed]",
      "text/plain": [
       "<matplotlib.figure.Figure at 0x120b8d6d0>"
      ]
     },
     "metadata": {},
     "output_type": "display_data"
    }
   ],
   "source": [
    "from matplotlib import pyplot\n",
    "import seaborn\n",
    "%matplotlib inline\n",
    "seaborn.set_style(\"white\")\n",
    "\n",
    "# Extract train and test set accuracy from history object\n",
    "pyplot.plot(history.history['acc'])\n",
    "pyplot.plot(history.history['val_acc'])\n",
    "final_accuracy = history.history['val_acc'][-1]\n",
    "pyplot.axhline(final_accuracy, linestyle='--', color='r')\n",
    "\n",
    "pyplot.xlim([0, 100]), pyplot.xlabel(\"Epoch\")\n",
    "pyplot.ylim([0.70, 0.75]), pyplot.ylabel(\"Accuracy\")\n",
    "pyplot.legend([\"Training Sample\", \"Test Sample\", \"Final Accuracy\"]);\n"
   ]
  },
  {
   "cell_type": "markdown",
   "metadata": {
    "slideshow": {
     "slide_type": "slide"
    }
   },
   "source": [
    "## What's Missing? \n",
    "\n",
    "* Machine learning models have _hyperparameters_ that need to be optimized\n",
    "    * Neural networks: dropout, number of layers and nodes, etc.\n",
    "    * Logistic regression: regularization parameter and type\n",
    "    * Random forests: number of trees, subsample, etc.\n",
    "\n",
    "* Cross validation instead of simple train/test split\n",
    "    * Especially important when optimizing hyperparameters\n",
    "    * Preferrably \"nested\" cross validation\n",
    "    * [http://scikit-learn.org/stable/auto_examples/model_selection/plot_nested_cross_validation_iris.html](http://scikit-learn.org/stable/auto_examples/model_selection/plot_nested_cross_validation_iris.html)\n",
    "    \n",
    "* Deploying model for predictions on actual data\n",
    "    * A few more steps involved in generating actual bracket predictions"
   ]
  },
  {
   "cell_type": "markdown",
   "metadata": {
    "slideshow": {
     "slide_type": "slide"
    }
   },
   "source": [
    "\n",
    "\n",
    "## Summary \n",
    "\n",
    "* Data manipulation with pandas is easy and fast\n",
    "* Explicit loops over data should be avoided\n",
    "* Scikit learn has a wide variety of machine learning tools\n",
    "* Keras makes nerual network experimentation look easy\n"
   ]
  },
  {
   "cell_type": "markdown",
   "metadata": {
    "slideshow": {
     "slide_type": "slide"
    }
   },
   "source": [
    "# Backup"
   ]
  },
  {
   "cell_type": "markdown",
   "metadata": {
    "slideshow": {
     "slide_type": "slide"
    }
   },
   "source": [
    "## Train a gradient boosted tree "
   ]
  },
  {
   "cell_type": "code",
   "execution_count": 12,
   "metadata": {
    "collapsed": false,
    "slideshow": {
     "slide_type": "-"
    }
   },
   "outputs": [
    {
     "name": "stdout",
     "output_type": "stream",
     "text": [
      "Accuracy: 0.728657641494\n"
     ]
    }
   ],
   "source": [
    "from sklearn import ensemble\n",
    "\n",
    "model_gbm = ensemble.GradientBoostingClassifier(n_estimators=120,\n",
    "                                                subsample=0.75,\n",
    "                                                learning_rate=0.25,\n",
    "                                                max_depth=3)\n",
    "\n",
    "model_gbm.fit(x_train, y_train)\n",
    "\n",
    "print \"Accuracy: %s\" % model_gbm.score(x_test, y_test)"
   ]
  },
  {
   "cell_type": "markdown",
   "metadata": {
    "slideshow": {
     "slide_type": "slide"
    }
   },
   "source": [
    "## Training Strategy\n",
    "\n",
    "* Training strategy:\n",
    "\t* Use regular season games for training and validation -- vastly more data than tournaments\n",
    "    * Use past touranment games as an independent validation set\n"
   ]
  },
  {
   "cell_type": "markdown",
   "metadata": {
    "collapsed": true,
    "slideshow": {
     "slide_type": "slide"
    }
   },
   "source": [
    "## Calculating Season Averages -- The Slow Way\n"
   ]
  },
  {
   "cell_type": "code",
   "execution_count": 13,
   "metadata": {
    "ExecuteTime": {
     "end_time": "2017-04-30T13:23:27.193612Z",
     "start_time": "2017-04-30T13:23:27.157076"
    },
    "collapsed": false,
    "slideshow": {
     "slide_type": "fragment"
    }
   },
   "outputs": [
    {
     "data": {
      "text/html": [
       "<div>\n",
       "<table border=\"1\" class=\"dataframe\">\n",
       "  <thead>\n",
       "    <tr style=\"text-align: right;\">\n",
       "      <th></th>\n",
       "      <th>Team_Id</th>\n",
       "      <th>Team_Name</th>\n",
       "      <th>season</th>\n",
       "    </tr>\n",
       "  </thead>\n",
       "  <tbody>\n",
       "    <tr>\n",
       "      <th>0</th>\n",
       "      <td>1101</td>\n",
       "      <td>Abilene Chr</td>\n",
       "      <td>2003</td>\n",
       "    </tr>\n",
       "    <tr>\n",
       "      <th>1</th>\n",
       "      <td>1102</td>\n",
       "      <td>Air Force</td>\n",
       "      <td>2003</td>\n",
       "    </tr>\n",
       "    <tr>\n",
       "      <th>2</th>\n",
       "      <td>1103</td>\n",
       "      <td>Akron</td>\n",
       "      <td>2003</td>\n",
       "    </tr>\n",
       "    <tr>\n",
       "      <th>3</th>\n",
       "      <td>1104</td>\n",
       "      <td>Alabama</td>\n",
       "      <td>2003</td>\n",
       "    </tr>\n",
       "    <tr>\n",
       "      <th>4</th>\n",
       "      <td>1105</td>\n",
       "      <td>Alabama A&amp;M</td>\n",
       "      <td>2003</td>\n",
       "    </tr>\n",
       "  </tbody>\n",
       "</table>\n",
       "</div>"
      ],
      "text/plain": [
       "   Team_Id    Team_Name  season\n",
       "0     1101  Abilene Chr    2003\n",
       "1     1102    Air Force    2003\n",
       "2     1103        Akron    2003\n",
       "3     1104      Alabama    2003\n",
       "4     1105  Alabama A&M    2003"
      ]
     },
     "execution_count": 13,
     "metadata": {},
     "output_type": "execute_result"
    }
   ],
   "source": [
    "import pandas\n",
    "\n",
    "# Load data as pandas dataframes\n",
    "df_teams = pandas.read_csv('Teams.csv')\n",
    "df_regular_season = pandas.read_csv('RegularSeasonDetailedResults.csv')\n",
    "\n",
    "frames = []\n",
    "# Loop over unique seasons, build a dataframe for each\n",
    "for season in df_regular_season.Season.unique():\n",
    "    team_season = df_teams.copy()\n",
    "    team_season['season'] = season\n",
    "    frames.append(team_season)\n",
    "\n",
    "# Concatenate all team/season dataframes\n",
    "df_team_seasons = pandas.concat(frames)\n",
    "\n",
    "df_team_seasons.head()"
   ]
  },
  {
   "cell_type": "code",
   "execution_count": 14,
   "metadata": {
    "ExecuteTime": {
     "end_time": "2017-04-30T13:23:57.606623Z",
     "start_time": "2017-04-30T13:23:31.460722"
    },
    "collapsed": false,
    "slideshow": {
     "slide_type": "subslide"
    }
   },
   "outputs": [],
   "source": [
    "# Stat columns for winners and losers\n",
    "loser_columns = ['Lscore', 'Lfgm', 'Lfga', 'Lfgm3', 'Lfga3','Lftm', 'Lfta',\n",
    "                 'Lor', 'Ldr', 'Last', 'Lto', 'Lstl', 'Lblk', 'Lpf']\n",
    "winner_columns = ['Wscore', 'Wfgm', 'Wfga', 'Wfgm3', 'Wfga3', 'Wftm', 'Wfta',\n",
    "                  'Wor', 'Wdr', 'Wast', 'Wto', 'Wstl', 'Wblk', 'Wpf']\n",
    "renamed_columns = [column[1:] for column in winner_columns]\n",
    "\n",
    "season_averages = []\n",
    "# Iterate over team/season pairs\n",
    "for index, row in df_team_seasons.iterrows():\n",
    "    # Indices to represent winning and losing game for team/season\n",
    "    wins = df_regular_season.Wteam == row.Team_Id\n",
    "    loses = df_regular_season.Lteam == row.Team_Id\n",
    "    right_season = df_regular_season.Season == row.season\n",
    "\n",
    "    # Extract wins for team/season, rename columns\n",
    "    won_games = df_regular_season[right_season & wins][winner_columns]\n",
    "    won_games.columns = renamed_columns\n",
    "    # Extract losses for team/season, rename columns\n",
    "    lost_games = df_regular_season[right_season & loses][loser_columns]\n",
    "    lost_games.columns = renamed_columns\n",
    "\n",
    "    # Concatenate wins and losses, calculate mean of all columns\n",
    "    games = pandas.concat([won_games, lost_games]).mean()\n",
    "\n",
    "    # Add ID columns, calculate averages, reshape into one-row dataframe\n",
    "    games['Team_Id'] = row.Team_Id\n",
    "    games['Season'] = row.season\n",
    "    games['Team_Name'] = row.Team_Name\n",
    "    games = games.to_frame().transpose()\n",
    "    season_averages.append(games)\n",
    "\n",
    "# Concatenate all the dataframes\n",
    "season_averages = pandas.concat(season_averages).dropna()\n"
   ]
  }
 ],
 "metadata": {
  "celltoolbar": "Slideshow",
  "kernelspec": {
   "display_name": "Python 2",
   "language": "python",
   "name": "python2"
  },
  "language_info": {
   "codemirror_mode": {
    "name": "ipython",
    "version": 2
   },
   "file_extension": ".py",
   "mimetype": "text/x-python",
   "name": "python",
   "nbconvert_exporter": "python",
   "pygments_lexer": "ipython2",
   "version": "2.7.13"
  }
 },
 "nbformat": 4,
 "nbformat_minor": 1
}
