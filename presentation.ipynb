{
 "cells": [
  {
   "cell_type": "markdown",
   "metadata": {
    "collapsed": false
   },
   "source": [
    "## Introduction "
   ]
  },
  {
   "cell_type": "markdown",
   "metadata": {},
   "source": [
    "## Dataset and Strategy"
   ]
  },
  {
   "cell_type": "markdown",
   "metadata": {
    "collapsed": true
   },
   "source": [
    "## Season Average, the slow way"
   ]
  },
  {
   "cell_type": "code",
   "execution_count": 1,
   "metadata": {
    "collapsed": true
   },
   "outputs": [],
   "source": [
    "import pandas\n",
    "\n"
   ]
  },
  {
   "cell_type": "code",
   "execution_count": 2,
   "metadata": {
    "ExecuteTime": {
     "end_time": "2017-04-30T13:23:25.948311Z",
     "start_time": "2017-04-30T13:23:25.708758"
    },
    "collapsed": true
   },
   "outputs": [],
   "source": [
    "df_teams = pandas.read_csv('Teams.csv')\n",
    "df_regular_season = pandas.read_csv('RegularSeasonDetailedResults.csv')\n"
   ]
  },
  {
   "cell_type": "code",
   "execution_count": 3,
   "metadata": {
    "ExecuteTime": {
     "end_time": "2017-04-30T13:23:26.514298Z",
     "start_time": "2017-04-30T13:23:26.509662"
    },
    "collapsed": false
   },
   "outputs": [
    {
     "data": {
      "text/plain": [
       "Index([u'Season', u'Daynum', u'Wteam', u'Wscore', u'Lteam', u'Lscore', u'Wloc',\n",
       "       u'Numot', u'Wfgm', u'Wfga', u'Wfgm3', u'Wfga3', u'Wftm', u'Wfta',\n",
       "       u'Wor', u'Wdr', u'Wast', u'Wto', u'Wstl', u'Wblk', u'Wpf', u'Lfgm',\n",
       "       u'Lfga', u'Lfgm3', u'Lfga3', u'Lftm', u'Lfta', u'Lor', u'Ldr', u'Last',\n",
       "       u'Lto', u'Lstl', u'Lblk', u'Lpf'],\n",
       "      dtype='object')"
      ]
     },
     "execution_count": 3,
     "metadata": {},
     "output_type": "execute_result"
    }
   ],
   "source": [
    "df_regular_season.columns"
   ]
  },
  {
   "cell_type": "code",
   "execution_count": 4,
   "metadata": {
    "ExecuteTime": {
     "end_time": "2017-04-30T13:23:27.193612Z",
     "start_time": "2017-04-30T13:23:27.157076"
    },
    "collapsed": false
   },
   "outputs": [
    {
     "name": "stdout",
     "output_type": "stream",
     "text": [
      "          Team_Id    Team_Name  season\n",
      "11012003     1101  Abilene Chr    2003\n",
      "11022003     1102    Air Force    2003\n",
      "11032003     1103        Akron    2003\n",
      "11042003     1104      Alabama    2003\n",
      "11052003     1105  Alabama A&M    2003\n"
     ]
    }
   ],
   "source": [
    "frames = []\n",
    "for season in df_regular_season.Season.unique():\n",
    "    team_season = df_teams.copy()\n",
    "    team_season['season'] = season\n",
    "    team_season.index = team_season.Team_Id.apply(str) + team_season.season.apply(str)\n",
    "    frames.append(team_season)\n",
    "\n",
    "df_team_seasons = pandas.concat(frames)\n",
    "\n",
    "print df_team_seasons.head()\n"
   ]
  },
  {
   "cell_type": "code",
   "execution_count": 5,
   "metadata": {
    "ExecuteTime": {
     "end_time": "2017-04-30T13:23:29.449988Z",
     "start_time": "2017-04-30T13:23:29.445651"
    },
    "collapsed": false
   },
   "outputs": [],
   "source": [
    "loser_columns = ['Lscore', 'Lfgm', 'Lfga', 'Lfgm3', 'Lfga3','Lftm', 'Lfta', 'Lor', 'Ldr', 'Last', 'Lto', 'Lstl', 'Lblk', 'Lpf']\n",
    "winner_columns = ['Wscore', 'Wfgm', 'Wfga', 'Wfgm3', 'Wfga3', 'Wftm', 'Wfta', 'Wor', 'Wdr', 'Wast', 'Wto', 'Wstl', 'Wblk', 'Wpf']\n",
    "fixed_columns = [column[1:] for column in winner_columns]\n",
    "\n"
   ]
  },
  {
   "cell_type": "code",
   "execution_count": 7,
   "metadata": {
    "ExecuteTime": {
     "end_time": "2017-04-30T13:23:57.606623Z",
     "start_time": "2017-04-30T13:23:31.460722"
    },
    "collapsed": false
   },
   "outputs": [],
   "source": [
    "season_averages = []\n",
    "for index, row in df_team_seasons.iterrows():\n",
    "    wins = df_regular_season.Wteam == row.Team_Id\n",
    "    loses = df_regular_season.Lteam == row.Team_Id\n",
    "    right_season = df_regular_season.Season == row.season\n",
    "\n",
    "    won_games = df_regular_season[right_season & wins][winner_columns]\n",
    "    won_games.columns = fixed_columns\n",
    "\n",
    "    lost_games = df_regular_season[right_season & loses][loser_columns]\n",
    "    lost_games.columns = fixed_columns\n",
    "\n",
    "    games = pandas.concat([won_games, lost_games]).mean()\n",
    "    games['Team_Id'] = row.Team_Id\n",
    "    games['Season'] = row.season\n",
    "    games['Team_Name'] = row.Team_Name\n",
    "    games = games.to_frame().transpose()\n",
    "\n",
    "    season_averages.append(games)\n",
    "\n",
    "season_averages = pandas.concat(season_averages).dropna()\n"
   ]
  },
  {
   "cell_type": "markdown",
   "metadata": {},
   "source": [
    "## Season Average, but quicker"
   ]
  },
  {
   "cell_type": "code",
   "execution_count": null,
   "metadata": {
    "collapsed": true
   },
   "outputs": [],
   "source": []
  },
  {
   "cell_type": "code",
   "execution_count": 8,
   "metadata": {
    "ExecuteTime": {
     "end_time": "2017-04-30T13:41:23.908923Z",
     "start_time": "2017-04-30T13:41:23.898857"
    },
    "collapsed": false
   },
   "outputs": [],
   "source": [
    "loss_cols = ['Season', 'Lteam', 'Lscore', 'Lfgm', 'Lfga', 'Lfgm3', 'Lfga3',\n",
    "             'Lftm', 'Lfta', 'Lor', 'Ldr', 'Last', 'Lto', 'Lstl', 'Lblk',\n",
    "             'Lpf']\n",
    "win_cols = ['Season', 'Wteam', 'Wscore', 'Wfgm', 'Wfga', 'Wfgm3', 'Wfga3',\n",
    "            'Wftm', 'Wfta', 'Wor', 'Wdr', 'Wast', 'Wto', 'Wstl', 'Wblk',\n",
    "            'Wpf']\n",
    "\n",
    "renamed_cols = [col[1:] if col.startswith(\"W\") else col for col in win_cols]\n"
   ]
  },
  {
   "cell_type": "code",
   "execution_count": 9,
   "metadata": {
    "ExecuteTime": {
     "end_time": "2017-04-30T13:41:23.963785Z",
     "start_time": "2017-04-30T13:41:23.910935"
    },
    "collapsed": false
   },
   "outputs": [],
   "source": [
    "\n",
    "\n",
    "df_win = df_regular_season[win_cols].copy()\n",
    "df_win.columns = renamed_cols\n",
    "\n",
    "df_loss = df_regular_season[loss_cols].copy()\n",
    "df_loss.columns = renamed_cols\n",
    "\n",
    "\n",
    "df_all = pandas.concat([df_win, df_loss])"
   ]
  },
  {
   "cell_type": "code",
   "execution_count": 10,
   "metadata": {
    "ExecuteTime": {
     "end_time": "2017-04-30T13:41:24.024762Z",
     "start_time": "2017-04-30T13:41:23.965299"
    },
    "collapsed": false
   },
   "outputs": [],
   "source": [
    "df_mean = df_all.groupby(['team', \"Season\"], as_index=False).agg(\"mean\")"
   ]
  },
  {
   "cell_type": "markdown",
   "metadata": {},
   "source": [
    "##  Merge seeds"
   ]
  },
  {
   "cell_type": "code",
   "execution_count": 12,
   "metadata": {
    "collapsed": false
   },
   "outputs": [
    {
     "data": {
      "text/html": [
       "<div>\n",
       "<table border=\"1\" class=\"dataframe\">\n",
       "  <thead>\n",
       "    <tr style=\"text-align: right;\">\n",
       "      <th></th>\n",
       "      <th>team</th>\n",
       "      <th>Season</th>\n",
       "      <th>score</th>\n",
       "      <th>fgm</th>\n",
       "      <th>fga</th>\n",
       "      <th>fgm3</th>\n",
       "      <th>fga3</th>\n",
       "      <th>ftm</th>\n",
       "      <th>fta</th>\n",
       "      <th>or</th>\n",
       "      <th>dr</th>\n",
       "      <th>ast</th>\n",
       "      <th>to</th>\n",
       "      <th>stl</th>\n",
       "      <th>blk</th>\n",
       "      <th>pf</th>\n",
       "      <th>Seed</th>\n",
       "    </tr>\n",
       "  </thead>\n",
       "  <tbody>\n",
       "    <tr>\n",
       "      <th>0</th>\n",
       "      <td>1101</td>\n",
       "      <td>2014</td>\n",
       "      <td>63.142857</td>\n",
       "      <td>20.333333</td>\n",
       "      <td>50.142857</td>\n",
       "      <td>6.666667</td>\n",
       "      <td>17.857143</td>\n",
       "      <td>15.809524</td>\n",
       "      <td>21.190476</td>\n",
       "      <td>8.000000</td>\n",
       "      <td>20.333333</td>\n",
       "      <td>10.000000</td>\n",
       "      <td>15.000000</td>\n",
       "      <td>5.761905</td>\n",
       "      <td>1.476190</td>\n",
       "      <td>21.571429</td>\n",
       "      <td>17.0</td>\n",
       "    </tr>\n",
       "    <tr>\n",
       "      <th>1</th>\n",
       "      <td>1101</td>\n",
       "      <td>2015</td>\n",
       "      <td>61.000000</td>\n",
       "      <td>21.428571</td>\n",
       "      <td>52.928571</td>\n",
       "      <td>7.250000</td>\n",
       "      <td>19.178571</td>\n",
       "      <td>10.892857</td>\n",
       "      <td>14.964286</td>\n",
       "      <td>8.250000</td>\n",
       "      <td>19.642857</td>\n",
       "      <td>11.857143</td>\n",
       "      <td>12.821429</td>\n",
       "      <td>5.928571</td>\n",
       "      <td>1.178571</td>\n",
       "      <td>20.607143</td>\n",
       "      <td>17.0</td>\n",
       "    </tr>\n",
       "    <tr>\n",
       "      <th>2</th>\n",
       "      <td>1101</td>\n",
       "      <td>2016</td>\n",
       "      <td>69.851852</td>\n",
       "      <td>23.814815</td>\n",
       "      <td>53.925926</td>\n",
       "      <td>6.851852</td>\n",
       "      <td>18.851852</td>\n",
       "      <td>15.370370</td>\n",
       "      <td>21.740741</td>\n",
       "      <td>8.185185</td>\n",
       "      <td>22.518519</td>\n",
       "      <td>12.888889</td>\n",
       "      <td>13.407407</td>\n",
       "      <td>6.740741</td>\n",
       "      <td>2.444444</td>\n",
       "      <td>22.370370</td>\n",
       "      <td>17.0</td>\n",
       "    </tr>\n",
       "    <tr>\n",
       "      <th>3</th>\n",
       "      <td>1101</td>\n",
       "      <td>2017</td>\n",
       "      <td>67.880000</td>\n",
       "      <td>24.440000</td>\n",
       "      <td>53.320000</td>\n",
       "      <td>7.080000</td>\n",
       "      <td>19.080000</td>\n",
       "      <td>11.920000</td>\n",
       "      <td>18.560000</td>\n",
       "      <td>7.560000</td>\n",
       "      <td>22.880000</td>\n",
       "      <td>13.600000</td>\n",
       "      <td>14.480000</td>\n",
       "      <td>7.000000</td>\n",
       "      <td>2.760000</td>\n",
       "      <td>22.160000</td>\n",
       "      <td>17.0</td>\n",
       "    </tr>\n",
       "    <tr>\n",
       "      <th>4</th>\n",
       "      <td>1102</td>\n",
       "      <td>2003</td>\n",
       "      <td>57.250000</td>\n",
       "      <td>19.142857</td>\n",
       "      <td>39.785714</td>\n",
       "      <td>7.821429</td>\n",
       "      <td>20.821429</td>\n",
       "      <td>11.142857</td>\n",
       "      <td>17.107143</td>\n",
       "      <td>4.178571</td>\n",
       "      <td>16.821429</td>\n",
       "      <td>13.000000</td>\n",
       "      <td>11.428571</td>\n",
       "      <td>5.964286</td>\n",
       "      <td>1.785714</td>\n",
       "      <td>18.750000</td>\n",
       "      <td>17.0</td>\n",
       "    </tr>\n",
       "  </tbody>\n",
       "</table>\n",
       "</div>"
      ],
      "text/plain": [
       "   team  Season      score        fgm        fga      fgm3       fga3  \\\n",
       "0  1101    2014  63.142857  20.333333  50.142857  6.666667  17.857143   \n",
       "1  1101    2015  61.000000  21.428571  52.928571  7.250000  19.178571   \n",
       "2  1101    2016  69.851852  23.814815  53.925926  6.851852  18.851852   \n",
       "3  1101    2017  67.880000  24.440000  53.320000  7.080000  19.080000   \n",
       "4  1102    2003  57.250000  19.142857  39.785714  7.821429  20.821429   \n",
       "\n",
       "         ftm        fta        or         dr        ast         to       stl  \\\n",
       "0  15.809524  21.190476  8.000000  20.333333  10.000000  15.000000  5.761905   \n",
       "1  10.892857  14.964286  8.250000  19.642857  11.857143  12.821429  5.928571   \n",
       "2  15.370370  21.740741  8.185185  22.518519  12.888889  13.407407  6.740741   \n",
       "3  11.920000  18.560000  7.560000  22.880000  13.600000  14.480000  7.000000   \n",
       "4  11.142857  17.107143  4.178571  16.821429  13.000000  11.428571  5.964286   \n",
       "\n",
       "        blk         pf  Seed  \n",
       "0  1.476190  21.571429  17.0  \n",
       "1  1.178571  20.607143  17.0  \n",
       "2  2.444444  22.370370  17.0  \n",
       "3  2.760000  22.160000  17.0  \n",
       "4  1.785714  18.750000  17.0  "
      ]
     },
     "execution_count": 12,
     "metadata": {},
     "output_type": "execute_result"
    }
   ],
   "source": [
    "import numpy\n",
    "\n",
    "df_seeds = pandas.read_csv(\"TourneySeeds.csv\")\n",
    "\n",
    "\n",
    "# Seed is a string which includes division, e.g. \"W08\"\n",
    "# TIP: use built-in `str.slice()`, not map/lambda\n",
    "df_seeds[\"Seed\"] = df_seeds[\"Seed\"].str.slice(1, 3).astype(numpy.int32)\n",
    "\n",
    "# Convert to seed and team IDs to int\n",
    "# TIP: use built-in `astype()`, not map/conversion\n",
    "df_seeds[\"Season\"] = df_seeds[\"Season\"].astype(numpy.int32)\n",
    "df_seeds[\"Team\"] = df_seeds[\"Team\"].astype(numpy.int32)\n",
    "\n",
    "\n",
    "# Add the seeds to the feature vectors \n",
    "df_features = df_mean.merge(df_seeds, how=\"left\",\n",
    "                            left_on=[\"team\", \"Season\"],\n",
    "                            right_on=[\"Team\", \"Season\"])\n",
    "\n",
    "# Set seeds for unseeded teams to 17 (null is result of merge)\n",
    "# TIP: use double index in `.loc[]`, not two index operations\n",
    "df_features.loc[df_features[\"Seed\"].isnull(), \"Seed\"] = 17\n",
    "\n",
    "# We don't need the team name string in the feature vectors\n",
    "del df_features[\"Team\"]\n",
    "\n",
    "\n",
    "df_features.head()\n"
   ]
  },
  {
   "cell_type": "markdown",
   "metadata": {},
   "source": [
    "## Training Data"
   ]
  },
  {
   "cell_type": "code",
   "execution_count": 13,
   "metadata": {
    "collapsed": false
   },
   "outputs": [],
   "source": [
    "df_regular_season = pandas.read_csv(\"RegularSeasonCompactResults.csv\")\n",
    "\n",
    "\n",
    "matchup_rename_columns = [\"Season\", \"home_score\", \"home_team\",\n",
    "                          \"away_score\", \"away_team\"]\n",
    "\n",
    "df_wins = df_regular_season[[\"Season\", \"Wscore\", \"Wteam\",\n",
    "                             \"Lscore\", \"Lteam\"]]\n",
    "df_wins.columns = matchup_rename_columns\n",
    "\n",
    "df_losses = df_regular_season[[\"Season\", \"Lscore\", \"Lteam\",\n",
    "                               \"Wscore\", \"Wteam\"]]\n",
    "df_losses.columns = matchup_rename_columns\n",
    "\n",
    "df_matchups = pandas.concat([df_wins, df_losses])"
   ]
  },
  {
   "cell_type": "code",
   "execution_count": 14,
   "metadata": {
    "collapsed": false
   },
   "outputs": [
    {
     "data": {
      "text/html": [
       "<div>\n",
       "<table border=\"1\" class=\"dataframe\">\n",
       "  <thead>\n",
       "    <tr style=\"text-align: right;\">\n",
       "      <th></th>\n",
       "      <th>Season</th>\n",
       "      <th>home_score</th>\n",
       "      <th>home_team</th>\n",
       "      <th>away_score</th>\n",
       "      <th>away_team</th>\n",
       "    </tr>\n",
       "  </thead>\n",
       "  <tbody>\n",
       "    <tr>\n",
       "      <th>0</th>\n",
       "      <td>1985</td>\n",
       "      <td>81</td>\n",
       "      <td>1228</td>\n",
       "      <td>64</td>\n",
       "      <td>1328</td>\n",
       "    </tr>\n",
       "    <tr>\n",
       "      <th>1</th>\n",
       "      <td>1985</td>\n",
       "      <td>77</td>\n",
       "      <td>1106</td>\n",
       "      <td>70</td>\n",
       "      <td>1354</td>\n",
       "    </tr>\n",
       "    <tr>\n",
       "      <th>2</th>\n",
       "      <td>1985</td>\n",
       "      <td>63</td>\n",
       "      <td>1112</td>\n",
       "      <td>56</td>\n",
       "      <td>1223</td>\n",
       "    </tr>\n",
       "    <tr>\n",
       "      <th>3</th>\n",
       "      <td>1985</td>\n",
       "      <td>70</td>\n",
       "      <td>1165</td>\n",
       "      <td>54</td>\n",
       "      <td>1432</td>\n",
       "    </tr>\n",
       "    <tr>\n",
       "      <th>4</th>\n",
       "      <td>1985</td>\n",
       "      <td>86</td>\n",
       "      <td>1192</td>\n",
       "      <td>74</td>\n",
       "      <td>1447</td>\n",
       "    </tr>\n",
       "  </tbody>\n",
       "</table>\n",
       "</div>"
      ],
      "text/plain": [
       "   Season  home_score  home_team  away_score  away_team\n",
       "0    1985          81       1228          64       1328\n",
       "1    1985          77       1106          70       1354\n",
       "2    1985          63       1112          56       1223\n",
       "3    1985          70       1165          54       1432\n",
       "4    1985          86       1192          74       1447"
      ]
     },
     "execution_count": 14,
     "metadata": {},
     "output_type": "execute_result"
    }
   ],
   "source": [
    "df_matchups.head()"
   ]
  },
  {
   "cell_type": "markdown",
   "metadata": {},
   "source": [
    "### Merge/join features"
   ]
  },
  {
   "cell_type": "code",
   "execution_count": 16,
   "metadata": {
    "collapsed": false
   },
   "outputs": [],
   "source": [
    "df_matchups = df_matchups.merge(df_features, how=\"inner\",\n",
    "                                left_on=[\"Season\", \"home_team\"],\n",
    "                                right_on=[\"Season\", \"team\"],\n",
    "                                suffixes=(\"_\", \"_home\"))\n",
    "\n",
    "df_matchups = df_matchups.merge(df_features, how=\"inner\",\n",
    "                                left_on=[\"Season\", \"away_team\"],\n",
    "                                right_on=[\"Season\", \"team\"],\n",
    "                                suffixes=(\"_home\", \"_away\"))"
   ]
  },
  {
   "cell_type": "markdown",
   "metadata": {},
   "source": [
    "## Prepare model input features"
   ]
  },
  {
   "cell_type": "code",
   "execution_count": 17,
   "metadata": {
    "collapsed": true
   },
   "outputs": [],
   "source": [
    "from sklearn import preprocessing\n",
    "\n",
    "input_columns = [col for col in df_matchups.columns \n",
    "                 if not (col.startswith(\"team_\")) \n",
    "                 and (col.endswith(\"_away\") or col.endswith(\"_home\"))]\n",
    "\n",
    "x_unscaled = df_matchups[input_columns] \n",
    "scaler = preprocessing.RobustScaler()\n",
    "x = scaler.fit_transform(x_unscaled)"
   ]
  },
  {
   "cell_type": "markdown",
   "metadata": {},
   "source": [
    "## Prepare model target/output features \n",
    "\n",
    "* We're doing supervised machine learning, so we need a target to predict\n",
    "* Target is whether or not the \"home team\" will win"
   ]
  },
  {
   "cell_type": "code",
   "execution_count": 72,
   "metadata": {
    "collapsed": false
   },
   "outputs": [],
   "source": [
    "df_matchups[\"home_win\"] = (df_matchups[\"home_score\"] >\n",
    "                           df_matchups[\"away_score\"])\n",
    "\n",
    "y = df_matchups[\"home_win\"].astype(int)"
   ]
  },
  {
   "cell_type": "code",
   "execution_count": 73,
   "metadata": {
    "collapsed": false
   },
   "outputs": [],
   "source": [
    "from sklearn import model_selection \n",
    "\n",
    "\n",
    "x_train, x_test, y_train, y_test = (model_selection\n",
    "                                    .train_test_split(x, y, test_size=0.2,\n",
    "                                                      random_state=42,\n",
    "                                                      stratify=y))\n"
   ]
  },
  {
   "cell_type": "markdown",
   "metadata": {},
   "source": [
    "## Train a gradient boosted tree "
   ]
  },
  {
   "cell_type": "code",
   "execution_count": 27,
   "metadata": {
    "collapsed": false
   },
   "outputs": [
    {
     "name": "stdout",
     "output_type": "stream",
     "text": [
      "Accuracy: 0.727842113848\n"
     ]
    }
   ],
   "source": [
    "from sklearn import ensemble\n",
    "\n",
    "model_gbm = ensemble.GradientBoostingClassifier(n_estimators=120,\n",
    "                                                subsample=0.75,\n",
    "                                                learning_rate=0.25,\n",
    "                                                max_depth=3)\n",
    "\n",
    "model_gbm.fit(x_train, y_train)\n",
    "\n",
    "print \"Accuracy: %s\" % model_gbm.score(x_test, y_test)"
   ]
  },
  {
   "cell_type": "markdown",
   "metadata": {},
   "source": [
    "## Train a basic neural network\n"
   ]
  },
  {
   "cell_type": "code",
   "execution_count": 74,
   "metadata": {
    "collapsed": false
   },
   "outputs": [],
   "source": [
    "from keras import models\n",
    "from keras import optimizers\n",
    "\n",
    "from keras import layers\n",
    "from keras.wrappers.scikit_learn import KerasClassifier\n",
    "\n",
    "def make_model():\n",
    "    model = models.Sequential()\n",
    "    model.add(layers.Dense(units=100, input_dim=len(input_columns)))\n",
    "    model.add(layers.Activation('sigmoid'))\n",
    "    model.add(layers.Dense(units=2))\n",
    "    model.add(layers.Activation('softmax'))\n",
    "    \n",
    "    model.compile(loss='categorical_crossentropy',\n",
    "                  optimizer=optimizers.RMSprop(lr=0.001),\n",
    "                  metrics=['accuracy'])\n",
    "    return model\n",
    "\n"
   ]
  },
  {
   "cell_type": "code",
   "execution_count": 75,
   "metadata": {
    "collapsed": false
   },
   "outputs": [],
   "source": [
    "from keras.utils import np_utils\n",
    "\n",
    "y_cat_train = np_utils.to_categorical(y_train)\n",
    "y_cat_test = np_utils.to_categorical(y_test)\n"
   ]
  },
  {
   "cell_type": "code",
   "execution_count": 76,
   "metadata": {
    "collapsed": false
   },
   "outputs": [
    {
     "name": "stdout",
     "output_type": "stream",
     "text": [
      "score: 0.731724025419\n"
     ]
    }
   ],
   "source": [
    "model = KerasClassifier(make_model)\n",
    "history = model.fit(x_train, y_train, batch_size=100, epochs=10, verbose=0,\n",
    "                    validation_data=(x_test, y_cat_test))\n",
    "print \"score:\", model.score(x_test, y_test, verbose=0)"
   ]
  },
  {
   "cell_type": "code",
   "execution_count": 84,
   "metadata": {
    "collapsed": false
   },
   "outputs": [
    {
     "data": {
      "text/plain": [
       "(0.7, 0.75)"
      ]
     },
     "execution_count": 84,
     "metadata": {},
     "output_type": "execute_result"
    },
    {
     "data": {
      "image/png": "[encoded data removed]",
      "text/plain": [
       "<matplotlib.figure.Figure at 0x10eaa7250>"
      ]
     },
     "metadata": {},
     "output_type": "display_data"
    }
   ],
   "source": [
    "from matplotlib import pyplot\n",
    "%matplotlib inline\n",
    "\n",
    "pyplot.plot(history.history['acc'])\n",
    "pyplot.plot(history.history['val_acc'])\n",
    "\n",
    "pyplot.legend([\"Training Sample\", \"Test Sample\"])\n",
    "pyplot.xlabel(\"Epoch\")\n",
    "pyplot.ylabel(\"Accuracy\")\n",
    "pyplot.ylim([0.7, 0.75])"
   ]
  },
  {
   "cell_type": "code",
   "execution_count": null,
   "metadata": {
    "collapsed": true
   },
   "outputs": [],
   "source": []
  }
 ],
 "metadata": {
  "kernelspec": {
   "display_name": "Python 2",
   "language": "python",
   "name": "python2"
  },
  "language_info": {
   "codemirror_mode": {
    "name": "ipython",
    "version": 2
   },
   "file_extension": ".py",
   "mimetype": "text/x-python",
   "name": "python",
   "nbconvert_exporter": "python",
   "pygments_lexer": "ipython2",
   "version": "2.7.13"
  }
 },
 "nbformat": 4,
 "nbformat_minor": 1
}
