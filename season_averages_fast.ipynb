{
 "cells": [
  {
   "cell_type": "code",
   "execution_count": 1,
   "metadata": {
    "ExecuteTime": {
     "end_time": "2017-04-30T13:41:23.613826Z",
     "start_time": "2017-04-30T13:41:23.071271"
    },
    "collapsed": true,
    "slideshow": {
     "slide_type": "slide"
    }
   },
   "outputs": [],
   "source": [
    "import numpy\n",
    "import pandas\n"
   ]
  },
  {
   "cell_type": "code",
   "execution_count": 2,
   "metadata": {
    "ExecuteTime": {
     "end_time": "2017-04-30T13:41:23.882248Z",
     "start_time": "2017-04-30T13:41:23.615356"
    },
    "collapsed": true,
    "slideshow": {
     "slide_type": "slide"
    }
   },
   "outputs": [],
   "source": [
    "df_reg = pandas.read_csv('RegularSeasonDetailedResults.csv')\n"
   ]
  },
  {
   "cell_type": "code",
   "execution_count": 4,
   "metadata": {
    "ExecuteTime": {
     "end_time": "2017-04-30T13:41:23.908923Z",
     "start_time": "2017-04-30T13:41:23.898857"
    },
    "collapsed": false
   },
   "outputs": [],
   "source": [
    "loss_cols = ['Season', 'Lteam', 'Lscore', 'Lfgm', 'Lfga', 'Lfgm3', 'Lfga3',\n",
    "             'Lftm', 'Lfta', 'Lor', 'Ldr', 'Last', 'Lto', 'Lstl', 'Lblk',\n",
    "             'Lpf']\n",
    "win_cols = ['Season', 'Wteam', 'Wscore', 'Wfgm', 'Wfga', 'Wfgm3', 'Wfga3',\n",
    "            'Wftm', 'Wfta', 'Wor', 'Wdr', 'Wast', 'Wto', 'Wstl', 'Wblk',\n",
    "            'Wpf']\n",
    "\n",
    "fixed_cols = [col[1:] if col.startswith(\"W\") else col for col in win_cols]\n",
    "\n",
    "stat_cols = fixed_cols[2:]\n"
   ]
  },
  {
   "cell_type": "code",
   "execution_count": 5,
   "metadata": {
    "ExecuteTime": {
     "end_time": "2017-04-30T13:41:23.963785Z",
     "start_time": "2017-04-30T13:41:23.910935"
    },
    "collapsed": false
   },
   "outputs": [],
   "source": [
    "\n",
    "\n",
    "df_win = df_reg[win_cols].copy()\n",
    "df_win.columns = fixed_cols\n",
    "\n",
    "df_loss = df_reg[loss_cols].copy()\n",
    "df_loss.columns = fixed_cols\n",
    "\n",
    "\n",
    "df_all = pandas.concat([df_win, df_loss])"
   ]
  },
  {
   "cell_type": "code",
   "execution_count": 6,
   "metadata": {
    "ExecuteTime": {
     "end_time": "2017-04-30T13:41:24.024762Z",
     "start_time": "2017-04-30T13:41:23.965299"
    },
    "collapsed": false
   },
   "outputs": [],
   "source": [
    "df_mean = df_all.groupby(['team', \"Season\"], as_index=False).agg(\"mean\")"
   ]
  },
  {
   "cell_type": "code",
   "execution_count": 7,
   "metadata": {
    "collapsed": false
   },
   "outputs": [
    {
     "data": {
      "text/html": [
       "<div>\n",
       "<table border=\"1\" class=\"dataframe\">\n",
       "  <thead>\n",
       "    <tr style=\"text-align: right;\">\n",
       "      <th></th>\n",
       "      <th>team</th>\n",
       "      <th>Season</th>\n",
       "      <th>score</th>\n",
       "      <th>fgm</th>\n",
       "      <th>fga</th>\n",
       "      <th>fgm3</th>\n",
       "      <th>fga3</th>\n",
       "      <th>ftm</th>\n",
       "      <th>fta</th>\n",
       "      <th>or</th>\n",
       "      <th>dr</th>\n",
       "      <th>ast</th>\n",
       "      <th>to</th>\n",
       "      <th>stl</th>\n",
       "      <th>blk</th>\n",
       "      <th>pf</th>\n",
       "    </tr>\n",
       "  </thead>\n",
       "  <tbody>\n",
       "    <tr>\n",
       "      <th>0</th>\n",
       "      <td>1101</td>\n",
       "      <td>2014</td>\n",
       "      <td>63.142857</td>\n",
       "      <td>20.333333</td>\n",
       "      <td>50.142857</td>\n",
       "      <td>6.666667</td>\n",
       "      <td>17.857143</td>\n",
       "      <td>15.809524</td>\n",
       "      <td>21.190476</td>\n",
       "      <td>8.000000</td>\n",
       "      <td>20.333333</td>\n",
       "      <td>10.000000</td>\n",
       "      <td>15.000000</td>\n",
       "      <td>5.761905</td>\n",
       "      <td>1.476190</td>\n",
       "      <td>21.571429</td>\n",
       "    </tr>\n",
       "    <tr>\n",
       "      <th>1</th>\n",
       "      <td>1101</td>\n",
       "      <td>2015</td>\n",
       "      <td>61.000000</td>\n",
       "      <td>21.428571</td>\n",
       "      <td>52.928571</td>\n",
       "      <td>7.250000</td>\n",
       "      <td>19.178571</td>\n",
       "      <td>10.892857</td>\n",
       "      <td>14.964286</td>\n",
       "      <td>8.250000</td>\n",
       "      <td>19.642857</td>\n",
       "      <td>11.857143</td>\n",
       "      <td>12.821429</td>\n",
       "      <td>5.928571</td>\n",
       "      <td>1.178571</td>\n",
       "      <td>20.607143</td>\n",
       "    </tr>\n",
       "    <tr>\n",
       "      <th>2</th>\n",
       "      <td>1101</td>\n",
       "      <td>2016</td>\n",
       "      <td>69.851852</td>\n",
       "      <td>23.814815</td>\n",
       "      <td>53.925926</td>\n",
       "      <td>6.851852</td>\n",
       "      <td>18.851852</td>\n",
       "      <td>15.370370</td>\n",
       "      <td>21.740741</td>\n",
       "      <td>8.185185</td>\n",
       "      <td>22.518519</td>\n",
       "      <td>12.888889</td>\n",
       "      <td>13.407407</td>\n",
       "      <td>6.740741</td>\n",
       "      <td>2.444444</td>\n",
       "      <td>22.370370</td>\n",
       "    </tr>\n",
       "    <tr>\n",
       "      <th>3</th>\n",
       "      <td>1101</td>\n",
       "      <td>2017</td>\n",
       "      <td>67.880000</td>\n",
       "      <td>24.440000</td>\n",
       "      <td>53.320000</td>\n",
       "      <td>7.080000</td>\n",
       "      <td>19.080000</td>\n",
       "      <td>11.920000</td>\n",
       "      <td>18.560000</td>\n",
       "      <td>7.560000</td>\n",
       "      <td>22.880000</td>\n",
       "      <td>13.600000</td>\n",
       "      <td>14.480000</td>\n",
       "      <td>7.000000</td>\n",
       "      <td>2.760000</td>\n",
       "      <td>22.160000</td>\n",
       "    </tr>\n",
       "    <tr>\n",
       "      <th>4</th>\n",
       "      <td>1102</td>\n",
       "      <td>2003</td>\n",
       "      <td>57.250000</td>\n",
       "      <td>19.142857</td>\n",
       "      <td>39.785714</td>\n",
       "      <td>7.821429</td>\n",
       "      <td>20.821429</td>\n",
       "      <td>11.142857</td>\n",
       "      <td>17.107143</td>\n",
       "      <td>4.178571</td>\n",
       "      <td>16.821429</td>\n",
       "      <td>13.000000</td>\n",
       "      <td>11.428571</td>\n",
       "      <td>5.964286</td>\n",
       "      <td>1.785714</td>\n",
       "      <td>18.750000</td>\n",
       "    </tr>\n",
       "  </tbody>\n",
       "</table>\n",
       "</div>"
      ],
      "text/plain": [
       "   team  Season      score        fgm        fga      fgm3       fga3  \\\n",
       "0  1101    2014  63.142857  20.333333  50.142857  6.666667  17.857143   \n",
       "1  1101    2015  61.000000  21.428571  52.928571  7.250000  19.178571   \n",
       "2  1101    2016  69.851852  23.814815  53.925926  6.851852  18.851852   \n",
       "3  1101    2017  67.880000  24.440000  53.320000  7.080000  19.080000   \n",
       "4  1102    2003  57.250000  19.142857  39.785714  7.821429  20.821429   \n",
       "\n",
       "         ftm        fta        or         dr        ast         to       stl  \\\n",
       "0  15.809524  21.190476  8.000000  20.333333  10.000000  15.000000  5.761905   \n",
       "1  10.892857  14.964286  8.250000  19.642857  11.857143  12.821429  5.928571   \n",
       "2  15.370370  21.740741  8.185185  22.518519  12.888889  13.407407  6.740741   \n",
       "3  11.920000  18.560000  7.560000  22.880000  13.600000  14.480000  7.000000   \n",
       "4  11.142857  17.107143  4.178571  16.821429  13.000000  11.428571  5.964286   \n",
       "\n",
       "        blk         pf  \n",
       "0  1.476190  21.571429  \n",
       "1  1.178571  20.607143  \n",
       "2  2.444444  22.370370  \n",
       "3  2.760000  22.160000  \n",
       "4  1.785714  18.750000  "
      ]
     },
     "execution_count": 7,
     "metadata": {},
     "output_type": "execute_result"
    }
   ],
   "source": [
    "df_mean.head()"
   ]
  },
  {
   "cell_type": "code",
   "execution_count": 8,
   "metadata": {
    "collapsed": false
   },
   "outputs": [],
   "source": [
    "df_seeds = pandas.read_csv(\"TourneySeeds.csv\")\n",
    "\n",
    "\n",
    "# Seed is a string which includes division, e.g. \"W08\"\n",
    "df_seeds[\"Seed\"] = df_seeds[\"Seed\"].str.slice(1, 3).astype(numpy.int32)\n",
    "\n",
    "# Convert to seed and team IDs to int\n",
    "df_seeds[\"Season\"] = df_seeds[\"Season\"].astype(numpy.int32)\n",
    "df_seeds[\"Team\"] = df_seeds[\"Team\"].astype(numpy.int32)\n",
    "\n"
   ]
  },
  {
   "cell_type": "code",
   "execution_count": 9,
   "metadata": {
    "collapsed": false
   },
   "outputs": [
    {
     "data": {
      "text/html": [
       "<div>\n",
       "<table border=\"1\" class=\"dataframe\">\n",
       "  <thead>\n",
       "    <tr style=\"text-align: right;\">\n",
       "      <th></th>\n",
       "      <th>team</th>\n",
       "      <th>Season</th>\n",
       "      <th>score</th>\n",
       "      <th>fgm</th>\n",
       "      <th>fga</th>\n",
       "      <th>fgm3</th>\n",
       "      <th>fga3</th>\n",
       "      <th>ftm</th>\n",
       "      <th>fta</th>\n",
       "      <th>or</th>\n",
       "      <th>dr</th>\n",
       "      <th>ast</th>\n",
       "      <th>to</th>\n",
       "      <th>stl</th>\n",
       "      <th>blk</th>\n",
       "      <th>pf</th>\n",
       "      <th>Seed</th>\n",
       "    </tr>\n",
       "  </thead>\n",
       "  <tbody>\n",
       "    <tr>\n",
       "      <th>0</th>\n",
       "      <td>1101</td>\n",
       "      <td>2014</td>\n",
       "      <td>63.142857</td>\n",
       "      <td>20.333333</td>\n",
       "      <td>50.142857</td>\n",
       "      <td>6.666667</td>\n",
       "      <td>17.857143</td>\n",
       "      <td>15.809524</td>\n",
       "      <td>21.190476</td>\n",
       "      <td>8.000000</td>\n",
       "      <td>20.333333</td>\n",
       "      <td>10.000000</td>\n",
       "      <td>15.000000</td>\n",
       "      <td>5.761905</td>\n",
       "      <td>1.476190</td>\n",
       "      <td>21.571429</td>\n",
       "      <td>17.0</td>\n",
       "    </tr>\n",
       "    <tr>\n",
       "      <th>1</th>\n",
       "      <td>1101</td>\n",
       "      <td>2015</td>\n",
       "      <td>61.000000</td>\n",
       "      <td>21.428571</td>\n",
       "      <td>52.928571</td>\n",
       "      <td>7.250000</td>\n",
       "      <td>19.178571</td>\n",
       "      <td>10.892857</td>\n",
       "      <td>14.964286</td>\n",
       "      <td>8.250000</td>\n",
       "      <td>19.642857</td>\n",
       "      <td>11.857143</td>\n",
       "      <td>12.821429</td>\n",
       "      <td>5.928571</td>\n",
       "      <td>1.178571</td>\n",
       "      <td>20.607143</td>\n",
       "      <td>17.0</td>\n",
       "    </tr>\n",
       "    <tr>\n",
       "      <th>2</th>\n",
       "      <td>1101</td>\n",
       "      <td>2016</td>\n",
       "      <td>69.851852</td>\n",
       "      <td>23.814815</td>\n",
       "      <td>53.925926</td>\n",
       "      <td>6.851852</td>\n",
       "      <td>18.851852</td>\n",
       "      <td>15.370370</td>\n",
       "      <td>21.740741</td>\n",
       "      <td>8.185185</td>\n",
       "      <td>22.518519</td>\n",
       "      <td>12.888889</td>\n",
       "      <td>13.407407</td>\n",
       "      <td>6.740741</td>\n",
       "      <td>2.444444</td>\n",
       "      <td>22.370370</td>\n",
       "      <td>17.0</td>\n",
       "    </tr>\n",
       "    <tr>\n",
       "      <th>3</th>\n",
       "      <td>1101</td>\n",
       "      <td>2017</td>\n",
       "      <td>67.880000</td>\n",
       "      <td>24.440000</td>\n",
       "      <td>53.320000</td>\n",
       "      <td>7.080000</td>\n",
       "      <td>19.080000</td>\n",
       "      <td>11.920000</td>\n",
       "      <td>18.560000</td>\n",
       "      <td>7.560000</td>\n",
       "      <td>22.880000</td>\n",
       "      <td>13.600000</td>\n",
       "      <td>14.480000</td>\n",
       "      <td>7.000000</td>\n",
       "      <td>2.760000</td>\n",
       "      <td>22.160000</td>\n",
       "      <td>17.0</td>\n",
       "    </tr>\n",
       "    <tr>\n",
       "      <th>4</th>\n",
       "      <td>1102</td>\n",
       "      <td>2003</td>\n",
       "      <td>57.250000</td>\n",
       "      <td>19.142857</td>\n",
       "      <td>39.785714</td>\n",
       "      <td>7.821429</td>\n",
       "      <td>20.821429</td>\n",
       "      <td>11.142857</td>\n",
       "      <td>17.107143</td>\n",
       "      <td>4.178571</td>\n",
       "      <td>16.821429</td>\n",
       "      <td>13.000000</td>\n",
       "      <td>11.428571</td>\n",
       "      <td>5.964286</td>\n",
       "      <td>1.785714</td>\n",
       "      <td>18.750000</td>\n",
       "      <td>17.0</td>\n",
       "    </tr>\n",
       "  </tbody>\n",
       "</table>\n",
       "</div>"
      ],
      "text/plain": [
       "   team  Season      score        fgm        fga      fgm3       fga3  \\\n",
       "0  1101    2014  63.142857  20.333333  50.142857  6.666667  17.857143   \n",
       "1  1101    2015  61.000000  21.428571  52.928571  7.250000  19.178571   \n",
       "2  1101    2016  69.851852  23.814815  53.925926  6.851852  18.851852   \n",
       "3  1101    2017  67.880000  24.440000  53.320000  7.080000  19.080000   \n",
       "4  1102    2003  57.250000  19.142857  39.785714  7.821429  20.821429   \n",
       "\n",
       "         ftm        fta        or         dr        ast         to       stl  \\\n",
       "0  15.809524  21.190476  8.000000  20.333333  10.000000  15.000000  5.761905   \n",
       "1  10.892857  14.964286  8.250000  19.642857  11.857143  12.821429  5.928571   \n",
       "2  15.370370  21.740741  8.185185  22.518519  12.888889  13.407407  6.740741   \n",
       "3  11.920000  18.560000  7.560000  22.880000  13.600000  14.480000  7.000000   \n",
       "4  11.142857  17.107143  4.178571  16.821429  13.000000  11.428571  5.964286   \n",
       "\n",
       "        blk         pf  Seed  \n",
       "0  1.476190  21.571429  17.0  \n",
       "1  1.178571  20.607143  17.0  \n",
       "2  2.444444  22.370370  17.0  \n",
       "3  2.760000  22.160000  17.0  \n",
       "4  1.785714  18.750000  17.0  "
      ]
     },
     "execution_count": 9,
     "metadata": {},
     "output_type": "execute_result"
    }
   ],
   "source": [
    "# Add the seeds to the feature vectors \n",
    "df_features = df_mean.merge(df_seeds,\n",
    "                            left_on=[\"team\", \"Season\"],\n",
    "                            right_on=[\"Team\", \"Season\"], how=\"left\")\n",
    "\n",
    "# Set seeds for unseeded teams to 17\n",
    "df_features.loc[df_features[\"Seed\"].isnull(), \"Seed\"] = 17\n",
    "\n",
    "# We don't need the team name string in the feature vectors\n",
    "del df_features[\"Team\"]\n",
    "\n",
    "\n",
    "df_features.head()"
   ]
  },
  {
   "cell_type": "code",
   "execution_count": 10,
   "metadata": {
    "collapsed": true
   },
   "outputs": [],
   "source": [
    "df_features.to_csv(\"TeamSeasonFeatures.csv\", index=False)"
   ]
  },
  {
   "cell_type": "code",
   "execution_count": null,
   "metadata": {
    "collapsed": true
   },
   "outputs": [],
   "source": []
  }
 ],
 "metadata": {
  "celltoolbar": "Slideshow",
  "kernelspec": {
   "display_name": "Python 2",
   "language": "python",
   "name": "python2"
  },
  "language_info": {
   "codemirror_mode": {
    "name": "ipython",
    "version": 2
   },
   "file_extension": ".py",
   "mimetype": "text/x-python",
   "name": "python",
   "nbconvert_exporter": "python",
   "pygments_lexer": "ipython2",
   "version": "2.7.13"
  }
 },
 "nbformat": 4,
 "nbformat_minor": 2
}
