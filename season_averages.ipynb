{
 "cells": [
  {
   "cell_type": "code",
   "execution_count": 1,
   "metadata": {
    "collapsed": false
   },
   "outputs": [],
   "source": [
    "import pandas\n",
    "from matplotlib import pyplot\n",
    "\n",
    "%matplotlib inline"
   ]
  },
  {
   "cell_type": "code",
   "execution_count": 2,
   "metadata": {
    "collapsed": true
   },
   "outputs": [],
   "source": [
    "teams = pandas.read_csv('Teams.csv')\n",
    "regular_season = pandas.read_csv('RegularSeasonDetailedResults.csv')\n"
   ]
  },
  {
   "cell_type": "code",
   "execution_count": 5,
   "metadata": {
    "collapsed": false
   },
   "outputs": [
    {
     "data": {
      "text/plain": [
       "Index([u'Season', u'Daynum', u'Wteam', u'Wscore', u'Lteam', u'Lscore', u'Wloc',\n",
       "       u'Numot', u'Wfgm', u'Wfga', u'Wfgm3', u'Wfga3', u'Wftm', u'Wfta',\n",
       "       u'Wor', u'Wdr', u'Wast', u'Wto', u'Wstl', u'Wblk', u'Wpf', u'Lfgm',\n",
       "       u'Lfga', u'Lfgm3', u'Lfga3', u'Lftm', u'Lfta', u'Lor', u'Ldr', u'Last',\n",
       "       u'Lto', u'Lstl', u'Lblk', u'Lpf'],\n",
       "      dtype='object')"
      ]
     },
     "execution_count": 5,
     "metadata": {},
     "output_type": "execute_result"
    }
   ],
   "source": [
    "regular_season.columns"
   ]
  },
  {
   "cell_type": "code",
   "execution_count": 7,
   "metadata": {
    "collapsed": false
   },
   "outputs": [
    {
     "name": "stdout",
     "output_type": "stream",
     "text": [
      "          Team_Id    Team_Name  season\n",
      "11012003     1101  Abilene Chr    2003\n",
      "11022003     1102    Air Force    2003\n",
      "11032003     1103        Akron    2003\n",
      "11042003     1104      Alabama    2003\n",
      "11052003     1105  Alabama A&M    2003\n"
     ]
    }
   ],
   "source": [
    "frames = []\n",
    "for season in regular_season.Season.unique():\n",
    "    team_season = teams.copy()\n",
    "    team_season['season'] = season\n",
    "    team_season.index = team_season.Team_Id.apply(str) + team_season.season.apply(str)\n",
    "    frames.append(team_season)\n",
    "\n",
    "team_seasons = pandas.concat(frames)\n",
    "print(team_seasons.head())\n"
   ]
  },
  {
   "cell_type": "code",
   "execution_count": 9,
   "metadata": {
    "collapsed": false
   },
   "outputs": [],
   "source": [
    "loser_columns = ['Lscore', 'Lfgm', 'Lfga', 'Lfgm3', 'Lfga3','Lftm', 'Lfta', 'Lor', 'Ldr', 'Last', 'Lto', 'Lstl', 'Lblk', 'Lpf']\n",
    "winner_columns = ['Wscore', 'Wfgm', 'Wfga', 'Wfgm3', 'Wfga3', 'Wftm', 'Wfta', 'Wor', 'Wdr', 'Wast', 'Wto', 'Wstl', 'Wblk', 'Wpf']\n",
    "fixed_columns = [column[1:] for column in winner_columns]\n",
    "\n"
   ]
  },
  {
   "cell_type": "code",
   "execution_count": 13,
   "metadata": {
    "collapsed": false
   },
   "outputs": [],
   "source": [
    "season_averages = []\n",
    "for index, row in team_seasons.iterrows():\n",
    "    wins = regular_season.Wteam == row.Team_Id\n",
    "    loses = regular_season.Lteam == row.Team_Id\n",
    "    right_season = regular_season.Season == row.season\n",
    "\n",
    "    won_games = regular_season[right_season & wins][winner_columns]\n",
    "    won_games.columns = fixed_columns\n",
    "\n",
    "    lost_games = regular_season[right_season & loses][loser_columns]\n",
    "    lost_games.columns = fixed_columns\n",
    "\n",
    "    games = pandas.concat([won_games, lost_games]).mean()\n",
    "    games['Team_Id'] = row.Team_Id\n",
    "    games['Season'] = row.season\n",
    "    games['Team_Name'] = row.Team_Name\n",
    "    games = games.to_frame().transpose()\n",
    "\n",
    "    season_averages.append(games)\n",
    "\n",
    "season_averages = pandas.concat(season_averages).dropna()\n"
   ]
  },
  {
   "cell_type": "code",
   "execution_count": 14,
   "metadata": {
    "collapsed": false
   },
   "outputs": [
    {
     "data": {
      "text/html": [
       "<div>\n",
       "<table border=\"1\" class=\"dataframe\">\n",
       "  <thead>\n",
       "    <tr style=\"text-align: right;\">\n",
       "      <th></th>\n",
       "      <th>score</th>\n",
       "      <th>fgm</th>\n",
       "      <th>fga</th>\n",
       "      <th>fgm3</th>\n",
       "      <th>fga3</th>\n",
       "      <th>ftm</th>\n",
       "      <th>fta</th>\n",
       "      <th>or</th>\n",
       "      <th>dr</th>\n",
       "      <th>ast</th>\n",
       "      <th>to</th>\n",
       "      <th>stl</th>\n",
       "      <th>blk</th>\n",
       "      <th>pf</th>\n",
       "      <th>Team_Id</th>\n",
       "      <th>Season</th>\n",
       "      <th>Team_Name</th>\n",
       "    </tr>\n",
       "  </thead>\n",
       "  <tbody>\n",
       "    <tr>\n",
       "      <th>0</th>\n",
       "      <td>57.25</td>\n",
       "      <td>19.1429</td>\n",
       "      <td>39.7857</td>\n",
       "      <td>7.82143</td>\n",
       "      <td>20.8214</td>\n",
       "      <td>11.1429</td>\n",
       "      <td>17.1071</td>\n",
       "      <td>4.17857</td>\n",
       "      <td>16.8214</td>\n",
       "      <td>13</td>\n",
       "      <td>11.4286</td>\n",
       "      <td>5.96429</td>\n",
       "      <td>1.78571</td>\n",
       "      <td>18.75</td>\n",
       "      <td>1102</td>\n",
       "      <td>2003</td>\n",
       "      <td>Air Force</td>\n",
       "    </tr>\n",
       "    <tr>\n",
       "      <th>0</th>\n",
       "      <td>78.7778</td>\n",
       "      <td>27.1481</td>\n",
       "      <td>55.8519</td>\n",
       "      <td>5.44444</td>\n",
       "      <td>16.0741</td>\n",
       "      <td>19.037</td>\n",
       "      <td>25.8519</td>\n",
       "      <td>9.77778</td>\n",
       "      <td>19.9259</td>\n",
       "      <td>15.2222</td>\n",
       "      <td>12.6296</td>\n",
       "      <td>7.25926</td>\n",
       "      <td>2.33333</td>\n",
       "      <td>19.8519</td>\n",
       "      <td>1103</td>\n",
       "      <td>2003</td>\n",
       "      <td>Akron</td>\n",
       "    </tr>\n",
       "    <tr>\n",
       "      <th>0</th>\n",
       "      <td>69.2857</td>\n",
       "      <td>24.0357</td>\n",
       "      <td>57.1786</td>\n",
       "      <td>6.35714</td>\n",
       "      <td>19.8571</td>\n",
       "      <td>14.8571</td>\n",
       "      <td>20.9286</td>\n",
       "      <td>13.5714</td>\n",
       "      <td>23.9286</td>\n",
       "      <td>12.1071</td>\n",
       "      <td>13.2857</td>\n",
       "      <td>6.60714</td>\n",
       "      <td>3.78571</td>\n",
       "      <td>18.0357</td>\n",
       "      <td>1104</td>\n",
       "      <td>2003</td>\n",
       "      <td>Alabama</td>\n",
       "    </tr>\n",
       "    <tr>\n",
       "      <th>0</th>\n",
       "      <td>71.7692</td>\n",
       "      <td>24.3846</td>\n",
       "      <td>61.6154</td>\n",
       "      <td>7.57692</td>\n",
       "      <td>20.7692</td>\n",
       "      <td>15.4231</td>\n",
       "      <td>21.8462</td>\n",
       "      <td>13.5</td>\n",
       "      <td>23.1154</td>\n",
       "      <td>14.5385</td>\n",
       "      <td>18.6538</td>\n",
       "      <td>9.30769</td>\n",
       "      <td>2.07692</td>\n",
       "      <td>20.2308</td>\n",
       "      <td>1105</td>\n",
       "      <td>2003</td>\n",
       "      <td>Alabama A&amp;M</td>\n",
       "    </tr>\n",
       "    <tr>\n",
       "      <th>0</th>\n",
       "      <td>63.6071</td>\n",
       "      <td>23.4286</td>\n",
       "      <td>55.2857</td>\n",
       "      <td>6.10714</td>\n",
       "      <td>17.6429</td>\n",
       "      <td>10.6429</td>\n",
       "      <td>16.4643</td>\n",
       "      <td>12.2857</td>\n",
       "      <td>23.8571</td>\n",
       "      <td>11.6786</td>\n",
       "      <td>17.0357</td>\n",
       "      <td>8.35714</td>\n",
       "      <td>3.14286</td>\n",
       "      <td>18.1786</td>\n",
       "      <td>1106</td>\n",
       "      <td>2003</td>\n",
       "      <td>Alabama St</td>\n",
       "    </tr>\n",
       "  </tbody>\n",
       "</table>\n",
       "</div>"
      ],
      "text/plain": [
       "     score      fgm      fga     fgm3     fga3      ftm      fta       or  \\\n",
       "0    57.25  19.1429  39.7857  7.82143  20.8214  11.1429  17.1071  4.17857   \n",
       "0  78.7778  27.1481  55.8519  5.44444  16.0741   19.037  25.8519  9.77778   \n",
       "0  69.2857  24.0357  57.1786  6.35714  19.8571  14.8571  20.9286  13.5714   \n",
       "0  71.7692  24.3846  61.6154  7.57692  20.7692  15.4231  21.8462     13.5   \n",
       "0  63.6071  23.4286  55.2857  6.10714  17.6429  10.6429  16.4643  12.2857   \n",
       "\n",
       "        dr      ast       to      stl      blk       pf Team_Id Season  \\\n",
       "0  16.8214       13  11.4286  5.96429  1.78571    18.75    1102   2003   \n",
       "0  19.9259  15.2222  12.6296  7.25926  2.33333  19.8519    1103   2003   \n",
       "0  23.9286  12.1071  13.2857  6.60714  3.78571  18.0357    1104   2003   \n",
       "0  23.1154  14.5385  18.6538  9.30769  2.07692  20.2308    1105   2003   \n",
       "0  23.8571  11.6786  17.0357  8.35714  3.14286  18.1786    1106   2003   \n",
       "\n",
       "     Team_Name  \n",
       "0    Air Force  \n",
       "0        Akron  \n",
       "0      Alabama  \n",
       "0  Alabama A&M  \n",
       "0   Alabama St  "
      ]
     },
     "execution_count": 14,
     "metadata": {},
     "output_type": "execute_result"
    }
   ],
   "source": [
    "season_averages.head()"
   ]
  },
  {
   "cell_type": "code",
   "execution_count": 15,
   "metadata": {
    "collapsed": true
   },
   "outputs": [],
   "source": [
    "season_averages.to_csv(\"SeasonAverages.csv\", index=False)"
   ]
  },
  {
   "cell_type": "code",
   "execution_count": null,
   "metadata": {
    "collapsed": true
   },
   "outputs": [],
   "source": []
  }
 ],
 "metadata": {
  "anaconda-cloud": {},
  "kernelspec": {
   "display_name": "Python [default]",
   "language": "python",
   "name": "python2"
  },
  "language_info": {
   "codemirror_mode": {
    "name": "ipython",
    "version": 2
   },
   "file_extension": ".py",
   "mimetype": "text/x-python",
   "name": "python",
   "nbconvert_exporter": "python",
   "pygments_lexer": "ipython2",
   "version": "2.7.12"
  }
 },
 "nbformat": 4,
 "nbformat_minor": 1
}
